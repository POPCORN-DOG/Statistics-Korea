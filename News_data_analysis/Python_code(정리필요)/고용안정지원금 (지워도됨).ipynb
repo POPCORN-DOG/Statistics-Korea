{
 "cells": [
  {
   "cell_type": "code",
   "execution_count": 1,
   "metadata": {},
   "outputs": [],
   "source": [
    "import pandas as pd\n",
    "import glob\n",
    "import os\n",
    "import numpy as np\n",
    "import re\n",
    "import time\n",
    "from tqdm import tqdm\n",
    "from konlpy.tag import Okt\n",
    "from gensim.models import Word2Vec\n",
    "from gensim.models import KeyedVectors\n",
    "import matplotlib.pyplot as plt\n",
    "from urllib.request import urlopen\n",
    "import urllib.request as req\n",
    "from bs4 import BeautifulSoup\n",
    "import pandas as pd\n",
    "import numpy as np\n",
    "from urllib.request import urlopen #url의 html 을 가져 오기 위한 패키지\n",
    "from bs4 import BeautifulSoup  #크롤링 필수 패키지 설치하려면 cmd창에서 pip install bs4\n",
    "import os\n",
    "import re\n",
    "from selenium import webdriver\n",
    "from bs4 import BeautifulSoup #크롤링 도구\n",
    "from selenium.webdriver.common.keys import Keys\n",
    "import time\n",
    "from tqdm import tqdm\n",
    "import os\n",
    "import re\n",
    "import time\n",
    "import json\n",
    "import datetime\n",
    "from konlpy.tag import Okt\n",
    "from gensim.models import Word2Vec\n",
    "from gensim.models import KeyedVectors\n",
    "import matplotlib.pyplot as plt\n",
    "import sklearn.metrics as metrics\n",
    "from sklearn.metrics import confusion_matrix\n",
    "from sklearn.metrics import classification_report\n",
    "import pylab as pl\n",
    "import statsmodels.api as sm\n",
    "from sklearn.cluster import DBSCAN\n",
    "import sklearn as skl\n",
    "import sklearn.model_selection\n",
    "from sklearn.neural_network import MLPClassifier\n",
    "from sklearn.metrics import classification_report,confusion_matrix\n",
    "from sklearn.neighbors import KNeighborsClassifier\n",
    "import random\n",
    "from sklearn.datasets import make_classification\n",
    "from sklearn.decomposition import PCA\n",
    "from imblearn.over_sampling import SMOTE\n",
    "from ckonlpy.tag import Twitter\n",
    "import string\n",
    "import glob\n",
    "from pprint import pprint\n",
    "import gensim\n",
    "import gensim.corpora as corpora\n",
    "from gensim.models import CoherenceModel\n",
    "import pyLDAvis\n",
    "import pyLDAvis.gensim\n",
    "import warnings\n",
    "import seaborn as sns\n",
    "from scipy.cluster.hierarchy import linkage, dendrogram\n",
    "from matplotlib import font_manager, rc\n",
    "from ckonlpy.tag import Postprocessor\n"
   ]
  },
  {
   "cell_type": "code",
   "execution_count": 17,
   "metadata": {},
   "outputs": [],
   "source": [
    "d = pd.read_csv('C:/Users/USER/Desktop/고용유지지원금2.csv', encoding = 'CP949', index_col = False,header = None)\n",
    "urllist = d.iloc[:,1]"
   ]
  },
  {
   "cell_type": "code",
   "execution_count": 18,
   "metadata": {},
   "outputs": [
    {
     "name": "stderr",
     "output_type": "stream",
     "text": [
      "  0%|                                                                                           | 0/20 [00:00<?, ?it/s]C:\\Users\\USER\\anaconda3\\lib\\site-packages\\bs4\\element.py:1615: DeprecationWarning: Using or importing the ABCs from 'collections' instead of from 'collections.abc' is deprecated since Python 3.3,and in 3.9 it will stop working\n",
      "  if (isinstance(value, str) or isinstance(value, collections.Callable) or hasattr(value, 'match')\n",
      "100%|██████████████████████████████████████████████████████████████████████████████████| 20/20 [00:05<00:00,  3.39it/s]\n"
     ]
    }
   ],
   "source": [
    "\n",
    "data = pd.DataFrame(columns=['date', 'title', 'text', 'category','url'])\n",
    "j = 0\n",
    "for i in tqdm(urllist):\n",
    "    try:\n",
    "        requrl = req.Request(i, headers={'User-Agent': 'Mozilla/5.0'})\n",
    "        webpage = urlopen(requrl)\n",
    "        soup = BeautifulSoup(webpage, \"html.parser\")\n",
    "        #webpage = urlopen(i)\n",
    "        #soup = BeautifulSoup(webpage, 'html.parser')\n",
    "\n",
    "        aa = soup.select('.article_info  h3#articleTitle')\n",
    "        test_name = aa[0].text  # 제목 가져오기\n",
    "\n",
    "        aa = soup.select('.article_info .t11')\n",
    "        aa[0].text[0:10]\n",
    "        test_date = datetime.datetime.strptime(aa[0].text[0:10], '%Y.%m.%d')  # 날짜 가져오기\n",
    "\n",
    "        # 본문가져오고 정제하기\n",
    "        aa = soup.select('#articleBodyContents')\n",
    "        te = aa[0].text.replace(soup.select('#articleBodyContents script')[0].text, \"\")\n",
    "        trash = [i.text for i in soup.select('#articleBodyContents a')]\n",
    "        for k in trash:\n",
    "            te = te.replace(k, \"\")\n",
    "        text = te.replace('\\n', \"\").replace(\"  \", \"\").replace('\\t', \"\").replace('무단 전재 및 재배포 금지', \"\")\n",
    "\n",
    "        cate = '경제' if len(re.findall('sid1=101',i)) == 1 else '사회'\n",
    "        tlist = [test_date, test_name, text, cate,i]\n",
    "        data.loc[j, :] = tlist\n",
    "        j = j + 1\n",
    "    except:\n",
    "        tlist = [0,0,0,0,0]\n",
    "        data.loc[j, :] = tlist\n",
    "        j = j + 1\n",
    "del i; del j;  #del soup; del test_date; del test_name; del text; del tlist; del trash; del k; del cate;\n",
    "#본문 전처리\n",
    "data = data.drop_duplicates() #중복제거\n",
    "data = data[data['text'] != 0] #0인 값 제거"
   ]
  },
  {
   "cell_type": "code",
   "execution_count": 19,
   "metadata": {},
   "outputs": [
    {
     "data": {
      "text/html": [
       "<div>\n",
       "<style scoped>\n",
       "    .dataframe tbody tr th:only-of-type {\n",
       "        vertical-align: middle;\n",
       "    }\n",
       "\n",
       "    .dataframe tbody tr th {\n",
       "        vertical-align: top;\n",
       "    }\n",
       "\n",
       "    .dataframe thead th {\n",
       "        text-align: right;\n",
       "    }\n",
       "</style>\n",
       "<table border=\"1\" class=\"dataframe\">\n",
       "  <thead>\n",
       "    <tr style=\"text-align: right;\">\n",
       "      <th></th>\n",
       "      <th>date</th>\n",
       "      <th>title</th>\n",
       "      <th>text</th>\n",
       "      <th>category</th>\n",
       "      <th>url</th>\n",
       "    </tr>\n",
       "  </thead>\n",
       "  <tbody>\n",
       "    <tr>\n",
       "      <th>0</th>\n",
       "      <td>2019-04-02 00:00:00</td>\n",
       "      <td>\"이러다 공장 문 닫을 수도\"…르노삼성차 협력업체 '이중고'</td>\n",
       "      <td>부산상의 30개사 조사…파업 장기화에 생산감소·고용유지 애로르노삼성차 노사분규[연합...</td>\n",
       "      <td>경제</td>\n",
       "      <td>https://news.naver.com/main/read.nhn?mode=LSD&amp;...</td>\n",
       "    </tr>\n",
       "    <tr>\n",
       "      <th>1</th>\n",
       "      <td>2019-04-02 00:00:00</td>\n",
       "      <td>르노삼성차 사태 장기화, 부산지역 협력업체 피해규모 ‘눈덩이’</td>\n",
       "      <td>-부산상의 조사, 물량 급감에 통상임금 40% 잔업수당 감소-일부 납품업체, 사태 ...</td>\n",
       "      <td>사회</td>\n",
       "      <td>https://news.naver.com/main/read.nhn?mode=LSD&amp;...</td>\n",
       "    </tr>\n",
       "    <tr>\n",
       "      <th>2</th>\n",
       "      <td>2019-04-02 00:00:00</td>\n",
       "      <td>르노삼성차 협력업체, 사태 장기화 우려 고용유지 빨간불</td>\n",
       "      <td>협력업체 직원, 납품물량 급감으로 통상임금 40% 달하는 잔업수당 감소로 고통부산시...</td>\n",
       "      <td>사회</td>\n",
       "      <td>https://news.naver.com/main/read.nhn?mode=LSD&amp;...</td>\n",
       "    </tr>\n",
       "    <tr>\n",
       "      <th>3</th>\n",
       "      <td>2019-04-02 00:00:00</td>\n",
       "      <td>르노삼성 부산 협력업체, 납품물량·임금 최대 40%↓ 일자리 '위태'</td>\n",
       "      <td>부산상의 지역 33개 협력업체 긴급 모니터링 결과, 업체별 15~40% 생산량 줄어...</td>\n",
       "      <td>사회</td>\n",
       "      <td>https://news.naver.com/main/read.nhn?mode=LSD&amp;...</td>\n",
       "    </tr>\n",
       "    <tr>\n",
       "      <th>4</th>\n",
       "      <td>2019-04-02 00:00:00</td>\n",
       "      <td>\"이러다 공장 문 닫을 수도\"…르노삼성차 협력업체 '이중고'</td>\n",
       "      <td>부산상의 30개사 조사…파업 장기화에 생산감소·고용유지 애로르노삼성차 노사분규[연합...</td>\n",
       "      <td>사회</td>\n",
       "      <td>https://news.naver.com/main/read.nhn?mode=LSD&amp;...</td>\n",
       "    </tr>\n",
       "  </tbody>\n",
       "</table>\n",
       "</div>"
      ],
      "text/plain": [
       "                  date                                     title  \\\n",
       "0  2019-04-02 00:00:00         \"이러다 공장 문 닫을 수도\"…르노삼성차 협력업체 '이중고'   \n",
       "1  2019-04-02 00:00:00        르노삼성차 사태 장기화, 부산지역 협력업체 피해규모 ‘눈덩이’   \n",
       "2  2019-04-02 00:00:00            르노삼성차 협력업체, 사태 장기화 우려 고용유지 빨간불   \n",
       "3  2019-04-02 00:00:00  르노삼성 부산 협력업체, 납품물량·임금 최대 40%↓ 일자리 '위태'     \n",
       "4  2019-04-02 00:00:00         \"이러다 공장 문 닫을 수도\"…르노삼성차 협력업체 '이중고'   \n",
       "\n",
       "                                                text category  \\\n",
       "0  부산상의 30개사 조사…파업 장기화에 생산감소·고용유지 애로르노삼성차 노사분규[연합...       경제   \n",
       "1  -부산상의 조사, 물량 급감에 통상임금 40% 잔업수당 감소-일부 납품업체, 사태 ...       사회   \n",
       "2  협력업체 직원, 납품물량 급감으로 통상임금 40% 달하는 잔업수당 감소로 고통부산시...       사회   \n",
       "3  부산상의 지역 33개 협력업체 긴급 모니터링 결과, 업체별 15~40% 생산량 줄어...       사회   \n",
       "4  부산상의 30개사 조사…파업 장기화에 생산감소·고용유지 애로르노삼성차 노사분규[연합...       사회   \n",
       "\n",
       "                                                 url  \n",
       "0  https://news.naver.com/main/read.nhn?mode=LSD&...  \n",
       "1  https://news.naver.com/main/read.nhn?mode=LSD&...  \n",
       "2  https://news.naver.com/main/read.nhn?mode=LSD&...  \n",
       "3  https://news.naver.com/main/read.nhn?mode=LSD&...  \n",
       "4  https://news.naver.com/main/read.nhn?mode=LSD&...  "
      ]
     },
     "execution_count": 19,
     "metadata": {},
     "output_type": "execute_result"
    }
   ],
   "source": [
    "data.head()"
   ]
  },
  {
   "cell_type": "code",
   "execution_count": 40,
   "metadata": {},
   "outputs": [
    {
     "name": "stderr",
     "output_type": "stream",
     "text": [
      "\n",
      "  0%|                                                                                           | 0/14 [00:00<?, ?it/s]\u001b[A\n",
      " 21%|█████████████████▊                                                                 | 3/14 [00:00<00:00, 29.79it/s]\u001b[A\n",
      " 50%|█████████████████████████████████████████▌                                         | 7/14 [00:00<00:00, 29.76it/s]\u001b[A\n",
      "100%|██████████████████████████████████████████████████████████████████████████████████| 14/14 [00:00<00:00, 29.74it/s]\u001b[A\n",
      "\n",
      "100%|█████████████████████████████████████████████████████████████████████████████████| 14/14 [00:00<00:00, 778.57it/s]\u001b[A\n"
     ]
    }
   ],
   "source": [
    "\n",
    "twi = Twitter()\n",
    "add_noun = ['비대면','확진자','거리두기','사랑제일교회','의료기관','의료진','집단감염','유연근무','유연근무제','유연근로제','한국판뉴딜','디지털뉴딜',\n",
    "            '그린뉴딜','휴먼뉴딜','취약계층','긴급재난지원금','고용보험','진료거부','택배기사','선별진료소','고용보험','특수고용직','특고','재배포','고용유지지원금','언택트'\n",
    "            '고용안정지원금','공유오피스','공용오피스','저소득층','실업급여','유통업계','물류센터','소상공인','유연근로','특수형태근로자','특수형태근로종사자']\n",
    "eco_word = pd.read_excel('C:/Users/USER/Desktop/★주요키워드 및 배제어.xlsx')\n",
    "eco_keyword = list(eco_word['경제키워드'])\n",
    "for i in eco_keyword:\n",
    "    add_noun.append(i)\n",
    "\n",
    "#새로운 단어 등록 하기\n",
    "for i in add_noun:\n",
    "    twi.add_dictionary(i,'Noun')\n",
    "\n",
    "#통합어 만들기\n",
    "replace = {'유연근로제':'유연근무제','유연근무':'유연근무제','유연근로':'유연근무제','특고':'특수고용직','특수형태근로자':'특수고용직','특수형태근로종사자':'특수고용직'}\n",
    "postprocessor = Postprocessor(base_tagger=twi, replace=replace, passtags={'Noun'})\n",
    "\n",
    "#단어 등록 확인하기\n",
    "postprocessor.pos('확진자와 비대면으로 거리두기를 사랑제일교회에서부터 전광훈이 사전조사 의료기관과 의료진이 집단감염이 걸려 집단감염, 재택근무하고 '\n",
    "          '유연근무와 유연근무제를 하고 지역경제와 한국판뉴딜과 그린뉴딜과 디지털뉴딜을 휴면뉴딜하고 취약계층의 긴급재난지원금을 특수고용직에게'\n",
    "          '고용보험을 진료거부하며 택배기사는 온라인수업으로 선별진료소로 간다 소상공인 갭투자를 계액갱신공매공매도공시가격과징금과학기술괴리율국가경쟁력국내총생산'\n",
    "          '국민건강보험국민연금국제원유가격규제지역그린뉴딜그린벨트금리금리인하금융기관금융세제금융위기금융지원배달서비스배당금배터리백신보유세보이스피싱부동산부동산시장'\n",
    "          '분양가분양가상한제불법사금융블록체인비상경제비상경제회의빅데이터사모펀드사이드카사회적거리두기산유국상장주식상장지수증권상장지수펀드생필품서킷브레이커선물세트선물환세금'\n",
    "          '세입자셧다운소비심리소상공인손소독제수소차수출규제스마트스토어스마트팜스타트업시장심리지수신용대출신용등급신용카드신재생에너지실물경제실업자안전자산액화천연가스양도세양도소득양도소득세'\n",
    "          '양도차익양적완화에너지저장시스템오픈뱅킹온라인쇼핑몰외환시장외환위기용적률우선주운전자보험원격수업원격의료원달러환율위안화 AI에서 특수형태근로종사자와 특수형태근로자와 특고')\n",
    "\n",
    "#형태소 분석 하기\n",
    "words = [[j[i][0] for i in range(len(j))] for j in [postprocessor.pos(i) for i in tqdm(list(data['text']))]]\n",
    "\n",
    "\n",
    "#배제어 등록하기\n",
    "Prohibit_words = ['기자','연합뉴스','뉴시스','시사저널','신문','뉴스','사진','헤럴드경제','노컷뉴스','파이낸셜뉴스','특파원',\n",
    "                  '라며','대해','지난','위해','오전','오후','무단','배포','이데일리','머니투데이','앵커','지금','때문','이번',\n",
    "                  '통해','정도','경우','관련','이미지','출처','일보','바로가기','까지','여개','도록','이나','재배포','처럼','면서',\n",
    "                  '거나','이제','지난달','어요']\n",
    "for i in list(eco_word['배제어']):\n",
    "    Prohibit_words.append(i)\n",
    "#배제어 제거, 한 글자 제거하기\n",
    "j = 0\n",
    "for i in tqdm(words):\n",
    "    for k in Prohibit_words:\n",
    "        while k in i:\n",
    "            i.remove(k)\n",
    "    words[j] = i\n",
    "    j += 1 #불용어 제외\n",
    "\n",
    "for k in range(len(words)):\n",
    "    words[k] = [i for i in words[k] if len(i) > 1]  # 한글자 제외"
   ]
  },
  {
   "cell_type": "code",
   "execution_count": 41,
   "metadata": {},
   "outputs": [
    {
     "name": "stdout",
     "output_type": "stream",
     "text": [
      "14\n",
      "14\n"
     ]
    }
   ],
   "source": [
    "print(len(data))\n",
    "print(len(words))"
   ]
  },
  {
   "cell_type": "code",
   "execution_count": 42,
   "metadata": {},
   "outputs": [],
   "source": [
    "for k in range(len(words)):\n",
    "    words[k] = [i for i in words[k] if len(i) > 2 or i in ['배달','택배','고용','취업','실업','채용','구직','청년','유통','해고']]  # 두글자 이하 제외\n",
    "data['words'] = words"
   ]
  },
  {
   "cell_type": "code",
   "execution_count": 47,
   "metadata": {},
   "outputs": [
    {
     "name": "stdout",
     "output_type": "stream",
     "text": [
      "0     False\n",
      "1     False\n",
      "2     False\n",
      "3     False\n",
      "4      True\n",
      "7     False\n",
      "8     False\n",
      "9     False\n",
      "10     True\n",
      "11    False\n",
      "14    False\n",
      "15    False\n",
      "16    False\n",
      "19    False\n",
      "dtype: bool\n",
      "14\n",
      "12\n"
     ]
    }
   ],
   "source": [
    "print(data.duplicated(['text'])) #중복제거\n",
    "print(len(data))\n",
    "data = data.drop_duplicates(['text'])\n",
    "print(len(data))"
   ]
  },
  {
   "cell_type": "code",
   "execution_count": 48,
   "metadata": {},
   "outputs": [
    {
     "name": "stderr",
     "output_type": "stream",
     "text": [
      "\n",
      "100%|██████████████████████████████████████████████████████████████████████████████████████████| 12/12 [00:00<?, ?it/s]\u001b[A"
     ]
    },
    {
     "name": "stdout",
     "output_type": "stream",
     "text": [
      "[44, 42, 35, 31, 35, 103, 24, 75, 91, 77, 27, 33]\n"
     ]
    },
    {
     "name": "stderr",
     "output_type": "stream",
     "text": [
      "\n"
     ]
    }
   ],
   "source": [
    "print([len(i) for i in tqdm(data['words'])])"
   ]
  },
  {
   "cell_type": "code",
   "execution_count": 53,
   "metadata": {},
   "outputs": [],
   "source": [
    "\n",
    "def topic(word):\n",
    "    bb2 = data\n",
    "    news = bb2['words']\n",
    "    id2word = corpora.Dictionary(news)\n",
    "    texts = news\n",
    "    corpus = [id2word.doc2bow(text) for text in texts]\n",
    "\n",
    "    def compute_coherence_values(dictionary, corpus, texts, limit, start=2, step=3):\n",
    "        coherence_values = []\n",
    "        model_list = []\n",
    "        for num_topics in tqdm(range(start, limit, step)):\n",
    "\n",
    "            model = gensim.models.ldamodel.LdaModel(corpus=corpus,\n",
    "                                                    id2word=id2word,\n",
    "                                                    num_topics=num_topics,\n",
    "                                                    random_state=100,\n",
    "                                                    update_every=1,\n",
    "                                                    chunksize=100,\n",
    "                                                    passes=10,\n",
    "                                                    alpha='auto',\n",
    "                                                    per_word_topics=True)\n",
    "            model_list.append(model)\n",
    "            coherencemodel = CoherenceModel(model=model, texts=texts, dictionary=dictionary, coherence='c_v')\n",
    "            coherence_values.append(coherencemodel.get_coherence())\n",
    "        return model_list, coherence_values\n",
    "    model_list, coherence_values = compute_coherence_values(dictionary=id2word, corpus=corpus, texts=texts, start=2,\n",
    "                                                            limit=20, step=1)\n",
    "\n",
    "    # Show graph\n",
    "    limit = 20; start = 2; step = 1;\n",
    "    x = range(start, limit, step)\n",
    "    plt.plot(x, coherence_values)\n",
    "    plt.xlabel(\"Num Topics\")\n",
    "    plt.ylabel(\"Coherence score\")\n",
    "    plt.legend((\"coherence_values\"), loc='best')\n",
    "    plt.show()\n",
    "    print(coherence_values.index(max(coherence_values)) + 2,'개의 주제가 이상적')\n",
    "    print(word)\n",
    "    #주제 dataframe화 하기\n",
    "    coherence_values.index(max(coherence_values))\n",
    "    optimal_model = model_list[coherence_values.index(max(coherence_values))]\n",
    "    topic_dic = {}\n",
    "    for i in range(coherence_values.index(max(coherence_values)) + 2):\n",
    "        words2 = optimal_model.show_topic(i, topn=20)\n",
    "        topic_dic['topic ' + '{:02d}'.format(i + 1)] = [i[0] for i in words2]\n",
    "    da = pd.DataFrame(topic_dic)\n",
    "    return da\n"
   ]
  },
  {
   "cell_type": "code",
   "execution_count": 54,
   "metadata": {},
   "outputs": [
    {
     "name": "stderr",
     "output_type": "stream",
     "text": [
      "\n",
      "  0%|                                                                                           | 0/18 [00:00<?, ?it/s]\u001b[A\n",
      "  6%|████▌                                                                              | 1/18 [00:02<00:42,  2.50s/it]\u001b[A\n",
      " 11%|█████████▏                                                                         | 2/18 [00:10<01:04,  4.05s/it]\u001b[A\n",
      " 17%|█████████████▊                                                                     | 3/18 [00:17<01:17,  5.14s/it]\u001b[A\n",
      " 22%|██████████████████▍                                                                | 4/18 [00:25<01:22,  5.91s/it]\u001b[A\n",
      " 28%|███████████████████████                                                            | 5/18 [00:33<01:23,  6.46s/it]\u001b[A\n",
      " 33%|███████████████████████████▋                                                       | 6/18 [00:41<01:22,  6.85s/it]\u001b[A\n",
      " 39%|████████████████████████████████▎                                                  | 7/18 [00:48<01:18,  7.13s/it]\u001b[A\n",
      " 44%|████████████████████████████████████▉                                              | 8/18 [00:56<01:13,  7.33s/it]\u001b[A\n",
      " 50%|█████████████████████████████████████████▌                                         | 9/18 [01:04<01:07,  7.48s/it]\u001b[A\n",
      " 56%|█████████████████████████████████████████████▌                                    | 10/18 [01:12<01:00,  7.58s/it]\u001b[A\n",
      " 61%|██████████████████████████████████████████████████                                | 11/18 [01:20<00:53,  7.67s/it]\u001b[A\n",
      " 67%|██████████████████████████████████████████████████████▋                           | 12/18 [01:28<00:46,  7.76s/it]\u001b[A\n",
      " 72%|███████████████████████████████████████████████████████████▏                      | 13/18 [01:36<00:39,  7.89s/it]\u001b[A\n",
      " 78%|███████████████████████████████████████████████████████████████▊                  | 14/18 [01:44<00:32,  8.01s/it]\u001b[A\n",
      " 83%|████████████████████████████████████████████████████████████████████▎             | 15/18 [01:52<00:24,  8.06s/it]\u001b[A\n",
      " 89%|████████████████████████████████████████████████████████████████████████▉         | 16/18 [02:01<00:16,  8.13s/it]\u001b[A\n",
      " 94%|█████████████████████████████████████████████████████████████████████████████▍    | 17/18 [02:09<00:08,  8.15s/it]\u001b[A\n",
      "100%|██████████████████████████████████████████████████████████████████████████████████| 18/18 [02:17<00:00,  7.63s/it]\u001b[A\n"
     ]
    },
    {
     "data": {
      "image/png": "[encoded data removed]",
      "text/plain": [
       "<Figure size 432x288 with 1 Axes>"
      ]
     },
     "metadata": {
      "needs_background": "light"
     },
     "output_type": "display_data"
    },
    {
     "name": "stdout",
     "output_type": "stream",
     "text": [
      "17 개의 주제가 이상적\n",
      "asd\n"
     ]
    }
   ],
   "source": [
    "a = topic('asd')"
   ]
  },
  {
   "cell_type": "code",
   "execution_count": 55,
   "metadata": {},
   "outputs": [],
   "source": [
    "a.to_excel('C:/Users/USER/Desktop/1~8newsurl/topicmodeling/고용유지지원금2글자제거.xlsx', header=True) "
   ]
  },
  {
   "cell_type": "code",
   "execution_count": null,
   "metadata": {},
   "outputs": [],
   "source": []
  }
 ],
 "metadata": {
  "kernelspec": {
   "display_name": "Python 3",
   "language": "python",
   "name": "python3"
  },
  "language_info": {
   "codemirror_mode": {
    "name": "ipython",
    "version": 3
   },
   "file_extension": ".py",
   "mimetype": "text/x-python",
   "name": "python",
   "nbconvert_exporter": "python",
   "pygments_lexer": "ipython3",
   "version": "3.7.6"
  }
 },
 "nbformat": 4,
 "nbformat_minor": 4
}
