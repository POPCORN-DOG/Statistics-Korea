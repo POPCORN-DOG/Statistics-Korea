{
 "cells": [
  {
   "cell_type": "code",
   "execution_count": 1,
   "metadata": {},
   "outputs": [],
   "source": [
    "import pandas as pd\n",
    "import numpy as np\n",
    "from urllib.request import urlopen #url의 html 을 가져 오기 위한 패키지\n",
    "from bs4 import BeautifulSoup  #크롤링 필수 패키지 설치하려면 cmd창에서 pip install bs4\n",
    "import os\n",
    "import re\n",
    "from selenium import webdriver\n",
    "from bs4 import BeautifulSoup #크롤링 도구\n",
    "from selenium.webdriver.common.keys import Keys\n",
    "import time\n",
    "from tqdm import tqdm\n",
    "import os\n",
    "import re\n",
    "import time\n",
    "import json\n",
    "import datetime\n",
    "from konlpy.tag import Okt\n",
    "from gensim.models import Word2Vec\n",
    "from gensim.models import KeyedVectors\n",
    "import matplotlib.pyplot as plt\n",
    "import sklearn.metrics as metrics\n",
    "from sklearn.metrics import confusion_matrix\n",
    "from sklearn.metrics import classification_report\n",
    "import pylab as pl\n",
    "import statsmodels.api as sm\n",
    "from sklearn.cluster import DBSCAN\n",
    "import sklearn as skl\n",
    "import sklearn.model_selection\n",
    "from sklearn.neural_network import MLPClassifier\n",
    "from sklearn.metrics import classification_report,confusion_matrix\n",
    "from sklearn.neighbors import KNeighborsClassifier\n",
    "import random\n",
    "from sklearn.datasets import make_classification\n",
    "from sklearn.decomposition import PCA\n",
    "from imblearn.over_sampling import SMOTE\n",
    "from ckonlpy.tag import Twitter\n",
    "import string\n",
    "import glob\n",
    "from pprint import pprint\n",
    "import gensim\n",
    "import gensim.corpora as corpora\n",
    "from gensim.models import CoherenceModel\n",
    "import pyLDAvis\n",
    "import pyLDAvis.gensim\n",
    "import warnings\n",
    "import seaborn as sns\n",
    "from scipy.cluster.hierarchy import linkage, dendrogram\n",
    "from matplotlib import font_manager, rc\n",
    "from ckonlpy.tag import Postprocessor\n",
    "#글씨체\n",
    "font_name = font_manager.FontProperties(fname='C:/Windows/Fonts/H2HDRM.TTF').get_name()\n",
    "rc('font', family=font_name)\n",
    "#모델 데이터 불러오기\n",
    "data50 = pd.read_excel('C:/Users/USER/Desktop/1~8newsurl/data0923.xlsx', index_col=0)#데이터 불러오기\n",
    "embedding_model = KeyedVectors.load_word2vec_format('C:/Users/USER/Desktop/1~8newsurl/w2v0923') # 모델 로드\n",
    "data50['words'] = [i.replace(\"'\", \"\").replace('[', '').replace(']', '').replace(' ', '').split(',') for i in\n",
    "          list(data50['words'])]  # words가 텍스트 형식으로 되어 있을 경우\n",
    "\n",
    "#3글자 부터 밎 주요 2단어 포함\n",
    "data = data50.reset_index(drop=True)\n",
    "words = list(data['words'])\n",
    "for k in range(len(words)):\n",
    "    words[k] = [i for i in words[k] if len(i) > 2 or i in ['배달','택배','고용','취업','실업','채용','구직','청년','유통','해고']]  # 두글자 이하 제외\n",
    "data['words'] = words\n",
    "data['words'][:5]\n",
    "del words; del k; del data50\n",
    "#data.to_excel('C:/Users/USER/Desktop/1~8newsurl/data0928.xlsx')\n",
    "def word_score2(word,allnum,num):\n",
    "    a =[]\n",
    "    for j in range(len(data)):\n",
    "        if word in data['words'][j]:\n",
    "            a.append(data.iloc[j])\n",
    "    a = pd.DataFrame(a).reset_index(drop=True)\n",
    "    a['cw'] = word\n",
    "    a = a[['cw','date','title','text','category','url','words']]\n",
    "    aa = a['words']\n",
    "    #a2 = [i.replace(\"'\",\"\").replace('[','').replace(']','').replace(' ','').split(',') for i in aa] #words가 텍스트 형식으로 되어 있을 경우\n",
    "    a2 = a['words'] #words가 list로 되어 있을 경우\n",
    "    #score구하기\n",
    "    avg_dist = []\n",
    "    dist = []\n",
    "    dist_dist = []\n",
    "    for i in tqdm(range(len(a2))):\n",
    "        for k in a2[i]:\n",
    "            try:\n",
    "                 # 비교하여 similarity 구하기\n",
    "                dist_dist.append(embedding_model.similarity(word, k))\n",
    "            except:\n",
    "                dist_dist.append(0)\n",
    "            dist2 = np.array(dist_dist)\n",
    "            dist.append(sum(dist2))\n",
    "            dist_dist = []\n",
    "        if len(dist) > 1000:\n",
    "            dist = sorted(dist, reverse=True)[:1000]\n",
    "        avg_dist.append(np.mean(dist))\n",
    "        dist = []\n",
    "    avg_dist\n",
    "    a['score'] = avg_dist\n",
    "    #이상치 경계 구하기\n",
    "    q1 = np.percentile(a['score'], 25)\n",
    "    q3 = np.percentile(a['score'],75)\n",
    "    iqr = q3-q1\n",
    "    outlier = q1 -  1.5 * iqr\n",
    "    print(outlier, ' 값 이하 제거 필요')\n",
    "    j=0\n",
    "    for k in a['score']:\n",
    "        if k < outlier:\n",
    "            j +=1\n",
    "    print('이상치 ', j, '개 있음')\n",
    "    plt.subplot(int('1'+ str(allnum) + str(num))) #박스플랏 바꿔야함\n",
    "    sns.boxplot( data = a['score'])\n",
    "    plt.title(word)\n",
    "    plt.axis('off')\n",
    "    plt.text(0.43,q1,round(q1, 2),fontsize = 9)\n",
    "    plt.text(0.43,np.median(a['score']),round(np.median(a['score']),2), fontsize = 9)\n",
    "    plt.text(0.43,q3,round(q3,2),fontsize = 9)\n",
    "    plt.text(0.4,outlier,round(outlier,2),fontsize = 9)\n",
    "    plt.show()\n",
    "    return a"
   ]
  },
  {
   "cell_type": "code",
   "execution_count": 2,
   "metadata": {},
   "outputs": [],
   "source": [
    "def cut_row(word):\n",
    "    # word단어가 포함된 기사만 가져오기\n",
    "    a =[]\n",
    "    for j in range(len(data)):\n",
    "        if word in data['words'][j]:\n",
    "            a.append(data.iloc[j])\n",
    "    a = pd.DataFrame(a).reset_index(drop=True)\n",
    "    a['cw'] = word\n",
    "    a = a[['cw','date','title','text','category','url','words']]\n",
    "    a2 = a['words']\n",
    "    #score 구하기\n",
    "    avg_dist = []\n",
    "    dist = []\n",
    "    dist_dist = []\n",
    "    for i in tqdm(range(len(a2))):\n",
    "        for k in a2[i]:\n",
    "            try:\n",
    "                 # 비교하여 similarity 구하기\n",
    "                dist_dist.append(embedding_model.similarity(word, k))\n",
    "            except:\n",
    "                dist_dist.append(0)\n",
    "            dist2 = np.array(dist_dist)\n",
    "            dist.append(sum(dist2))\n",
    "            dist_dist = []\n",
    "        if len(dist) > 1000:\n",
    "            dist = sorted(dist, reverse=True)[:1000]\n",
    "        avg_dist.append(np.mean(dist))\n",
    "        dist = []\n",
    "    a['score'] = avg_dist\n",
    "\n",
    "    #이상치 구하기\n",
    "    q1 = np.percentile(a['score'], 25)\n",
    "    q3 = np.percentile(a['score'],75)\n",
    "    iqr = q3-q1\n",
    "    outlier = q1 -  1.5 * iqr\n",
    "    print(outlier, ' 값 이하 제거 필요')\n",
    "    j=0\n",
    "    for k in a['score']:\n",
    "        if k < outlier:\n",
    "            j +=1\n",
    "    print('이상치 ', j, '개 제거')\n",
    "    return_data = a[a['score'] > outlier]\n",
    "    return return_data"
   ]
  },
  {
   "cell_type": "code",
   "execution_count": 4,
   "metadata": {},
   "outputs": [
    {
     "name": "stderr",
     "output_type": "stream",
     "text": [
      "100%|████████████████████████████████████████████████████████████████████████████| 3282/3282 [00:03<00:00, 1039.89it/s]"
     ]
    },
    {
     "name": "stdout",
     "output_type": "stream",
     "text": [
      "-0.061005545782359366  값 이하 제거 필요\n",
      "이상치  1 개 제거\n"
     ]
    },
    {
     "name": "stderr",
     "output_type": "stream",
     "text": [
      "\n"
     ]
    }
   ],
   "source": [
    "asd = cut_row('소상공인')"
   ]
  },
  {
   "cell_type": "code",
   "execution_count": 7,
   "metadata": {},
   "outputs": [
    {
     "name": "stderr",
     "output_type": "stream",
     "text": [
      "100%|████████████████████████████████████████████████████████████████████████████| 3282/3282 [00:03<00:00, 1060.16it/s]\n"
     ]
    },
    {
     "name": "stdout",
     "output_type": "stream",
     "text": [
      "-0.061005545782359366  값 이하 제거 필요\n",
      "이상치  1 개 제거\n"
     ]
    },
    {
     "name": "stderr",
     "output_type": "stream",
     "text": [
      "100%|████████████████████████████████████████████████████████████████████████████| 1927/1927 [00:01<00:00, 1034.78it/s]\n"
     ]
    },
    {
     "name": "stdout",
     "output_type": "stream",
     "text": [
      "-0.04687500994398512  값 이하 제거 필요\n",
      "이상치  3 개 제거\n"
     ]
    },
    {
     "name": "stderr",
     "output_type": "stream",
     "text": [
      "100%|████████████████████████████████████████████████████████████████████████████| 2755/2755 [00:02<00:00, 1025.74it/s]\n"
     ]
    },
    {
     "name": "stdout",
     "output_type": "stream",
     "text": [
      "-0.03991921145712016  값 이하 제거 필요\n",
      "이상치  12 개 제거\n"
     ]
    },
    {
     "name": "stderr",
     "output_type": "stream",
     "text": [
      "100%|███████████████████████████████████████████████████████████████████████████████| 667/667 [00:00<00:00, 912.38it/s]\n"
     ]
    },
    {
     "name": "stdout",
     "output_type": "stream",
     "text": [
      "-0.04621121730868663  값 이하 제거 필요\n",
      "이상치  2 개 제거\n"
     ]
    },
    {
     "name": "stderr",
     "output_type": "stream",
     "text": [
      "100%|███████████████████████████████████████████████████████████████████████████████| 673/673 [00:00<00:00, 731.86it/s]"
     ]
    },
    {
     "name": "stdout",
     "output_type": "stream",
     "text": [
      "-0.025616021593259125  값 이하 제거 필요\n",
      "이상치  1 개 제거\n"
     ]
    },
    {
     "name": "stderr",
     "output_type": "stream",
     "text": [
      "\n"
     ]
    },
    {
     "data": {
      "text/plain": [
       "9285"
      ]
     },
     "execution_count": 7,
     "metadata": {},
     "output_type": "execute_result"
    }
   ],
   "source": [
    "asd1 = cut_row('소상공인')\n",
    "asd2 = cut_row('취약계층')\n",
    "asd3 = cut_row('의료진')\n",
    "asd4 = cut_row('화상회의')\n",
    "asd5 = cut_row('실업')\n",
    "asd = pd.concat([asd1,asd2,asd3,asd4,asd5])\n",
    "len(asd)"
   ]
  },
  {
   "cell_type": "code",
   "execution_count": 9,
   "metadata": {},
   "outputs": [
    {
     "data": {
      "image/png": "[encoded data removed]",
      "text/plain": [
       "<Figure size 432x288 with 1 Axes>"
      ]
     },
     "metadata": {
      "needs_background": "light"
     },
     "output_type": "display_data"
    }
   ],
   "source": [
    "sns.boxplot(x = 'cw', y = 'score', data = asd)\n",
    "plt.show()"
   ]
  },
  {
   "cell_type": "code",
   "execution_count": null,
   "metadata": {},
   "outputs": [],
   "source": []
  }
 ],
 "metadata": {
  "kernelspec": {
   "display_name": "Python 3",
   "language": "python",
   "name": "python3"
  },
  "language_info": {
   "codemirror_mode": {
    "name": "ipython",
    "version": 3
   },
   "file_extension": ".py",
   "mimetype": "text/x-python",
   "name": "python",
   "nbconvert_exporter": "python",
   "pygments_lexer": "ipython3",
   "version": "3.7.6"
  }
 },
 "nbformat": 4,
 "nbformat_minor": 4
}
