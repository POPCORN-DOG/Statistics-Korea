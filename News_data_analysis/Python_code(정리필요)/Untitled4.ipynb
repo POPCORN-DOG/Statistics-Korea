{
 "cells": [
  {
   "cell_type": "code",
   "execution_count": 1,
   "metadata": {},
   "outputs": [],
   "source": [
    "a1= \"{{2},{2,1},{2,1,3},{2,1,3,4}}\""
   ]
  },
  {
   "cell_type": "code",
   "execution_count": 1,
   "metadata": {},
   "outputs": [
    {
     "name": "stdout",
     "output_type": "stream",
     "text": [
      "Requirement already satisfied: pandas in c:\\users\\user\\anaconda3\\lib\\site-packages (1.0.1)\n",
      "Requirement already satisfied: pytz>=2017.2 in c:\\users\\user\\anaconda3\\lib\\site-packages (from pandas) (2019.3)\n",
      "Requirement already satisfied: numpy>=1.13.3 in c:\\users\\user\\anaconda3\\lib\\site-packages (from pandas) (1.18.1)\n",
      "Requirement already satisfied: python-dateutil>=2.6.1 in c:\\users\\user\\anaconda3\\lib\\site-packages (from pandas) (2.8.1)\n",
      "Requirement already satisfied: six>=1.5 in c:\\users\\user\\anaconda3\\lib\\site-packages (from python-dateutil>=2.6.1->pandas) (1.10.0)\n",
      "Note: you may need to restart the kernel to use updated packages.\n"
     ]
    }
   ],
   "source": [
    "pip install pandas"
   ]
  },
  {
   "cell_type": "code",
   "execution_count": 53,
   "metadata": {},
   "outputs": [],
   "source": [
    "def solution(s):\n",
    "    import re\n",
    "    from collections import Counter\n",
    "    s1 = re.sub('[{}]','',s)\n",
    "    s2 = s1.split(',')\n",
    "    s3 = Counter(s2)\n",
    "    s4 = s3.most_common()\n",
    "    s5 = [int(i) for i,j in s4]\n",
    "    answer = s5\n",
    "    return answer"
   ]
  },
  {
   "cell_type": "code",
   "execution_count": 56,
   "metadata": {},
   "outputs": [
    {
     "data": {
      "text/plain": [
       "[2, 1, 3, 4]"
      ]
     },
     "execution_count": 56,
     "metadata": {},
     "output_type": "execute_result"
    }
   ],
   "source": [
    "solution(a1)"
   ]
  },
  {
   "cell_type": "code",
   "execution_count": 59,
   "metadata": {},
   "outputs": [],
   "source": [
    "def solutions2(s):\n",
    "    import re\n",
    "    from collections import Counter\n",
    "    return [int(i) for i,j in Counter(re.sub('[{}]','',s).split(',')).most_common()]"
   ]
  },
  {
   "cell_type": "code",
   "execution_count": 60,
   "metadata": {},
   "outputs": [
    {
     "data": {
      "text/plain": [
       "[2, 1, 3, 4]"
      ]
     },
     "execution_count": 60,
     "metadata": {},
     "output_type": "execute_result"
    }
   ],
   "source": [
    "solutions2(a1)"
   ]
  },
  {
   "cell_type": "code",
   "execution_count": 124,
   "metadata": {},
   "outputs": [
    {
     "ename": "IndentationError",
     "evalue": "unexpected indent (<ipython-input-124-cf33dd94e058>, line 12)",
     "output_type": "error",
     "traceback": [
      "\u001b[1;36m  File \u001b[1;32m\"<ipython-input-124-cf33dd94e058>\"\u001b[1;36m, line \u001b[1;32m12\u001b[0m\n\u001b[1;33m    answer = [i for i in participant if not i in completion]\u001b[0m\n\u001b[1;37m    ^\u001b[0m\n\u001b[1;31mIndentationError\u001b[0m\u001b[1;31m:\u001b[0m unexpected indent\n"
     ]
    }
   ],
   "source": [
    "def solution(participant, completion):\n",
    "    for i,j in enumerate(range(len(participant))):\n",
    "        if participant[i] in participant[0:i]:\n",
    "            participant[i] = participant[i] + str(2)\n",
    "    for i,j in enumerate(range(len(completion))):\n",
    "        if completion[i] in completion[0:i]:\n",
    "            completion[i] = completion[i] + str(2)\n",
    "    answer = []\n",
    "    for i in participant:        \n",
    "        if not i in completion:\n",
    "            answer.append(i)\n",
    "    import re\n",
    "    answer = re.sub('2','',answer[0])\n",
    "    return answer"
   ]
  },
  {
   "cell_type": "code",
   "execution_count": 145,
   "metadata": {},
   "outputs": [],
   "source": [
    "def solution2(participant, completion):\n",
    "    from collections import Counter\n",
    "    a1,b1 = Counter(participant),Counter(completion)\n",
    "    for i in participant:\n",
    "        if a1[i] != b1[i]:\n",
    "            return i"
   ]
  },
  {
   "cell_type": "code",
   "execution_count": 146,
   "metadata": {},
   "outputs": [],
   "source": [
    "a,b = [\"leo\", \"kiki\", \"eden\"], [\"eden\", \"kiki\"]"
   ]
  },
  {
   "cell_type": "code",
   "execution_count": 148,
   "metadata": {},
   "outputs": [],
   "source": [
    "a,b = [\"mislav\", \"stanko\", \"mislav\", \"ana\",\"mislav\"], [\"stanko\", \"ana\", \"mislav\"]"
   ]
  },
  {
   "cell_type": "code",
   "execution_count": 149,
   "metadata": {},
   "outputs": [
    {
     "data": {
      "text/plain": [
       "'mislav'"
      ]
     },
     "execution_count": 149,
     "metadata": {},
     "output_type": "execute_result"
    }
   ],
   "source": [
    "solution2(a,b)"
   ]
  },
  {
   "cell_type": "code",
   "execution_count": 85,
   "metadata": {},
   "outputs": [
    {
     "data": {
      "text/plain": [
       "['mislav', 'stanko']"
      ]
     },
     "execution_count": 85,
     "metadata": {},
     "output_type": "execute_result"
    }
   ],
   "source": [
    "a[0:2]"
   ]
  },
  {
   "cell_type": "code",
   "execution_count": 123,
   "metadata": {},
   "outputs": [
    {
     "name": "stdout",
     "output_type": "stream",
     "text": [
      "['mislav', 'stanko', 'mislav2', 'ana', 'mislav22']\n"
     ]
    }
   ],
   "source": [
    "for j in range(len(a)):\n",
    "    for i,j in enumerate(range(len(a))):\n",
    "        if a[i] in a[0:i]:\n",
    "            a[i] = a[i] + str(2)\n",
    "print(a)\n",
    "    #print(a[0:i])\n",
    "    #print(a[i:i+1])"
   ]
  },
  {
   "cell_type": "code",
   "execution_count": 97,
   "metadata": {},
   "outputs": [
    {
     "data": {
      "text/plain": [
       "'stanko'"
      ]
     },
     "execution_count": 97,
     "metadata": {},
     "output_type": "execute_result"
    }
   ],
   "source": [
    "a[1]"
   ]
  },
  {
   "cell_type": "code",
   "execution_count": 137,
   "metadata": {},
   "outputs": [
    {
     "ename": "SyntaxError",
     "evalue": "can't assign to literal (<ipython-input-137-ad22f39dc1b5>, line 1)",
     "output_type": "error",
     "traceback": [
      "\u001b[1;36m  File \u001b[1;32m\"<ipython-input-137-ad22f39dc1b5>\"\u001b[1;36m, line \u001b[1;32m1\u001b[0m\n\u001b[1;33m    1 /= 1\u001b[0m\n\u001b[1;37m            ^\u001b[0m\n\u001b[1;31mSyntaxError\u001b[0m\u001b[1;31m:\u001b[0m can't assign to literal\n"
     ]
    }
   ],
   "source": [
    "1 = 1  "
   ]
  },
  {
   "cell_type": "code",
   "execution_count": 183,
   "metadata": {},
   "outputs": [],
   "source": [
    "def solution(n, m):\n",
    "    #최대 공약수\n",
    "    a1 = [n/(i+1) for i in range(n)]\n",
    "    a2 = [m/(i+1) for i in range(m)]\n",
    "    a3 = []\n",
    "    for i in a1:\n",
    "        if i in a2:\n",
    "             a3.append(i)\n",
    "    aa = max(a3)\n",
    "    #최소공배수\n",
    "    b1 = [n*(i+1) for i in range(n*m)]\n",
    "    b2 = [m*(i+1) for i in range(n*m)]\n",
    "    b3 = []\n",
    "    for i in b1:\n",
    "        if i in b2:\n",
    "             b3.append(i)\n",
    "    bb = min(b3)\n",
    "    answer = [int(aa),int(bb)]\n",
    "    return answer"
   ]
  },
  {
   "cell_type": "code",
   "execution_count": 186,
   "metadata": {},
   "outputs": [
    {
     "data": {
      "text/plain": [
       "[1, 75]"
      ]
     },
     "execution_count": 186,
     "metadata": {},
     "output_type": "execute_result"
    }
   ],
   "source": [
    "solution(3,25)"
   ]
  },
  {
   "cell_type": "code",
   "execution_count": 156,
   "metadata": {},
   "outputs": [
    {
     "data": {
      "text/plain": [
       "False"
      ]
     },
     "execution_count": 156,
     "metadata": {},
     "output_type": "execute_result"
    }
   ],
   "source": [
    "\"2.5\".isdigit()"
   ]
  },
  {
   "cell_type": "code",
   "execution_count": 208,
   "metadata": {},
   "outputs": [],
   "source": [
    "def solution(phone_number):\n",
    "    a = '*' * (len(phone_number)-4)\n",
    "    b = phone_number[-4:]\n",
    "    c = [a,b]\n",
    "    d = ''.join(c)\n",
    "    return d"
   ]
  },
  {
   "cell_type": "code",
   "execution_count": 209,
   "metadata": {},
   "outputs": [
    {
     "data": {
      "text/plain": [
       "'*******7354'"
      ]
     },
     "execution_count": 209,
     "metadata": {},
     "output_type": "execute_result"
    }
   ],
   "source": [
    "solution('01041117354')"
   ]
  },
  {
   "cell_type": "code",
   "execution_count": 198,
   "metadata": {},
   "outputs": [
    {
     "data": {
      "text/plain": [
       "'7354'"
      ]
     },
     "execution_count": 198,
     "metadata": {},
     "output_type": "execute_result"
    }
   ],
   "source": [
    "'01041117354'[-4:]"
   ]
  },
  {
   "cell_type": "code",
   "execution_count": 2,
   "metadata": {},
   "outputs": [],
   "source": [
    "    from ckonlpy.tag import Twitter\n",
    "    from ckonlpy.tag import Postprocessor"
   ]
  },
  {
   "cell_type": "code",
   "execution_count": 3,
   "metadata": {},
   "outputs": [
    {
     "name": "stderr",
     "output_type": "stream",
     "text": [
      "C:\\Users\\USER\\anaconda3\\lib\\site-packages\\konlpy\\tag\\_okt.py:16: UserWarning: \"Twitter\" has changed to \"Okt\" since KoNLPy v0.4.5.\n",
      "  warn('\"Twitter\" has changed to \"Okt\" since KoNLPy v0.4.5.')\n"
     ]
    }
   ],
   "source": [
    "    twi = Twitter()"
   ]
  },
  {
   "cell_type": "code",
   "execution_count": 17,
   "metadata": {},
   "outputs": [],
   "source": [
    "        postprocessor = Postprocessor(base_tagger=twi)"
   ]
  },
  {
   "cell_type": "code",
   "execution_count": 18,
   "metadata": {},
   "outputs": [
    {
     "data": {
      "text/plain": [
       "[('모든', 'Noun'),\n",
       " ('프로그래밍', 'Noun'),\n",
       " ('언어', 'Noun'),\n",
       " ('에는', 'Josa'),\n",
       " ('개발', 'Noun'),\n",
       " ('속도', 'Noun'),\n",
       " ('와', 'Josa'),\n",
       " ('실행', 'Noun'),\n",
       " ('속도', 'Noun'),\n",
       " (',', 'Punctuation'),\n",
       " ('두', 'Noun'),\n",
       " ('가지', 'Noun'),\n",
       " ('종류', 'Noun'),\n",
       " ('의', 'Josa'),\n",
       " ('속도', 'Noun'),\n",
       " ('가', 'Josa'),\n",
       " ('있다', 'Adjective'),\n",
       " ('.', 'Punctuation'),\n",
       " ('파이썬', 'Noun'),\n",
       " ('은', 'Josa'),\n",
       " ('항상', 'Noun'),\n",
       " ('빠른', 'Adjective'),\n",
       " ('실행', 'Noun'),\n",
       " ('보다는', 'Josa'),\n",
       " ('빠른', 'Adjective'),\n",
       " ('개발', 'Noun'),\n",
       " ('을', 'Josa'),\n",
       " ('선호', 'Noun'),\n",
       " ('했다', 'Verb'),\n",
       " ('.', 'Punctuation'),\n",
       " ('파이썬', 'Noun'),\n",
       " ('코드', 'Noun'),\n",
       " ('의', 'Josa'),\n",
       " ('실행', 'Noun'),\n",
       " ('속도', 'Noun'),\n",
       " ('는', 'Josa'),\n",
       " ('대부분', 'Noun'),\n",
       " ('필요', 'Noun'),\n",
       " ('한', 'Josa'),\n",
       " ('작업', 'Noun'),\n",
       " ('에', 'Josa'),\n",
       " ('충분', 'Noun'),\n",
       " ('할', 'Verb'),\n",
       " ('만큼', 'Noun'),\n",
       " ('빠르', 'Adjective'),\n",
       " ('지만', 'Josa'),\n",
       " ('그렇지', 'Adjective'),\n",
       " ('않을', 'Verb'),\n",
       " ('때', 'Noun'),\n",
       " ('도', 'Josa'),\n",
       " ('종종', 'Noun'),\n",
       " ('있다', 'Adjective'),\n",
       " ('.', 'Punctuation'),\n",
       " ('그런', 'Adjective'),\n",
       " ('경우', 'Noun'),\n",
       " ('가', 'Josa'),\n",
       " ('발생', 'Noun'),\n",
       " ('한', 'Josa'),\n",
       " ('다면', 'Eomi'),\n",
       " ('속도', 'Noun'),\n",
       " ('가', 'Josa'),\n",
       " ('저하', 'Noun'),\n",
       " ('되는', 'Verb'),\n",
       " ('지점', 'Noun'),\n",
       " ('과', 'Josa'),\n",
       " ('이유', 'Noun'),\n",
       " ('를', 'Josa'),\n",
       " ('찾아', 'Verb'),\n",
       " ('조치', 'Noun'),\n",
       " ('를', 'Josa'),\n",
       " ('취해', 'Noun'),\n",
       " ('야', 'Josa'),\n",
       " ('한다', 'Verb'),\n",
       " ('.', 'Punctuation'),\n",
       " ('소프트웨어', 'Noun'),\n",
       " ('개발', 'Noun'),\n",
       " (',', 'Punctuation'),\n",
       " ('그리', 'Adverb'),\n",
       " ('고', 'Noun'),\n",
       " ('전', 'Noun'),\n",
       " ('반적', 'Noun'),\n",
       " ('인', 'Josa'),\n",
       " ('엔지니어링', 'Noun'),\n",
       " ('에서', 'Josa'),\n",
       " ('유명', 'Noun'),\n",
       " ('한', 'Josa'),\n",
       " ('격언', 'Noun'),\n",
       " ('으로', 'Josa'),\n",
       " (',', 'Punctuation'),\n",
       " ('짐작', 'Noun'),\n",
       " ('하지', 'Verb'),\n",
       " ('말고', 'Josa'),\n",
       " ('측정', 'Noun'),\n",
       " ('을', 'Josa'),\n",
       " ('하라', 'Noun'),\n",
       " ('는', 'Josa'),\n",
       " ('말', 'Noun'),\n",
       " ('이', 'Josa'),\n",
       " ('있다', 'Adjective'),\n",
       " ('.', 'Punctuation'),\n",
       " ('소프트웨어', 'Noun'),\n",
       " ('에서', 'Josa'),\n",
       " ('무엇', 'Noun'),\n",
       " ('이', 'Josa'),\n",
       " ('잘못', 'Noun'),\n",
       " ('되었는지', 'Verb'),\n",
       " ('가정', 'Noun'),\n",
       " ('하기는', 'Adverb'),\n",
       " ('쉽', 'Verb'),\n",
       " ('지만', 'Josa'),\n",
       " ('가정', 'Noun'),\n",
       " ('은', 'Josa'),\n",
       " ('좋은', 'Adjective'),\n",
       " ('습관', 'Noun'),\n",
       " ('이', 'Josa'),\n",
       " ('아니', 'Adverb'),\n",
       " ('다', 'Adverb'),\n",
       " ('.', 'Punctuation'),\n",
       " ('애플리케이션', 'Noun'),\n",
       " ('속도', 'Noun'),\n",
       " ('를', 'Josa'),\n",
       " ('높이', 'Noun'),\n",
       " ('기', 'Noun'),\n",
       " ('위', 'Noun'),\n",
       " ('한', 'Josa'),\n",
       " ('최선', 'Noun'),\n",
       " ('의', 'Josa'),\n",
       " ('일차', 'Noun'),\n",
       " ('적', 'Noun'),\n",
       " ('인', 'Josa'),\n",
       " ('도구', 'Noun'),\n",
       " ('는', 'Josa'),\n",
       " ('항상', 'Noun'),\n",
       " ('실제', 'Noun'),\n",
       " ('프로그램', 'Noun'),\n",
       " ('성능', 'Noun'),\n",
       " ('에', 'Josa'),\n",
       " ('대한', 'Noun'),\n",
       " ('통계', 'Noun'),\n",
       " ('수치', 'Noun'),\n",
       " ('다', 'Josa'),\n",
       " ('.', 'Punctuation')]"
      ]
     },
     "execution_count": 18,
     "metadata": {},
     "output_type": "execute_result"
    }
   ],
   "source": [
    "postprocessor.pos('모든 프로그래밍 언어에는 개발 속도와 실행 속도, 두 가지 종류의 속도가 있다. 파이썬은 항상 빠른 실행보다는 빠른 개발을 선호했다. 파이썬 코드의 실행 속도는 대부분 필요한 작업에 충분할 만큼 빠르지만 그렇지 않을 때도 종종 있다. 그런 경우가 발생한다면 속도가 저하되는 지점과 이유를 찾아 조치를 취해야 한다.소프트웨어 개발, 그리고 전반적인 엔지니어링에서 유명한 격언으로, 짐작하지 말고 측정을 하라는 말이 있다. 소프트웨어에서 무엇이 잘못되었는지 가정하기는 쉽지만 가정은 좋은 습관이 아니다. 애플리케이션 속도를 높이기 위한 최선의 일차적인 도구는 항상 실제 프로그램 성능에 대한 통계 수치다.')"
   ]
  },
  {
   "cell_type": "code",
   "execution_count": 19,
   "metadata": {},
   "outputs": [],
   "source": [
    "###패키지 설치###\n",
    "'''\n",
    "pip install pandas\n",
    "pip install numpy\n",
    "pip install JPype\n",
    "pip install KoNLPy\n",
    "pip install customized_konlpy\n",
    "pip install matplotlib\n",
    "pip install gensim\n",
    "'''\n",
    "###형태소 분석기###\n",
    "def custom_konlpy(text_list,add_list = [],replace_dic = [],stopword_list = [], passtag = ['Noun'], word_len = 2):\n",
    "    '''\n",
    "    :param text_list: 형태소 분석을 할 기사 본문 여러개를 list 형태로 집어 넣습니다. (입력필수)\n",
    "\n",
    "    :param add_list: 형태소 분석에 추가할 단어를 list형태로 집어 넣습니다.\n",
    "                    추가된 단어는 모두 명사로 구분합니다. ex)add_list = ['비대면','확진자','거리두기','사랑제일교회']\n",
    "\n",
    "    :param replace_dic: 대체어, 통합어를 dictionary형태로 집어 넣습니다.\n",
    "                    추가된 단어는 모두 명사로 구분합니다. ex)replace_dic = {'유연근로제':'유연근무제','특고':'특수고용직','유연근로':'유연근무제'}\n",
    "\n",
    "    :param stopword_list: 배제어를 list형태로 집어 넣습니다. ex)stopword_list = ['기자','연합뉴스']\n",
    "\n",
    "    :param passtag: 뽑아낼 특정 품사를 list형태로 집어 넣습니다. 기본값은 명사만 추출입니다. ex)passtag = ['Verb', 'Noun']\n",
    "               · okt 품사 종류  https://ratsgo.github.io/from%20frequency%20to%20semantics/2017/05/10/postag/ 참조\n",
    "\n",
    "    :param word_len: 단어 길이가 word_len개 미만인 단어는 모두 배제합니다. 기본값은 2입니다.\n",
    "\n",
    "    :return: 각각의 본문이 list형태로 반환되어 return됩니다.\n",
    "    '''\n",
    "    from ckonlpy.tag import Twitter\n",
    "    from ckonlpy.tag import Postprocessor\n",
    "    from tqdm import tqdm\n",
    "    twi = Twitter()\n",
    "\n",
    "    # 새로운 단어 등록 하기\n",
    "    if len(add_list) >= 1:\n",
    "        for i in add_list:\n",
    "            twi.add_dictionary(i, 'Noun')\n",
    "            print('단어 {}개 추가'.format(len(add_list)))\n",
    "\n",
    "    # 통합어\n",
    "    if len(replace_dic) >= 1:\n",
    "        postprocessor = Postprocessor(base_tagger=twi, replace=replace_dic, passtags=passtag)\n",
    "    else:\n",
    "        postprocessor = Postprocessor(base_tagger=twi, passtags=passtag)\n",
    "\n",
    "    #형태소 분석\n",
    "    print('형태소분석 시작')\n",
    "    words = [[j[i][0] for i in range(len(j))] for j in [postprocessor.pos(i) for i in tqdm(text_list)]]\n",
    "\n",
    "    # 배제어 등록하기\n",
    "    Prohibit_words = []\n",
    "    for i in list(stopword_list):\n",
    "        Prohibit_words.append(i)\n",
    "\n",
    "    # 배제어 제거, 한 글자 제거하기\n",
    "    j = 0\n",
    "    for i in words:\n",
    "        for k in Prohibit_words:\n",
    "            while k in i:\n",
    "                i.remove(k)\n",
    "        words[j] = i\n",
    "        j += 1  # 불용어 제외\n",
    "\n",
    "    for k in range(len(words)):\n",
    "        words[k] = [i for i in words[k] if len(i) >= word_len]\n",
    "\n",
    "    return words\n",
    "\n",
    "###토픽 모델링###\n",
    "def topic_modeling_lda(text, limit = 20 , start=2, step=1):\n",
    "    '''\n",
    "    토픽모델링\n",
    "    :param text: 형태소 분석이 된 data를 list 형태로 집어넣습니다.\n",
    "    :param limit: 최대 몇개의 주제를 보고싶은지 설정합니다.\n",
    "    :param start: 최소 몇개부터 주제를 나누고 싶은지 설정합니다.\n",
    "    :param step:\n",
    "    :return:\n",
    "    '''\n",
    "    import gensim\n",
    "    from tqdm import tqdm\n",
    "\n",
    "    news = text\n",
    "    id2word = corpora.Dictionary(news)\n",
    "    corpus = [id2word.doc2bow(text2) for text2 in news]\n",
    "\n",
    "    def compute_coherence_values(dictionary, corpus, texts, limit, start, step):\n",
    "        coherence_values = []\n",
    "        model_list = []\n",
    "        for num_topics in tqdm(range(start, limit, step)):\n",
    "            model = gensim.models.ldamodel.LdaModel(corpus=corpus,\n",
    "                                                    id2word=id2word,\n",
    "                                                    num_topics=num_topics,\n",
    "                                                    random_state=100,\n",
    "                                                    update_every=1,\n",
    "                                                    chunksize=100,\n",
    "                                                    passes=10,\n",
    "                                                    alpha='auto',\n",
    "                                                    per_word_topics=True)\n",
    "            model_list.append(model)\n",
    "            coherencemodel = CoherenceModel(model=model, texts=texts, dictionary=dictionary, coherence='c_v')\n",
    "            coherence_values.append(coherencemodel.get_coherence())\n",
    "        return model_list, coherence_values\n",
    "\n",
    "    model_list, coherence_values = compute_coherence_values(dictionary=id2word, corpus=corpus, texts=news, start=start,\n",
    "                                                            limit=limit, step=step)\n",
    "    for i,j in zip(model_list, coherence_values):\n",
    "        print(j,i.print_topics())\n",
    "\n",
    "    coherence_values.index(max(coherence_values))\n",
    "    optimal_model = model_list[coherence_values.index(max(coherence_values))]\n",
    "    topic_dic = {}\n",
    "    for i in range(coherence_values.index(max(coherence_values)) + start):\n",
    "        words2 = optimal_model.show_topic(i, topn=20)\n",
    "        topic_dic['topic ' + '{:02d}'.format(i + 1)] = [i[0] for i in words2]\n",
    "    da = pd.DataFrame(topic_dic)\n",
    "    return da"
   ]
  },
  {
   "cell_type": "code",
   "execution_count": null,
   "metadata": {},
   "outputs": [],
   "source": []
  }
 ],
 "metadata": {
  "kernelspec": {
   "display_name": "Python 3",
   "language": "python",
   "name": "python3"
  },
  "language_info": {
   "codemirror_mode": {
    "name": "ipython",
    "version": 3
   },
   "file_extension": ".py",
   "mimetype": "text/x-python",
   "name": "python",
   "nbconvert_exporter": "python",
   "pygments_lexer": "ipython3",
   "version": "3.7.6"
  }
 },
 "nbformat": 4,
 "nbformat_minor": 4
}
