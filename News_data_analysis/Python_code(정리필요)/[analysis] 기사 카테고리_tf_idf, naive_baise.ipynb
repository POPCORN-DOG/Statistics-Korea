{
 "cells": [
  {
   "cell_type": "code",
   "execution_count": null,
   "metadata": {},
   "outputs": [],
   "source": [
    "# 자료출처\n",
    "# https://butter-shower.tistory.com/140\n",
    "\n",
    "# 다양한 데이터 전처리 기법 - 결측치, 중복, 이상치, 정규화, 원-핫 인코딩, 구간화(binning)\n",
    "# https://butter-shower.tistory.com/144?category=737935#%EC%A4%91%EB%B3%B5%EB%90%9C-%EB%8D%B0%EC%9D%B4%ED%84%B0"
   ]
  },
  {
   "cell_type": "code",
   "execution_count": 191,
   "metadata": {
    "scrolled": true
   },
   "outputs": [
    {
     "data": {
      "text/html": [
       "<style>.container {width:90% !important;}</style>"
      ],
      "text/plain": [
       "<IPython.core.display.HTML object>"
      ]
     },
     "metadata": {},
     "output_type": "display_data"
    }
   ],
   "source": [
    "import pandas as pd\n",
    "import matplotlib.pyplot as plt  # 그래프 그리기\n",
    "\n",
    "from IPython.core.display import display, HTML\n",
    "from konlpy.tag import Okt,Kkma,Hannanum,Komoran,Mecab   \n",
    "\n",
    "\n",
    "okt = Okt()\n",
    "kkma = Kkma()\n",
    "hannanum = Hannanum()\n",
    "komoran = Komoran\n",
    "mecab = Mecab # 윈도우에서 지원되지 않는다.\n",
    "\n",
    "display(HTML(\"<style>.container {width:90% !important;}</style>\"))"
   ]
  },
  {
   "cell_type": "markdown",
   "metadata": {},
   "source": [
    "# 1. 데이터 불러오기"
   ]
  },
  {
   "cell_type": "code",
   "execution_count": 352,
   "metadata": {},
   "outputs": [],
   "source": [
    "df = pd.read_csv('E:/[python]/5. [python] 자연어/20200101_contents.csv')"
   ]
  },
  {
   "cell_type": "code",
   "execution_count": 356,
   "metadata": {
    "scrolled": true
   },
   "outputs": [
    {
     "name": "stdout",
     "output_type": "stream",
     "text": [
      "<class 'pandas.core.frame.DataFrame'>\n",
      "RangeIndex: 17628 entries, 0 to 17627\n",
      "Data columns (total 16 columns):\n",
      " #   Column        Non-Null Count  Dtype \n",
      "---  ------        --------------  ----- \n",
      " 0   no            17628 non-null  int64 \n",
      " 1   date          17628 non-null  int64 \n",
      " 2   year          17628 non-null  int64 \n",
      " 3   month         17628 non-null  int64 \n",
      " 4   day           17628 non-null  int64 \n",
      " 5   wday          17628 non-null  object\n",
      " 6   edittime      17628 non-null  object\n",
      " 7   url           17628 non-null  object\n",
      " 8   main          17628 non-null  object\n",
      " 9   sub           17628 non-null  object\n",
      " 10  press         17628 non-null  object\n",
      " 11  reporter      16019 non-null  object\n",
      " 12  email         12941 non-null  object\n",
      " 13  title         17628 non-null  object\n",
      " 14  contents      17604 non-null  object\n",
      " 15  review_count  17627 non-null  object\n",
      "dtypes: int64(5), object(11)\n",
      "memory usage: 2.2+ MB\n",
      "None\n",
      "no                 0\n",
      "date               0\n",
      "year               0\n",
      "month              0\n",
      "day                0\n",
      "wday               0\n",
      "edittime           0\n",
      "url                0\n",
      "main               0\n",
      "sub                0\n",
      "press              0\n",
      "reporter        1609\n",
      "email           4687\n",
      "title              0\n",
      "contents          24\n",
      "review_count       1\n",
      "dtype: int64\n",
      "   no      date  year  month  day wday edittime  \\\n",
      "0   1  20200101  2020      1    1    수    23:21   \n",
      "1   2  20200101  2020      1    1    수    22:06   \n",
      "2   3  20200101  2020      1    1    수    21:41   \n",
      "3   4  20200101  2020      1    1    수    21:40   \n",
      "4   5  20200101  2020      1    1    수    21:14   \n",
      "\n",
      "                                      url main    sub  press reporter  \\\n",
      "0  https://v.daum.net/v/20200101232156546   사회  사건/사고  아시아경제      유병돈   \n",
      "1  https://v.daum.net/v/20200101220623151   사회  사건/사고   조선일보      이상빈   \n",
      "2  https://v.daum.net/v/20200101214130015   사회  사건/사고   경향신문      김동성   \n",
      "3  https://v.daum.net/v/20200101214029006   사회  사건/사고   조선일보      이상빈   \n",
      "4  https://v.daum.net/v/20200101211402851   사회  사건/사고   한국경제      장지민   \n",
      "\n",
      "                   email                                   title  \\\n",
      "0     tamond@asiae.co.kr            전주 '얼굴 없는 천사' 성금 훔친 2명 결국 구속   \n",
      "1                    NaN        전주 '얼굴 없는 천사' 성금 6000만원 훔친 2명 구속   \n",
      "2   estar@kyunghyang.com     이춘재 \"죽으러 야산 갔다 초등생 만나 살해\" 우발적 범행 주장   \n",
      "3                    NaN  성동구 아파트 화재로 주민 2000명 대피.. 이틀째 전기·난방 끊겨   \n",
      "4  newsinfo@hankyung.com    전직 프로야구 선수 체포..빌라 공사 대금 문제로 말다툼하다 폭행   \n",
      "\n",
      "                                            contents review_count  \n",
      "0  [이미지출처=연합뉴스] [아시아경제 유병돈 기자] 전북 전주시 노송동의 '얼굴 없는...            0  \n",
      "1  ’전주 얼굴 없는 천사’ 성금 절도 사건의 용의자 2명이 30일 오후 고개를 숙인 ...            0  \n",
      "2  [경향신문] ㆍ8차 사건도 “대문 열려” 진술ㆍ경찰 프로파일러 신빙성 조사ㆍ이달 안...            0  \n",
      "3  화재가 난 서울 성동구 마장동 한 아파트의 보일러실 배관 주변 소실 모습. /성동소...            0  \n",
      "4  전직 프로야구 선수 폭행 /사진=게티이미지 전직 프로야구 선수가 입주 예정이던 신축...            0  \n"
     ]
    }
   ],
   "source": [
    "print(df.info())\n",
    "\n",
    "# 칼럼별 결측치 개수 = len(trade) - trade.count()\n",
    "print(df.isnull().sum())\n",
    "\n",
    "print(df.head())"
   ]
  },
  {
   "cell_type": "markdown",
   "metadata": {},
   "source": [
    "# 2. 데이터 전처리"
   ]
  },
  {
   "cell_type": "code",
   "execution_count": 196,
   "metadata": {},
   "outputs": [],
   "source": [
    "# 한글 이외 제거\n",
    "df['contents'] = df['contents'].str.replace(\"[^ㄱ-ㅎ ㅏ-ㅣ 가-힣]\",\"\")\n",
    "\n",
    "# 중복제거\n",
    "df.drop_duplicates(subset=['contents'], inplace = True)\n",
    "print('뉴스 기사의 개수 : ', len(df))\n",
    "\n",
    "# NULL값을 갖는 행 제거.\n",
    "df.dropna(axis=0,inplace=True)\n",
    "print(df.isnull().sum())\n",
    "# trade.dropna(how='all', subset = ['wday', 'day', 'title'], inplace = True)\n",
    "# subset : 특정 칼럼을 선택\n",
    "# how : 선택한 칼럼 전부가 결측치인 행을 삭제하겠다는 의미. ('any' : 하나라도 결측치인 경우에 선택)\n",
    "# inplace : True면 변경된 값이 해당 DataFrame에 바로 적용\n",
    "\n",
    "df['main'].value_counts().plot(kind = 'bar')"
   ]
  },
  {
   "cell_type": "markdown",
   "metadata": {},
   "source": [
    "# 3. 토큰화 및 불용어 제거"
   ]
  },
  {
   "cell_type": "code",
   "execution_count": null,
   "metadata": {},
   "outputs": [],
   "source": [
    "stopwords = ['에','는','은','을','했','에게','있','이','의','하','한','다','과','때문','할','수','무단','따른','및','금지','전재','경향신문','기자','는데','가','등','들','파이낸셜','저작','등','뉴스']"
   ]
  },
  {
   "cell_type": "code",
   "execution_count": 234,
   "metadata": {},
   "outputs": [],
   "source": [
    "from tqdm import tqdm_notebook\n",
    "def preprocessing(data):\n",
    "    text_data = []\n",
    "    \n",
    "    for sentence in tqdm_notebook(data):\n",
    "        temp_data = []\n",
    "        # 토큰화\n",
    "        temp_data = okt.morphs(sentence)\n",
    "        # 불용어 제거\n",
    "        temp_data = [word for word in temp_data if not word in stopwords]\n",
    "        text_data.append(temp_data)\n",
    "    \n",
    "    text_data = list(map(' '.join, text_data))\n",
    "    \n",
    "    return text_data"
   ]
  },
  {
   "cell_type": "code",
   "execution_count": 236,
   "metadata": {},
   "outputs": [
    {
     "data": {
      "application/vnd.jupyter.widget-view+json": {
       "model_id": "2cc21597cc1a4552b7b39a3d867a1803",
       "version_major": 2,
       "version_minor": 0
      },
      "text/plain": [
       "HBox(children=(IntProgress(value=0, max=9148), HTML(value='')))"
      ]
     },
     "metadata": {},
     "output_type": "display_data"
    },
    {
     "name": "stdout",
     "output_type": "stream",
     "text": [
      "\n",
      "이미지 출처 연합뉴스 아시아 경제 유병돈 전북 전주시 노송동 얼굴 없는 천사 놓고 간 성금 훔친 대 명 구속 됐다 전주 지법 최정윤 판사 일 특수 절도 혐의 를 받는 씨 와 씨 대한 구속 전 피의자 심문 영장 실질 실사 에서 도주 우려 있다면서 구속영장 발부 했다 씨 지난달 일 오전 시 께 전주 노송동 주민 센터 뒤편 에서 얼굴 없는 천사 로 불리는 익명 기 부자 두고 간 기 부금 여 만원 훔쳐 달아난 혐의 를 받는다 경찰 따르면 얼굴 없는 천사 몰래 기부 이번 에도 이뤄질 것 으로 예상 하고 범행 모의 했다 경찰 조사 결과 씨 지난달 일 부터 주민 센터 인근 스포츠 유틸리티 차 를 세워놓고 얼굴 없는 천사 성금 놓고 가기 를 기다린 것 으로 드러났다 차량 번호판 에는 물 묻힌 휴지 를 붙여 식별 어렵게 했다 경찰 평소 동네 에서 눈 띄지 않던 를 수상하게 여긴 주민 제보 로 범행 시간 여 만에 충남 논산 대전 인근 에서 씨 와 씨 를 각각 붙잡았다 훔친 성금 만원 도 되찾았다 한편 얼굴 없는 천사 년 부터 지난해 까지 해도 거르 지 않고 주민 센터 인근 수천만 억원 상당 성금 놓고 갔다 그러면서도 자신 이름 얼굴 단 차례 도 공개 하지 않았다 유병돈\n"
     ]
    }
   ],
   "source": [
    "text_data = preprocessing(df['contents'])\n",
    "print(text_data[0])"
   ]
  },
  {
   "cell_type": "markdown",
   "metadata": {},
   "source": [
    "# 4. 머신러닝 사용하기"
   ]
  },
  {
   "cell_type": "code",
   "execution_count": 323,
   "metadata": {},
   "outputs": [],
   "source": [
    "# 사이킷런(scikit-learn 또는 sklearn)는 훈련 데이터와 테스트 데이터를 분리하는데 유용한 train_test_split() 함수를 제공합니다. \n",
    "# train_test_split()에 사용할 데이터를 입력하면 훈련 데이터와 테스트 데이터로 분리해줍니다.\n",
    "\n",
    "from sklearn.model_selection import train_test_split # train, test set 나누기 위함.\n",
    "from sklearn.feature_extraction.text import CountVectorizer\n",
    "from sklearn.feature_extraction.text import TfidfTransformer\n",
    "from sklearn.naive_bayes import MultinomialNB\n",
    "from sklearn import metrics"
   ]
  },
  {
   "cell_type": "code",
   "execution_count": 346,
   "metadata": {},
   "outputs": [
    {
     "name": "stdout",
     "output_type": "stream",
     "text": [
      "훈련용 뉴스 기사의 개수 :  6861\n",
      "테스트용 뉴스 기사의 개수 :  2287\n",
      "훈련용 레이블의 개수 :  6861\n",
      "테스트용 레이블의 개수 :  2287\n"
     ]
    }
   ],
   "source": [
    "X_train, X_test, y_train, y_test = train_test_split(text_data,df['main'],random_state=0)\n",
    "print(\"훈련용 뉴스 기사의 개수 : \", len(X_train))\n",
    "print(\"테스트용 뉴스 기사의 개수 : \", len(X_test))\n",
    "print(\"훈련용 레이블의 개수 : \", len(y_train))\n",
    "print(\"테스트용 레이블의 개수 : \", len(y_test))"
   ]
  },
  {
   "cell_type": "code",
   "execution_count": 347,
   "metadata": {},
   "outputs": [],
   "source": [
    "# fit_transform() 함수는 fit와 transform을 연이어 수행하는 함수\n",
    "# CountVectorizer.fit_transform()은 단어 데이터를 학습하고 문서 데이터를 document-form matrix로 변환하는 두가지 작업을 해준다.\n",
    "\n",
    "# 단어의 수를 카운트하는 사이킷런의 카운트벡터라이저\n",
    "count_vec = CountVectorizer()\n",
    "X_train_counts = count_vec.fit_transform(X_train)\n",
    "\n",
    "# 카운트벡터라이저의 결과로부터 TF-IDF 결과를 얻습니다.\n",
    "tfidf_transformer = TfidfTransformer()\n",
    "X_train_tfidf = tfidf_transformer.fit_transform(X_train_counts)\n",
    "\n",
    "# 나이브베이즈 분류기를 수행ㅎ압니다.\n",
    "# X_train은 TF-IDF 벡터, y_train은 레이블입니다.\n",
    "clf = MultinomialNB().fit(X_train_tfidf, y_train)"
   ]
  },
  {
   "cell_type": "code",
   "execution_count": 348,
   "metadata": {},
   "outputs": [],
   "source": [
    "# 나이브 베이즈 분류기가 학습되었습니다. 모델이 학습되었다면 그 다음 해야 할 일은 바로 '테스트'입니다. \n",
    "# 이 모델이 제대로 학습되었는지를 확인해봐야겠죠?\n",
    "# 텍스트를 입력하면 자동으로 TF-IDF 벡터로 바꾸는 전처리 함수를 만들어보겠습니다. \n",
    "# 이 함수를 통해 텍스트를 바로 나이브베이즈 분류기의 입력으로 사용함으로써 보다 용이하게 테스트 할 수 있습니다.\n",
    "\n",
    "def tfidf_vectorizer(data):\n",
    "    data_counts = count_vec.transform(data)\n",
    "    data_tfidf = tfidf_transformer.transform(data_counts)\n",
    "    return data_tfidf"
   ]
  },
  {
   "cell_type": "code",
   "execution_count": 350,
   "metadata": {},
   "outputs": [
    {
     "data": {
      "application/vnd.jupyter.widget-view+json": {
       "model_id": "9c73da7a21964af59f9126d51e16bcdd",
       "version_major": 2,
       "version_minor": 0
      },
      "text/plain": [
       "HBox(children=(IntProgress(value=0, max=1), HTML(value='')))"
      ]
     },
     "metadata": {},
     "output_type": "display_data"
    },
    {
     "name": "stdout",
     "output_type": "stream",
     "text": [
      "\n",
      "['사회']\n"
     ]
    }
   ],
   "source": [
    "# 임의의 뉴스에 대해서 카테고리를 확인해봅시다. \n",
    "# 이 뉴스들은 훈련 데이터, 테스트 데이터 그 어디에도 속하지 않는 임의로 가져온 뉴스입니다. \n",
    "# clf.predict()는 임의의 입력에 대해서 나이브 베이즈 분류기가 예측한 값을 리턴합니다.\n",
    "\n",
    "new_sent = preprocessing([\"민주당 일각에서 법사위의 체계·자구 심사 기능을 없애야 한다는 \\\n",
    "                           주장이 나오는 데 대해 “체계·자구 심사가 법안 지연의 수단으로 \\\n",
    "                          쓰이는 것은 바람직하지 않다”면서도 “국회를 통과하는 법안 중 위헌\\\n",
    "                          법률이 1년에 10건 넘게 나온다. 그런데 체계·자구 심사까지 없애면 매우 위험하다”고 반박했다.\"])\n",
    "print(clf.predict(tfidf_vectorizer(new_sent)))"
   ]
  },
  {
   "cell_type": "code",
   "execution_count": 349,
   "metadata": {
    "scrolled": true
   },
   "outputs": [
    {
     "name": "stdout",
     "output_type": "stream",
     "text": [
      "              precision    recall  f1-score   support\n",
      "\n",
      "          IT       0.00      0.00      0.00        57\n",
      "          경제       0.78      0.82      0.80       317\n",
      "          국제       0.94      0.27      0.42       124\n",
      "          문화       0.00      0.00      0.00        65\n",
      "          사회       0.71      0.94      0.81       517\n",
      "         스포츠       0.99      0.95      0.97       296\n",
      "          연예       0.93      0.99      0.96       583\n",
      "          정치       0.83      0.87      0.85       314\n",
      "          칼럼       0.00      0.00      0.00        14\n",
      "\n",
      "    accuracy                           0.83      2287\n",
      "   macro avg       0.57      0.54      0.53      2287\n",
      "weighted avg       0.80      0.83      0.80      2287\n",
      "\n"
     ]
    }
   ],
   "source": [
    "# 머신러닝 모델의 성능 측정 방법 중 하나인 F1-Score에서 81%의 준수한 정확도를 얻어냈습니다!\n",
    "# F1 스코어에 대해서는 아래 링크에서 확인해주세요!\n",
    "# F1 스코어 : http://seb.kr/w/F1_%EC%8A%A4%EC%BD%94%EC%96%B4\n",
    "\n",
    "y_pred = clf.predict(tfidf_vectorizer(X_test))\n",
    "print(metrics.classification_report(y_test, y_pred))"
   ]
  }
 ],
 "metadata": {
  "kernelspec": {
   "display_name": "Python 3",
   "language": "python",
   "name": "python3"
  },
  "language_info": {
   "codemirror_mode": {
    "name": "ipython",
    "version": 3
   },
   "file_extension": ".py",
   "mimetype": "text/x-python",
   "name": "python",
   "nbconvert_exporter": "python",
   "pygments_lexer": "ipython3",
   "version": "3.7.4"
  }
 },
 "nbformat": 4,
 "nbformat_minor": 2
}
