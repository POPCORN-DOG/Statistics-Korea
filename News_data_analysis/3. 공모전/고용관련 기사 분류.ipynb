{
 "cells": [
  {
   "cell_type": "code",
   "execution_count": 17,
   "metadata": {},
   "outputs": [],
   "source": [
    "#패키지 로드 \n",
    "import pandas as pd\n",
    "import glob\n",
    "import os\n",
    "import numpy as np\n",
    "import re\n",
    "import time\n",
    "from tqdm import tqdm_notebook as tqdm\n",
    "import sys\n",
    "from konlpy.tag import Okt\n",
    "from gensim.models import Word2Vec\n",
    "from gensim.models import KeyedVectors\n",
    "import matplotlib.pyplot as plt\n",
    "from ckonlpy.tag import Twitter\n",
    "from ckonlpy.tag import Postprocessor\n",
    "from sklearn.metrics import confusion_matrix\n",
    "from sklearn.metrics import classification_report\n",
    "import sklearn.metrics as metrics\n",
    "import sklearn as skl\n",
    "from sklearn.metrics import classification_report,confusion_matrix\n",
    "from sklearn.neighbors import KNeighborsClassifier\n",
    "from collections import Counter"
   ]
  },
  {
   "cell_type": "code",
   "execution_count": 2,
   "metadata": {},
   "outputs": [
    {
     "ename": "FileNotFoundError",
     "evalue": "[Errno 2] No such file or directory: 'C:/Users/USER/Desktop/labelingdata2018.xlsx'",
     "output_type": "error",
     "traceback": [
      "\u001b[1;31m---------------------------------------------------------------------------\u001b[0m",
      "\u001b[1;31mFileNotFoundError\u001b[0m                         Traceback (most recent call last)",
      "\u001b[1;32m<ipython-input-2-aef6236d3a76>\u001b[0m in \u001b[0;36m<module>\u001b[1;34m\u001b[0m\n\u001b[0;32m      1\u001b[0m \u001b[1;31m#통합 및 정리본 불러오기\u001b[0m\u001b[1;33m\u001b[0m\u001b[1;33m\u001b[0m\u001b[1;33m\u001b[0m\u001b[0m\n\u001b[1;32m----> 2\u001b[1;33m \u001b[0mdata\u001b[0m \u001b[1;33m=\u001b[0m \u001b[0mpd\u001b[0m\u001b[1;33m.\u001b[0m\u001b[0mread_excel\u001b[0m\u001b[1;33m(\u001b[0m\u001b[1;34m'C:/Users/USER/Desktop/labelingdata2018.xlsx'\u001b[0m\u001b[1;33m,\u001b[0m \u001b[0mindex_col\u001b[0m\u001b[1;33m=\u001b[0m\u001b[1;36m0\u001b[0m\u001b[1;33m)\u001b[0m\u001b[1;33m\u001b[0m\u001b[1;33m\u001b[0m\u001b[0m\n\u001b[0m\u001b[0;32m      3\u001b[0m \u001b[0mprint\u001b[0m\u001b[1;33m(\u001b[0m\u001b[0mlen\u001b[0m\u001b[1;33m(\u001b[0m\u001b[0mdata\u001b[0m\u001b[1;33m)\u001b[0m\u001b[1;33m)\u001b[0m\u001b[1;33m\u001b[0m\u001b[1;33m\u001b[0m\u001b[0m\n\u001b[0;32m      4\u001b[0m \u001b[0mdata\u001b[0m \u001b[1;33m=\u001b[0m \u001b[0mdata\u001b[0m\u001b[1;33m.\u001b[0m\u001b[0mdropna\u001b[0m\u001b[1;33m(\u001b[0m\u001b[0maxis\u001b[0m \u001b[1;33m=\u001b[0m \u001b[1;36m0\u001b[0m\u001b[1;33m)\u001b[0m\u001b[1;33m\u001b[0m\u001b[1;33m\u001b[0m\u001b[0m\n\u001b[0;32m      5\u001b[0m \u001b[0mprint\u001b[0m\u001b[1;33m(\u001b[0m\u001b[0mlen\u001b[0m\u001b[1;33m(\u001b[0m\u001b[0mdata\u001b[0m\u001b[1;33m)\u001b[0m\u001b[1;33m)\u001b[0m \u001b[1;31m#결측치 하나 있음\u001b[0m\u001b[1;33m\u001b[0m\u001b[1;33m\u001b[0m\u001b[0m\n",
      "\u001b[1;32m~\\anaconda3\\lib\\site-packages\\pandas\\io\\excel\\_base.py\u001b[0m in \u001b[0;36mread_excel\u001b[1;34m(io, sheet_name, header, names, index_col, usecols, squeeze, dtype, engine, converters, true_values, false_values, skiprows, nrows, na_values, keep_default_na, verbose, parse_dates, date_parser, thousands, comment, skipfooter, convert_float, mangle_dupe_cols, **kwds)\u001b[0m\n\u001b[0;32m    302\u001b[0m \u001b[1;33m\u001b[0m\u001b[0m\n\u001b[0;32m    303\u001b[0m     \u001b[1;32mif\u001b[0m \u001b[1;32mnot\u001b[0m \u001b[0misinstance\u001b[0m\u001b[1;33m(\u001b[0m\u001b[0mio\u001b[0m\u001b[1;33m,\u001b[0m \u001b[0mExcelFile\u001b[0m\u001b[1;33m)\u001b[0m\u001b[1;33m:\u001b[0m\u001b[1;33m\u001b[0m\u001b[1;33m\u001b[0m\u001b[0m\n\u001b[1;32m--> 304\u001b[1;33m         \u001b[0mio\u001b[0m \u001b[1;33m=\u001b[0m \u001b[0mExcelFile\u001b[0m\u001b[1;33m(\u001b[0m\u001b[0mio\u001b[0m\u001b[1;33m,\u001b[0m \u001b[0mengine\u001b[0m\u001b[1;33m=\u001b[0m\u001b[0mengine\u001b[0m\u001b[1;33m)\u001b[0m\u001b[1;33m\u001b[0m\u001b[1;33m\u001b[0m\u001b[0m\n\u001b[0m\u001b[0;32m    305\u001b[0m     \u001b[1;32melif\u001b[0m \u001b[0mengine\u001b[0m \u001b[1;32mand\u001b[0m \u001b[0mengine\u001b[0m \u001b[1;33m!=\u001b[0m \u001b[0mio\u001b[0m\u001b[1;33m.\u001b[0m\u001b[0mengine\u001b[0m\u001b[1;33m:\u001b[0m\u001b[1;33m\u001b[0m\u001b[1;33m\u001b[0m\u001b[0m\n\u001b[0;32m    306\u001b[0m         raise ValueError(\n",
      "\u001b[1;32m~\\anaconda3\\lib\\site-packages\\pandas\\io\\excel\\_base.py\u001b[0m in \u001b[0;36m__init__\u001b[1;34m(self, io, engine)\u001b[0m\n\u001b[0;32m    819\u001b[0m         \u001b[0mself\u001b[0m\u001b[1;33m.\u001b[0m\u001b[0m_io\u001b[0m \u001b[1;33m=\u001b[0m \u001b[0mstringify_path\u001b[0m\u001b[1;33m(\u001b[0m\u001b[0mio\u001b[0m\u001b[1;33m)\u001b[0m\u001b[1;33m\u001b[0m\u001b[1;33m\u001b[0m\u001b[0m\n\u001b[0;32m    820\u001b[0m \u001b[1;33m\u001b[0m\u001b[0m\n\u001b[1;32m--> 821\u001b[1;33m         \u001b[0mself\u001b[0m\u001b[1;33m.\u001b[0m\u001b[0m_reader\u001b[0m \u001b[1;33m=\u001b[0m \u001b[0mself\u001b[0m\u001b[1;33m.\u001b[0m\u001b[0m_engines\u001b[0m\u001b[1;33m[\u001b[0m\u001b[0mengine\u001b[0m\u001b[1;33m]\u001b[0m\u001b[1;33m(\u001b[0m\u001b[0mself\u001b[0m\u001b[1;33m.\u001b[0m\u001b[0m_io\u001b[0m\u001b[1;33m)\u001b[0m\u001b[1;33m\u001b[0m\u001b[1;33m\u001b[0m\u001b[0m\n\u001b[0m\u001b[0;32m    822\u001b[0m \u001b[1;33m\u001b[0m\u001b[0m\n\u001b[0;32m    823\u001b[0m     \u001b[1;32mdef\u001b[0m \u001b[0m__fspath__\u001b[0m\u001b[1;33m(\u001b[0m\u001b[0mself\u001b[0m\u001b[1;33m)\u001b[0m\u001b[1;33m:\u001b[0m\u001b[1;33m\u001b[0m\u001b[1;33m\u001b[0m\u001b[0m\n",
      "\u001b[1;32m~\\anaconda3\\lib\\site-packages\\pandas\\io\\excel\\_xlrd.py\u001b[0m in \u001b[0;36m__init__\u001b[1;34m(self, filepath_or_buffer)\u001b[0m\n\u001b[0;32m     19\u001b[0m         \u001b[0merr_msg\u001b[0m \u001b[1;33m=\u001b[0m \u001b[1;34m\"Install xlrd >= 1.0.0 for Excel support\"\u001b[0m\u001b[1;33m\u001b[0m\u001b[1;33m\u001b[0m\u001b[0m\n\u001b[0;32m     20\u001b[0m         \u001b[0mimport_optional_dependency\u001b[0m\u001b[1;33m(\u001b[0m\u001b[1;34m\"xlrd\"\u001b[0m\u001b[1;33m,\u001b[0m \u001b[0mextra\u001b[0m\u001b[1;33m=\u001b[0m\u001b[0merr_msg\u001b[0m\u001b[1;33m)\u001b[0m\u001b[1;33m\u001b[0m\u001b[1;33m\u001b[0m\u001b[0m\n\u001b[1;32m---> 21\u001b[1;33m         \u001b[0msuper\u001b[0m\u001b[1;33m(\u001b[0m\u001b[1;33m)\u001b[0m\u001b[1;33m.\u001b[0m\u001b[0m__init__\u001b[0m\u001b[1;33m(\u001b[0m\u001b[0mfilepath_or_buffer\u001b[0m\u001b[1;33m)\u001b[0m\u001b[1;33m\u001b[0m\u001b[1;33m\u001b[0m\u001b[0m\n\u001b[0m\u001b[0;32m     22\u001b[0m \u001b[1;33m\u001b[0m\u001b[0m\n\u001b[0;32m     23\u001b[0m     \u001b[1;33m@\u001b[0m\u001b[0mproperty\u001b[0m\u001b[1;33m\u001b[0m\u001b[1;33m\u001b[0m\u001b[0m\n",
      "\u001b[1;32m~\\anaconda3\\lib\\site-packages\\pandas\\io\\excel\\_base.py\u001b[0m in \u001b[0;36m__init__\u001b[1;34m(self, filepath_or_buffer)\u001b[0m\n\u001b[0;32m    351\u001b[0m             \u001b[0mself\u001b[0m\u001b[1;33m.\u001b[0m\u001b[0mbook\u001b[0m \u001b[1;33m=\u001b[0m \u001b[0mself\u001b[0m\u001b[1;33m.\u001b[0m\u001b[0mload_workbook\u001b[0m\u001b[1;33m(\u001b[0m\u001b[0mfilepath_or_buffer\u001b[0m\u001b[1;33m)\u001b[0m\u001b[1;33m\u001b[0m\u001b[1;33m\u001b[0m\u001b[0m\n\u001b[0;32m    352\u001b[0m         \u001b[1;32melif\u001b[0m \u001b[0misinstance\u001b[0m\u001b[1;33m(\u001b[0m\u001b[0mfilepath_or_buffer\u001b[0m\u001b[1;33m,\u001b[0m \u001b[0mstr\u001b[0m\u001b[1;33m)\u001b[0m\u001b[1;33m:\u001b[0m\u001b[1;33m\u001b[0m\u001b[1;33m\u001b[0m\u001b[0m\n\u001b[1;32m--> 353\u001b[1;33m             \u001b[0mself\u001b[0m\u001b[1;33m.\u001b[0m\u001b[0mbook\u001b[0m \u001b[1;33m=\u001b[0m \u001b[0mself\u001b[0m\u001b[1;33m.\u001b[0m\u001b[0mload_workbook\u001b[0m\u001b[1;33m(\u001b[0m\u001b[0mfilepath_or_buffer\u001b[0m\u001b[1;33m)\u001b[0m\u001b[1;33m\u001b[0m\u001b[1;33m\u001b[0m\u001b[0m\n\u001b[0m\u001b[0;32m    354\u001b[0m         \u001b[1;32melif\u001b[0m \u001b[0misinstance\u001b[0m\u001b[1;33m(\u001b[0m\u001b[0mfilepath_or_buffer\u001b[0m\u001b[1;33m,\u001b[0m \u001b[0mbytes\u001b[0m\u001b[1;33m)\u001b[0m\u001b[1;33m:\u001b[0m\u001b[1;33m\u001b[0m\u001b[1;33m\u001b[0m\u001b[0m\n\u001b[0;32m    355\u001b[0m             \u001b[0mself\u001b[0m\u001b[1;33m.\u001b[0m\u001b[0mbook\u001b[0m \u001b[1;33m=\u001b[0m \u001b[0mself\u001b[0m\u001b[1;33m.\u001b[0m\u001b[0mload_workbook\u001b[0m\u001b[1;33m(\u001b[0m\u001b[0mBytesIO\u001b[0m\u001b[1;33m(\u001b[0m\u001b[0mfilepath_or_buffer\u001b[0m\u001b[1;33m)\u001b[0m\u001b[1;33m)\u001b[0m\u001b[1;33m\u001b[0m\u001b[1;33m\u001b[0m\u001b[0m\n",
      "\u001b[1;32m~\\anaconda3\\lib\\site-packages\\pandas\\io\\excel\\_xlrd.py\u001b[0m in \u001b[0;36mload_workbook\u001b[1;34m(self, filepath_or_buffer)\u001b[0m\n\u001b[0;32m     34\u001b[0m             \u001b[1;32mreturn\u001b[0m \u001b[0mopen_workbook\u001b[0m\u001b[1;33m(\u001b[0m\u001b[0mfile_contents\u001b[0m\u001b[1;33m=\u001b[0m\u001b[0mdata\u001b[0m\u001b[1;33m)\u001b[0m\u001b[1;33m\u001b[0m\u001b[1;33m\u001b[0m\u001b[0m\n\u001b[0;32m     35\u001b[0m         \u001b[1;32melse\u001b[0m\u001b[1;33m:\u001b[0m\u001b[1;33m\u001b[0m\u001b[1;33m\u001b[0m\u001b[0m\n\u001b[1;32m---> 36\u001b[1;33m             \u001b[1;32mreturn\u001b[0m \u001b[0mopen_workbook\u001b[0m\u001b[1;33m(\u001b[0m\u001b[0mfilepath_or_buffer\u001b[0m\u001b[1;33m)\u001b[0m\u001b[1;33m\u001b[0m\u001b[1;33m\u001b[0m\u001b[0m\n\u001b[0m\u001b[0;32m     37\u001b[0m \u001b[1;33m\u001b[0m\u001b[0m\n\u001b[0;32m     38\u001b[0m     \u001b[1;33m@\u001b[0m\u001b[0mproperty\u001b[0m\u001b[1;33m\u001b[0m\u001b[1;33m\u001b[0m\u001b[0m\n",
      "\u001b[1;32m~\\anaconda3\\lib\\site-packages\\xlrd\\__init__.py\u001b[0m in \u001b[0;36mopen_workbook\u001b[1;34m(filename, logfile, verbosity, use_mmap, file_contents, encoding_override, formatting_info, on_demand, ragged_rows)\u001b[0m\n\u001b[0;32m    109\u001b[0m     \u001b[1;32melse\u001b[0m\u001b[1;33m:\u001b[0m\u001b[1;33m\u001b[0m\u001b[1;33m\u001b[0m\u001b[0m\n\u001b[0;32m    110\u001b[0m         \u001b[0mfilename\u001b[0m \u001b[1;33m=\u001b[0m \u001b[0mos\u001b[0m\u001b[1;33m.\u001b[0m\u001b[0mpath\u001b[0m\u001b[1;33m.\u001b[0m\u001b[0mexpanduser\u001b[0m\u001b[1;33m(\u001b[0m\u001b[0mfilename\u001b[0m\u001b[1;33m)\u001b[0m\u001b[1;33m\u001b[0m\u001b[1;33m\u001b[0m\u001b[0m\n\u001b[1;32m--> 111\u001b[1;33m         \u001b[1;32mwith\u001b[0m \u001b[0mopen\u001b[0m\u001b[1;33m(\u001b[0m\u001b[0mfilename\u001b[0m\u001b[1;33m,\u001b[0m \u001b[1;34m\"rb\"\u001b[0m\u001b[1;33m)\u001b[0m \u001b[1;32mas\u001b[0m \u001b[0mf\u001b[0m\u001b[1;33m:\u001b[0m\u001b[1;33m\u001b[0m\u001b[1;33m\u001b[0m\u001b[0m\n\u001b[0m\u001b[0;32m    112\u001b[0m             \u001b[0mpeek\u001b[0m \u001b[1;33m=\u001b[0m \u001b[0mf\u001b[0m\u001b[1;33m.\u001b[0m\u001b[0mread\u001b[0m\u001b[1;33m(\u001b[0m\u001b[0mpeeksz\u001b[0m\u001b[1;33m)\u001b[0m\u001b[1;33m\u001b[0m\u001b[1;33m\u001b[0m\u001b[0m\n\u001b[0;32m    113\u001b[0m     \u001b[1;32mif\u001b[0m \u001b[0mpeek\u001b[0m \u001b[1;33m==\u001b[0m \u001b[1;34mb\"PK\\x03\\x04\"\u001b[0m\u001b[1;33m:\u001b[0m \u001b[1;31m# a ZIP file\u001b[0m\u001b[1;33m\u001b[0m\u001b[1;33m\u001b[0m\u001b[0m\n",
      "\u001b[1;31mFileNotFoundError\u001b[0m: [Errno 2] No such file or directory: 'C:/Users/USER/Desktop/labelingdata2018.xlsx'"
     ]
    }
   ],
   "source": [
    "#통합 및 정리본 불러오기\n",
    "data = pd.read_excel('C:/Users/USER/Desktop/labelingdata2018.xlsx', index_col=0)\n",
    "print(len(data))\n",
    "data = data.dropna(axis = 0) \n",
    "print(len(data)) #결측치 하나 있음"
   ]
  },
  {
   "cell_type": "code",
   "execution_count": 55,
   "metadata": {},
   "outputs": [
    {
     "name": "stderr",
     "output_type": "stream",
     "text": [
      "C:\\Users\\USER\\anaconda3\\lib\\site-packages\\konlpy\\tag\\_okt.py:16: UserWarning: \"Twitter\" has changed to \"Okt\" since KoNLPy v0.4.5.\n",
      "  warn('\"Twitter\" has changed to \"Okt\" since KoNLPy v0.4.5.')\n",
      "C:\\Users\\USER\\anaconda3\\lib\\site-packages\\ipykernel_launcher.py:14: TqdmDeprecationWarning: This function will be removed in tqdm==5.0.0\n",
      "Please use `tqdm.notebook.tqdm` instead of `tqdm.tqdm_notebook`\n",
      "  \n"
     ]
    },
    {
     "data": {
      "application/vnd.jupyter.widget-view+json": {
       "model_id": "31fff196fcde4e51b601c762d4284df7",
       "version_major": 2,
       "version_minor": 0
      },
      "text/plain": [
       "HBox(children=(FloatProgress(value=0.0, max=26366.0), HTML(value='')))"
      ]
     },
     "metadata": {},
     "output_type": "display_data"
    },
    {
     "name": "stdout",
     "output_type": "stream",
     "text": [
      "\n"
     ]
    }
   ],
   "source": [
    "twi = Twitter()\n",
    "add_noun = ['비대면','확진자','거리두기','사랑제일교회','의료기관','의료진','집단감염','유연근무','유연근무제','유연근로제','한국판뉴딜','디지털뉴딜',\n",
    "            '그린뉴딜','휴먼뉴딜','취약계층','긴급재난지원금','고용보험','진료거부','택배기사','선별진료소','고용보험','특수고용직','특고','재배포',\n",
    "            '고용안정지원금','공유오피스','공용오피스','저소득층','실업급여','유통업계','물류센터','소상공인','유연근로','특수형태근로자','특수형태근로종사자']\n",
    "#새로운 단어 등록 하기\n",
    "for i in add_noun:\n",
    "    twi.add_dictionary(i,'Noun')\n",
    "    \n",
    "#통합어 만들기\n",
    "replace = {'유연근로제':'유연근무제','유연근무':'유연근무제','유연근로':'유연근무제','특고':'특수고용직','특수형태근로자':'특수고용직','특수형태근로종사자':'특수고용직'}\n",
    "postprocessor = Postprocessor(base_tagger=twi, replace=replace, passtags={'Noun'})\n",
    "\n",
    "#형태소 분석 하기\n",
    "words = [[j[i][0] for i in range(len(j))] for j in [postprocessor.pos(i) for i in tqdm(data['text'])]]\n",
    "\n"
   ]
  },
  {
   "cell_type": "code",
   "execution_count": 56,
   "metadata": {},
   "outputs": [
    {
     "name": "stderr",
     "output_type": "stream",
     "text": [
      "C:\\Users\\USER\\anaconda3\\lib\\site-packages\\ipykernel_launcher.py:8: TqdmDeprecationWarning: This function will be removed in tqdm==5.0.0\n",
      "Please use `tqdm.notebook.tqdm` instead of `tqdm.tqdm_notebook`\n",
      "  \n"
     ]
    },
    {
     "data": {
      "application/vnd.jupyter.widget-view+json": {
       "model_id": "cd1cb47cf53044d08c44d6ae51c984ab",
       "version_major": 2,
       "version_minor": 0
      },
      "text/plain": [
       "HBox(children=(FloatProgress(value=0.0, max=26366.0), HTML(value='')))"
      ]
     },
     "metadata": {},
     "output_type": "display_data"
    },
    {
     "name": "stdout",
     "output_type": "stream",
     "text": [
      "\n"
     ]
    }
   ],
   "source": [
    "#배제어 등록하기\n",
    "Prohibit_words = ['기자','연합뉴스','뉴시스','시사저널','신문','뉴스','사진','헤럴드경제','노컷뉴스','파이낸셜뉴스','특파원',\n",
    "                  '라며','대해','지난','위해','오전','오후','무단','배포','이데일리','머니투데이','앵커','지금','때문','이번',\n",
    "                  '통해','정도','경우','관련','이미지','출처','일보','바로가기','까지','여개','도록','이나','재배포','처럼','면서',\n",
    "                  '거나','이제','지난달','어요']\n",
    "#배제어 제거, 한 글자 제거하기\n",
    "j = 0\n",
    "for i in tqdm(words):\n",
    "    for k in Prohibit_words:\n",
    "        while k in i:\n",
    "            i.remove(k)\n",
    "    words[j] = i\n",
    "    j += 1 #불용어 제외\n",
    "\n",
    "for k in range(len(words)):\n",
    "    words[k] = [i for i in words[k] if len(i) > 1]  # 한글자 제외\n",
    "    \n",
    "data['words'] = words\n"
   ]
  },
  {
   "cell_type": "code",
   "execution_count": 14,
   "metadata": {},
   "outputs": [
    {
     "name": "stdout",
     "output_type": "stream",
     "text": [
      "23930\n",
      "23930\n"
     ]
    },
    {
     "data": {
      "text/plain": [
       "list"
      ]
     },
     "execution_count": 14,
     "metadata": {},
     "output_type": "execute_result"
    }
   ],
   "source": [
    "#저장 및 불러오기\n",
    "#data.to_excel('C:/Users/USER/Desktop/labelingdata2018_word.xlsx')\n",
    "data =  pd.read_excel('C:/Users/USER/Desktop/labelingdata2018_word.xlsx', index_col=0)#데이터 불러오기\n",
    "data['words'] = [i.replace(\"'\", \"\").replace('[', '').replace(']', '').replace(' ', '').split(',') for i in\n",
    "          list(data['words'])]  # words가 텍스트 형식으로 되어 있을 경우\n",
    "data = data.drop_duplicates(['text'])\n",
    "data = data.reset_index()\n",
    "'''\n",
    "검증은 크게 두 가지로 한다.\n",
    "1. 기존 모델을 이용하여 검증\n",
    "    (기존 모델은 3~8월 일별 무작위 추출하여 고용과 전혀 연관이 없는 데이터도 굉장히 많음)\n",
    "2. 현재 데이터로 w2v 모델을 만들어서 검증 \n",
    "    (현재 데이터 = labelling data 2018 이며, 포함어를 통해 1차 정제한 기사로, 모든 기사들이 고용관련 키워드 1단어 이상씩 포함되어 있음)\n",
    "\n",
    "'''\n",
    "#테스트 \n",
    "data_test = data[0:1000]\n",
    "print(len(data))\n",
    "print(len(data.drop_duplicates(['text'])))\n",
    "\n",
    "words = data['words']\n",
    "type(words[0])"
   ]
  },
  {
   "cell_type": "code",
   "execution_count": 58,
   "metadata": {},
   "outputs": [
    {
     "name": "stderr",
     "output_type": "stream",
     "text": [
      "C:\\Users\\USER\\anaconda3\\lib\\site-packages\\ipykernel_launcher.py:6: DeprecationWarning: Call to deprecated `wv` (Attribute will be removed in 4.0.0, use self instead).\n",
      "  \n",
      "C:\\Users\\USER\\anaconda3\\lib\\site-packages\\ipykernel_launcher.py:7: DeprecationWarning: Call to deprecated `wv` (Attribute will be removed in 4.0.0, use self instead).\n",
      "  import sys\n",
      "C:\\Users\\USER\\anaconda3\\lib\\site-packages\\ipykernel_launcher.py:9: TqdmDeprecationWarning: This function will be removed in tqdm==5.0.0\n",
      "Please use `tqdm.notebook.tqdm` instead of `tqdm.tqdm_notebook`\n",
      "  if __name__ == '__main__':\n"
     ]
    },
    {
     "data": {
      "application/vnd.jupyter.widget-view+json": {
       "model_id": "2c913171966e4bc3ad1d3250f444c073",
       "version_major": 2,
       "version_minor": 0
      },
      "text/plain": [
       "HBox(children=(FloatProgress(value=0.0, max=1000.0), HTML(value='')))"
      ]
     },
     "metadata": {},
     "output_type": "display_data"
    },
    {
     "name": "stdout",
     "output_type": "stream",
     "text": [
      "\n"
     ]
    }
   ],
   "source": [
    "# 1 번 모델 검증\n",
    "\n",
    "#기존 모델 불러오기\n",
    "embedding_model = KeyedVectors.load_word2vec_format('C:/Users/USER/Desktop/1~8newsurl/w2v') # 모델 로드\n",
    "\n",
    "word_vector = embedding_model.wv.vectors\n",
    "match_index = embedding_model.wv.index2word\n",
    "vecdata = pd.DataFrame(columns=['x{}'.format(i) for i in range(100)])\n",
    "for i in tqdm(range(len(data_test['words']))):\n",
    "    vec = pd.DataFrame(columns = ['x{}'.format(i) for i in range(100)])\n",
    "    j = 0\n",
    "    for w in match_index:\n",
    "        if w in words[i]:\n",
    "            vec.loc[j] = list(word_vector[match_index.index(w)])\n",
    "            j += 1\n",
    "        score_vec = vec.mean()\n",
    "    vecdata.loc[i] = score_vec\n",
    "\n"
   ]
  },
  {
   "cell_type": "code",
   "execution_count": 59,
   "metadata": {},
   "outputs": [
    {
     "data": {
      "text/html": [
       "<div>\n",
       "<style scoped>\n",
       "    .dataframe tbody tr th:only-of-type {\n",
       "        vertical-align: middle;\n",
       "    }\n",
       "\n",
       "    .dataframe tbody tr th {\n",
       "        vertical-align: top;\n",
       "    }\n",
       "\n",
       "    .dataframe thead th {\n",
       "        text-align: right;\n",
       "    }\n",
       "</style>\n",
       "<table border=\"1\" class=\"dataframe\">\n",
       "  <thead>\n",
       "    <tr style=\"text-align: right;\">\n",
       "      <th></th>\n",
       "      <th>user1</th>\n",
       "      <th>user2</th>\n",
       "      <th>user3</th>\n",
       "      <th>user4</th>\n",
       "      <th>user5</th>\n",
       "      <th>user6</th>\n",
       "      <th>sum</th>\n",
       "      <th>y</th>\n",
       "      <th>x0</th>\n",
       "      <th>x1</th>\n",
       "      <th>...</th>\n",
       "      <th>x90</th>\n",
       "      <th>x91</th>\n",
       "      <th>x92</th>\n",
       "      <th>x93</th>\n",
       "      <th>x94</th>\n",
       "      <th>x95</th>\n",
       "      <th>x96</th>\n",
       "      <th>x97</th>\n",
       "      <th>x98</th>\n",
       "      <th>x99</th>\n",
       "    </tr>\n",
       "  </thead>\n",
       "  <tbody>\n",
       "    <tr>\n",
       "      <th>count</th>\n",
       "      <td>1000.000000</td>\n",
       "      <td>1000.000000</td>\n",
       "      <td>1000.000000</td>\n",
       "      <td>1000.00000</td>\n",
       "      <td>1000.000000</td>\n",
       "      <td>1000.000000</td>\n",
       "      <td>1000.000000</td>\n",
       "      <td>1000.000000</td>\n",
       "      <td>1000.000000</td>\n",
       "      <td>1000.000000</td>\n",
       "      <td>...</td>\n",
       "      <td>1000.000000</td>\n",
       "      <td>1000.000000</td>\n",
       "      <td>1000.000000</td>\n",
       "      <td>1000.000000</td>\n",
       "      <td>1000.000000</td>\n",
       "      <td>1000.000000</td>\n",
       "      <td>1000.000000</td>\n",
       "      <td>1000.000000</td>\n",
       "      <td>1000.000000</td>\n",
       "      <td>1000.000000</td>\n",
       "    </tr>\n",
       "    <tr>\n",
       "      <th>mean</th>\n",
       "      <td>0.165000</td>\n",
       "      <td>0.252000</td>\n",
       "      <td>0.172000</td>\n",
       "      <td>0.11800</td>\n",
       "      <td>0.388000</td>\n",
       "      <td>0.404000</td>\n",
       "      <td>1.499000</td>\n",
       "      <td>0.178000</td>\n",
       "      <td>0.205235</td>\n",
       "      <td>-0.335677</td>\n",
       "      <td>...</td>\n",
       "      <td>-0.558566</td>\n",
       "      <td>0.436400</td>\n",
       "      <td>0.017514</td>\n",
       "      <td>0.079786</td>\n",
       "      <td>-0.215654</td>\n",
       "      <td>-0.273091</td>\n",
       "      <td>-0.497571</td>\n",
       "      <td>-0.270289</td>\n",
       "      <td>0.134462</td>\n",
       "      <td>-0.179111</td>\n",
       "    </tr>\n",
       "    <tr>\n",
       "      <th>std</th>\n",
       "      <td>0.371366</td>\n",
       "      <td>0.434379</td>\n",
       "      <td>0.377569</td>\n",
       "      <td>0.32277</td>\n",
       "      <td>0.487538</td>\n",
       "      <td>0.490943</td>\n",
       "      <td>1.794218</td>\n",
       "      <td>0.382704</td>\n",
       "      <td>0.456961</td>\n",
       "      <td>0.474661</td>\n",
       "      <td>...</td>\n",
       "      <td>0.605068</td>\n",
       "      <td>0.717967</td>\n",
       "      <td>0.447868</td>\n",
       "      <td>0.565562</td>\n",
       "      <td>0.559525</td>\n",
       "      <td>0.582632</td>\n",
       "      <td>0.639628</td>\n",
       "      <td>0.603774</td>\n",
       "      <td>0.698603</td>\n",
       "      <td>0.585644</td>\n",
       "    </tr>\n",
       "    <tr>\n",
       "      <th>min</th>\n",
       "      <td>0.000000</td>\n",
       "      <td>0.000000</td>\n",
       "      <td>0.000000</td>\n",
       "      <td>0.00000</td>\n",
       "      <td>0.000000</td>\n",
       "      <td>0.000000</td>\n",
       "      <td>0.000000</td>\n",
       "      <td>0.000000</td>\n",
       "      <td>-1.801135</td>\n",
       "      <td>-1.955624</td>\n",
       "      <td>...</td>\n",
       "      <td>-2.431135</td>\n",
       "      <td>-1.454807</td>\n",
       "      <td>-2.070603</td>\n",
       "      <td>-1.786882</td>\n",
       "      <td>-2.184879</td>\n",
       "      <td>-3.242843</td>\n",
       "      <td>-2.821828</td>\n",
       "      <td>-2.524566</td>\n",
       "      <td>-2.268699</td>\n",
       "      <td>-2.008883</td>\n",
       "    </tr>\n",
       "    <tr>\n",
       "      <th>25%</th>\n",
       "      <td>0.000000</td>\n",
       "      <td>0.000000</td>\n",
       "      <td>0.000000</td>\n",
       "      <td>0.00000</td>\n",
       "      <td>0.000000</td>\n",
       "      <td>0.000000</td>\n",
       "      <td>0.000000</td>\n",
       "      <td>0.000000</td>\n",
       "      <td>-0.105568</td>\n",
       "      <td>-0.662403</td>\n",
       "      <td>...</td>\n",
       "      <td>-0.991585</td>\n",
       "      <td>-0.099085</td>\n",
       "      <td>-0.239289</td>\n",
       "      <td>-0.328291</td>\n",
       "      <td>-0.606281</td>\n",
       "      <td>-0.653194</td>\n",
       "      <td>-0.992088</td>\n",
       "      <td>-0.560309</td>\n",
       "      <td>-0.301675</td>\n",
       "      <td>-0.583602</td>\n",
       "    </tr>\n",
       "    <tr>\n",
       "      <th>50%</th>\n",
       "      <td>0.000000</td>\n",
       "      <td>0.000000</td>\n",
       "      <td>0.000000</td>\n",
       "      <td>0.00000</td>\n",
       "      <td>0.000000</td>\n",
       "      <td>0.000000</td>\n",
       "      <td>1.000000</td>\n",
       "      <td>0.000000</td>\n",
       "      <td>0.172821</td>\n",
       "      <td>-0.300934</td>\n",
       "      <td>...</td>\n",
       "      <td>-0.613155</td>\n",
       "      <td>0.399951</td>\n",
       "      <td>0.040072</td>\n",
       "      <td>0.104507</td>\n",
       "      <td>-0.168695</td>\n",
       "      <td>-0.258192</td>\n",
       "      <td>-0.490504</td>\n",
       "      <td>-0.230253</td>\n",
       "      <td>0.174552</td>\n",
       "      <td>-0.128930</td>\n",
       "    </tr>\n",
       "    <tr>\n",
       "      <th>75%</th>\n",
       "      <td>0.000000</td>\n",
       "      <td>1.000000</td>\n",
       "      <td>0.000000</td>\n",
       "      <td>0.00000</td>\n",
       "      <td>1.000000</td>\n",
       "      <td>1.000000</td>\n",
       "      <td>3.000000</td>\n",
       "      <td>0.000000</td>\n",
       "      <td>0.480012</td>\n",
       "      <td>-0.034365</td>\n",
       "      <td>...</td>\n",
       "      <td>-0.186970</td>\n",
       "      <td>0.896735</td>\n",
       "      <td>0.282418</td>\n",
       "      <td>0.475533</td>\n",
       "      <td>0.177004</td>\n",
       "      <td>0.080237</td>\n",
       "      <td>-0.035904</td>\n",
       "      <td>0.164661</td>\n",
       "      <td>0.649284</td>\n",
       "      <td>0.239867</td>\n",
       "    </tr>\n",
       "    <tr>\n",
       "      <th>max</th>\n",
       "      <td>1.000000</td>\n",
       "      <td>1.000000</td>\n",
       "      <td>1.000000</td>\n",
       "      <td>1.00000</td>\n",
       "      <td>1.000000</td>\n",
       "      <td>1.000000</td>\n",
       "      <td>6.000000</td>\n",
       "      <td>1.000000</td>\n",
       "      <td>2.114494</td>\n",
       "      <td>1.381521</td>\n",
       "      <td>...</td>\n",
       "      <td>1.992224</td>\n",
       "      <td>2.929128</td>\n",
       "      <td>1.999513</td>\n",
       "      <td>2.480282</td>\n",
       "      <td>1.418137</td>\n",
       "      <td>1.988677</td>\n",
       "      <td>1.487228</td>\n",
       "      <td>1.259800</td>\n",
       "      <td>1.648804</td>\n",
       "      <td>1.926397</td>\n",
       "    </tr>\n",
       "  </tbody>\n",
       "</table>\n",
       "<p>8 rows × 108 columns</p>\n",
       "</div>"
      ],
      "text/plain": [
       "             user1        user2        user3       user4        user5  \\\n",
       "count  1000.000000  1000.000000  1000.000000  1000.00000  1000.000000   \n",
       "mean      0.165000     0.252000     0.172000     0.11800     0.388000   \n",
       "std       0.371366     0.434379     0.377569     0.32277     0.487538   \n",
       "min       0.000000     0.000000     0.000000     0.00000     0.000000   \n",
       "25%       0.000000     0.000000     0.000000     0.00000     0.000000   \n",
       "50%       0.000000     0.000000     0.000000     0.00000     0.000000   \n",
       "75%       0.000000     1.000000     0.000000     0.00000     1.000000   \n",
       "max       1.000000     1.000000     1.000000     1.00000     1.000000   \n",
       "\n",
       "             user6          sum            y           x0           x1  ...  \\\n",
       "count  1000.000000  1000.000000  1000.000000  1000.000000  1000.000000  ...   \n",
       "mean      0.404000     1.499000     0.178000     0.205235    -0.335677  ...   \n",
       "std       0.490943     1.794218     0.382704     0.456961     0.474661  ...   \n",
       "min       0.000000     0.000000     0.000000    -1.801135    -1.955624  ...   \n",
       "25%       0.000000     0.000000     0.000000    -0.105568    -0.662403  ...   \n",
       "50%       0.000000     1.000000     0.000000     0.172821    -0.300934  ...   \n",
       "75%       1.000000     3.000000     0.000000     0.480012    -0.034365  ...   \n",
       "max       1.000000     6.000000     1.000000     2.114494     1.381521  ...   \n",
       "\n",
       "               x90          x91          x92          x93          x94  \\\n",
       "count  1000.000000  1000.000000  1000.000000  1000.000000  1000.000000   \n",
       "mean     -0.558566     0.436400     0.017514     0.079786    -0.215654   \n",
       "std       0.605068     0.717967     0.447868     0.565562     0.559525   \n",
       "min      -2.431135    -1.454807    -2.070603    -1.786882    -2.184879   \n",
       "25%      -0.991585    -0.099085    -0.239289    -0.328291    -0.606281   \n",
       "50%      -0.613155     0.399951     0.040072     0.104507    -0.168695   \n",
       "75%      -0.186970     0.896735     0.282418     0.475533     0.177004   \n",
       "max       1.992224     2.929128     1.999513     2.480282     1.418137   \n",
       "\n",
       "               x95          x96          x97          x98          x99  \n",
       "count  1000.000000  1000.000000  1000.000000  1000.000000  1000.000000  \n",
       "mean     -0.273091    -0.497571    -0.270289     0.134462    -0.179111  \n",
       "std       0.582632     0.639628     0.603774     0.698603     0.585644  \n",
       "min      -3.242843    -2.821828    -2.524566    -2.268699    -2.008883  \n",
       "25%      -0.653194    -0.992088    -0.560309    -0.301675    -0.583602  \n",
       "50%      -0.258192    -0.490504    -0.230253     0.174552    -0.128930  \n",
       "75%       0.080237    -0.035904     0.164661     0.649284     0.239867  \n",
       "max       1.988677     1.487228     1.259800     1.648804     1.926397  \n",
       "\n",
       "[8 rows x 108 columns]"
      ]
     },
     "execution_count": 59,
     "metadata": {},
     "output_type": "execute_result"
    }
   ],
   "source": [
    "data_all_1 = pd.concat([data_test,vecdata],axis = 1)\n",
    "data_all_1.describe()\n"
   ]
  },
  {
   "cell_type": "code",
   "execution_count": 62,
   "metadata": {
    "scrolled": true
   },
   "outputs": [
    {
     "name": "stdout",
     "output_type": "stream",
     "text": [
      "[[822   0]\n",
      " [178   0]]\n",
      "              precision    recall  f1-score   support\n",
      "\n",
      "           0       0.82      1.00      0.90       822\n",
      "           1       0.00      0.00      0.00       178\n",
      "\n",
      "    accuracy                           0.82      1000\n",
      "   macro avg       0.41      0.50      0.45      1000\n",
      "weighted avg       0.68      0.82      0.74      1000\n",
      "\n"
     ]
    },
    {
     "name": "stderr",
     "output_type": "stream",
     "text": [
      "C:\\Users\\USER\\anaconda3\\lib\\site-packages\\sklearn\\metrics\\_classification.py:1221: UndefinedMetricWarning: Precision and F-score are ill-defined and being set to 0.0 in labels with no predicted samples. Use `zero_division` parameter to control this behavior.\n",
      "  _warn_prf(average, modifier, msg_start, len(result))\n"
     ]
    },
    {
     "name": "stdout",
     "output_type": "stream",
     "text": [
      "0.822\n"
     ]
    }
   ],
   "source": [
    "#  기존 모델 학습\n",
    "data_all = pd.read_csv('C:/Users/USER/Desktop/data_all.csv')\n",
    "\n",
    "x_train = data_all.iloc[:,6:106]\n",
    "y_train = data_all.iloc[:,107]\n",
    "\n",
    "x_test = data_all_1.iloc[:,12:112]\n",
    "y_test = data_all_1.iloc[:,10]\n",
    "\n",
    "\n",
    "#x_train 정규화\n",
    "scaler = skl.preprocessing.StandardScaler()\n",
    "scaler.fit(x_train) #x_train 데이터에 대해서 평균과 표준편차 계산\n",
    "x_train = scaler.transform(x_train)\n",
    "x_test = scaler.transform(x_test)\n",
    "###########knn사용해서 분류해보기\n",
    "\n",
    "classifier = KNeighborsClassifier(n_neighbors= 2)\n",
    "classifier.fit(x_train,y_train)\n",
    "knn_pre = classifier.predict(x_test)\n",
    "\n",
    "#성능 평가\n",
    "print(confusion_matrix(y_test,knn_pre))\n",
    "\n",
    "#평가결과 확인\n",
    "print(classification_report(y_test,knn_pre)) #'''\n",
    "print(classifier.score(x_test, y_test))\n",
    "\n",
    "#뉴스 데이터 정확도 0"
   ]
  },
  {
   "cell_type": "code",
   "execution_count": 15,
   "metadata": {},
   "outputs": [
    {
     "name": "stderr",
     "output_type": "stream",
     "text": [
      "C:\\Users\\USER\\anaconda3\\lib\\site-packages\\ipykernel_launcher.py:8: TqdmDeprecationWarning: This function will be removed in tqdm==5.0.0\n",
      "Please use `tqdm.notebook.tqdm` instead of `tqdm.tqdm_notebook`\n",
      "  \n"
     ]
    },
    {
     "data": {
      "application/vnd.jupyter.widget-view+json": {
       "model_id": "9a219125e0734ff9b02cf61f48ca1761",
       "version_major": 2,
       "version_minor": 0
      },
      "text/plain": [
       "HBox(children=(FloatProgress(value=0.0, max=23930.0), HTML(value='')))"
      ]
     },
     "metadata": {},
     "output_type": "display_data"
    },
    {
     "name": "stdout",
     "output_type": "stream",
     "text": [
      "\n"
     ]
    }
   ],
   "source": [
    "words = data['words']\n",
    "# 2 번 모델 검증\n",
    "embedding_model = Word2Vec(words, size=100, window = 6, min_count=100, workers=4, iter=100)\n",
    "\n",
    "word_vector = embedding_model.wv.vectors\n",
    "match_index = embedding_model.wv.index2word\n",
    "vecdata = pd.DataFrame(columns=['x{}'.format(i) for i in range(100)])\n",
    "for i in tqdm(range(len(data['words']))):\n",
    "    vec = pd.DataFrame(columns = ['x{}'.format(i) for i in range(100)])\n",
    "    j = 0\n",
    "    for w in match_index:\n",
    "        if w in words[i]:\n",
    "            vec.loc[j] = list(word_vector[match_index.index(w)])\n",
    "            j += 1\n",
    "        score_vec = vec.mean()\n",
    "    vecdata.loc[i] = score_vec\n",
    "\n",
    "data_all_2 = pd.concat([data,vecdata],axis = 1)\n",
    "data_all_2.to_excel('C:/Users/USER/Desktop/labelingdata2018_w2v.xlsx')"
   ]
  },
  {
   "cell_type": "code",
   "execution_count": 25,
   "metadata": {},
   "outputs": [],
   "source": [
    "data_all_2 = data_all_2.dropna(axis = 0) "
   ]
  },
  {
   "cell_type": "code",
   "execution_count": 33,
   "metadata": {},
   "outputs": [
    {
     "name": "stdout",
     "output_type": "stream",
     "text": [
      "[[5161  215]\n",
      " [ 320  287]]\n",
      "              precision    recall  f1-score   support\n",
      "\n",
      "           0       0.94      0.96      0.95      5376\n",
      "           1       0.57      0.47      0.52       607\n",
      "\n",
      "    accuracy                           0.91      5983\n",
      "   macro avg       0.76      0.72      0.73      5983\n",
      "weighted avg       0.90      0.91      0.91      5983\n",
      "\n",
      "0.9105799766003677\n"
     ]
    }
   ],
   "source": [
    "#2번모델 knn돌려보기\n",
    "x = data_all_2.iloc[:,13:113]\n",
    "y = data_all_2.iloc[:,11]\n",
    "\n",
    "x_train, x_test, y_train, y_test = skl.model_selection.train_test_split(x, y,random_state=100,stratify=y) #stratify = y y를 동일한 비율로 나누어 준다.\n",
    "#정규화시키는 함수\n",
    "scaler = skl.preprocessing.StandardScaler()\n",
    "\n",
    "#x_train 정규화\n",
    "scaler.fit(x_train) #x_train 데이터에 대해서 평균과 표준편차 계산\n",
    "x_train = scaler.transform(x_train)\n",
    "x_test = scaler.transform(x_test)\n",
    "###########knn사용해서 분류해보기\n",
    "\n",
    "classifier = KNeighborsClassifier(n_neighbors= 3)\n",
    "classifier.fit(x_train,y_train)\n",
    "knn_pre = classifier.predict(x_test)\n",
    "\n",
    "#성능 평가\n",
    "print(confusion_matrix(y_test,knn_pre))\n",
    "\n",
    "#평가결과 확인\n",
    "print(classification_report(y_test,knn_pre)) #'''\n",
    "print(classifier.score(x_test, y_test))\n"
   ]
  },
  {
   "cell_type": "code",
   "execution_count": 90,
   "metadata": {},
   "outputs": [
    {
     "data": {
      "text/plain": [
       "326"
      ]
     },
     "execution_count": 90,
     "metadata": {},
     "output_type": "execute_result"
    }
   ],
   "source": [
    "# 2 번 모델 검증\n",
    "embedding_model = Word2Vec(words, size=100, window = 6, min_count=100, workers=4, iter=100)\n",
    "\n",
    "word_vector = embedding_model.wv.vectors\n",
    "match_index = embedding_model.wv.index2word\n",
    "vecdata = pd.DataFrame(columns=['x{}'.format(i) for i in range(100)])\n",
    "for i in tqdm(range(len(data['words']))):\n",
    "    vec = pd.DataFrame(columns = ['x{}'.format(i) for i in range(100)])\n",
    "    j = 0\n",
    "    for w in match_index:\n",
    "        if w in words[i]:\n",
    "            vec.loc[j] = list(word_vector[match_index.index(w)])\n",
    "            j += 1\n",
    "        score_vec = vec.mean()\n",
    "    vecdata.loc[i] = score_vec\n",
    "\n",
    "data_all_2 = pd.concat([data,vecdata],axis = 1)\n"
   ]
  },
  {
   "cell_type": "code",
   "execution_count": 135,
   "metadata": {},
   "outputs": [
    {
     "name": "stdout",
     "output_type": "stream",
     "text": [
      "Counter({'국민': 6, '원내': 4, '개혁': 3, '구성': 3, '국회': 3, '대표': 3, '수석': 3, '개헌안': 2, '금주': 2, '노력': 2, '마련': 2, '우선': 2, '정치': 2, '제안': 2, '특위': 2, '활동': 2, '가능': 1, '강조': 1, '개선': 1, '개정': 1, '개헌': 1, '거듭': 1, '경제': 1, '고위': 1, '공수': 1, '공직자': 1, '과제': 1, '국민투표': 1, '기사': 1, '꼽았다': 1, '내야': 1, '다음': 1, '대책': 1, '도려': 1, '도약': 1, '도적': 1, '래야': 1, '마찬가지': 1, '문대': 1, '문의': 1, '민생': 1, '민주당': 1, '바란': 1, '박홍근': 1, '부응': 1, '부터': 1, '불어': 1, '비리': 1, '사법': 1, '새해': 1, '서울': 1, '설치': 1, '성과': 1, '수사': 1, '실시': 1, '아침': 1, '여야': 1, '완료': 1, '요구': 1, '원내대표': 1, '위도': 1, '의정': 1, '일자리': 1, '임시국회': 1, '입법': 1, '적절': 1, '적폐': 1, '접근': 1, '정책': 1, '정치권': 1, '제보': 1, '지방선거': 1, '차원': 1, '찬성': 1, '채팅': 1, '청산': 1, '촉구': 1, '최신': 1, '최우': 1, '트렌드': 1, '합의': 1, '헌법': 1, '혜림': 1, '확실': 1, '환부': 1, '활성화': 1, '회의': 1, '희망': 1})\n",
      "국민\n",
      "원내\n",
      "개혁\n",
      "구성\n",
      "국회\n",
      "대표\n",
      "수석\n",
      "개헌안\n",
      "금주\n",
      "노력\n",
      "마련\n",
      "우선\n",
      "정치\n",
      "제안\n",
      "특위\n",
      "활동\n",
      "가능\n",
      "강조\n",
      "개선\n",
      "개정\n",
      "개헌\n",
      "거듭\n",
      "경제\n",
      "고위\n",
      "공수\n",
      "공직자\n",
      "26366\n"
     ]
    }
   ],
   "source": [
    "import operator\n",
    "word_list = [\"123\", \"테스트\", \"test\", \"123\", \"테스트\", \"test123\", \"중복\", \"중복\"]\n",
    "result = Counter(words[0])\n",
    "print(result)\n",
    "#print(result.keys())\n",
    "#print(result.values())\n",
    "aa = dict(result)\n",
    "sdict = sorted(aa.items(),key=operator.itemgetter(1), reverse = True)\n",
    "sdict[1][0]\n",
    "\n",
    "for i in range(int(len(sdict) * 0.3)):\n",
    "    print(sdict[i][0])"
   ]
  }
 ],
 "metadata": {
  "celltoolbar": "Raw Cell Format",
  "kernelspec": {
   "display_name": "Python 3",
   "language": "python",
   "name": "python3"
  },
  "language_info": {
   "codemirror_mode": {
    "name": "ipython",
    "version": 3
   },
   "file_extension": ".py",
   "mimetype": "text/x-python",
   "name": "python",
   "nbconvert_exporter": "python",
   "pygments_lexer": "ipython3",
   "version": "3.7.6"
  }
 },
 "nbformat": 4,
 "nbformat_minor": 4
}
