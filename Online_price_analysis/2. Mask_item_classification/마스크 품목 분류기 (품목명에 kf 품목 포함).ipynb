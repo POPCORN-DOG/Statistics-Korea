{
 "cells": [
  {
   "cell_type": "code",
   "execution_count": 1,
   "metadata": {},
   "outputs": [
    {
     "data": {
      "text/html": [
       "<div>\n",
       "<style scoped>\n",
       "    .dataframe tbody tr th:only-of-type {\n",
       "        vertical-align: middle;\n",
       "    }\n",
       "\n",
       "    .dataframe tbody tr th {\n",
       "        vertical-align: top;\n",
       "    }\n",
       "\n",
       "    .dataframe thead th {\n",
       "        text-align: right;\n",
       "    }\n",
       "</style>\n",
       "<table border=\"1\" class=\"dataframe\">\n",
       "  <thead>\n",
       "    <tr style=\"text-align: right;\">\n",
       "      <th></th>\n",
       "      <th>colct_stdde</th>\n",
       "      <th>sle_site_domn</th>\n",
       "      <th>prices_prdlst_id</th>\n",
       "      <th>goods_nm</th>\n",
       "      <th>shop_nm</th>\n",
       "      <th>anals_trget_pc</th>\n",
       "      <th>Price</th>\n",
       "      <th>expsr_ordr</th>\n",
       "      <th>job_id</th>\n",
       "      <th>kf</th>\n",
       "      <th>Rand</th>\n",
       "    </tr>\n",
       "  </thead>\n",
       "  <tbody>\n",
       "    <tr>\n",
       "      <th>0</th>\n",
       "      <td>2020-05-25</td>\n",
       "      <td>search.shopping.naver.com</td>\n",
       "      <td>F012050</td>\n",
       "      <td>끈조절 가능 뉴네퓨어 황사방역 마스크 KF94 대형 소형 마스크 - 내니클린</td>\n",
       "      <td>내니클린</td>\n",
       "      <td>2900</td>\n",
       "      <td>2900.0</td>\n",
       "      <td>10.0</td>\n",
       "      <td>490001</td>\n",
       "      <td>94</td>\n",
       "      <td>0.000070</td>\n",
       "    </tr>\n",
       "    <tr>\n",
       "      <th>1</th>\n",
       "      <td>2020-05-12</td>\n",
       "      <td>search.shopping.naver.com</td>\n",
       "      <td>F012050</td>\n",
       "      <td>건영크린텍 10매건영 KF94 미세먼지 마스크 대형 white 5매입2 - G마켓</td>\n",
       "      <td>G마켓</td>\n",
       "      <td>29000</td>\n",
       "      <td>2900.0</td>\n",
       "      <td>80.0</td>\n",
       "      <td>490015</td>\n",
       "      <td>94</td>\n",
       "      <td>0.000081</td>\n",
       "    </tr>\n",
       "    <tr>\n",
       "      <th>2</th>\n",
       "      <td>2020-05-28</td>\n",
       "      <td>search.shopping.naver.com</td>\n",
       "      <td>F012050</td>\n",
       "      <td>[네퓨어] 파인텍 네퓨어 KF94 대형(5매입x1개) 황사 미세먼지 끈조절 마스크 ...</td>\n",
       "      <td>위메프</td>\n",
       "      <td>13000</td>\n",
       "      <td>2600.0</td>\n",
       "      <td>37.0</td>\n",
       "      <td>490008</td>\n",
       "      <td>94</td>\n",
       "      <td>0.000090</td>\n",
       "    </tr>\n",
       "    <tr>\n",
       "      <th>3</th>\n",
       "      <td>2020-04-17</td>\n",
       "      <td>search.shopping.naver.com</td>\n",
       "      <td>F012050</td>\n",
       "      <td>국산 kf80 마스크 대형 - 도그몰</td>\n",
       "      <td>도그몰</td>\n",
       "      <td>3000</td>\n",
       "      <td>3000.0</td>\n",
       "      <td>29.0</td>\n",
       "      <td>490013</td>\n",
       "      <td>80</td>\n",
       "      <td>0.000103</td>\n",
       "    </tr>\n",
       "    <tr>\n",
       "      <th>4</th>\n",
       "      <td>2020-03-28</td>\n",
       "      <td>search.shopping.naver.com</td>\n",
       "      <td>F012050</td>\n",
       "      <td>KF94 마스크 5매 대형/소형/성인/어린이 쉐도우 문 미세먼지 마스크 제로베이 도...</td>\n",
       "      <td>폴보스티몰</td>\n",
       "      <td>19500</td>\n",
       "      <td>3900.0</td>\n",
       "      <td>21.0</td>\n",
       "      <td>490001</td>\n",
       "      <td>94</td>\n",
       "      <td>0.000310</td>\n",
       "    </tr>\n",
       "  </tbody>\n",
       "</table>\n",
       "</div>"
      ],
      "text/plain": [
       "  colct_stdde              sle_site_domn prices_prdlst_id  \\\n",
       "0  2020-05-25  search.shopping.naver.com          F012050   \n",
       "1  2020-05-12  search.shopping.naver.com          F012050   \n",
       "2  2020-05-28  search.shopping.naver.com          F012050   \n",
       "3  2020-04-17  search.shopping.naver.com          F012050   \n",
       "4  2020-03-28  search.shopping.naver.com          F012050   \n",
       "\n",
       "                                            goods_nm shop_nm  anals_trget_pc  \\\n",
       "0         끈조절 가능 뉴네퓨어 황사방역 마스크 KF94 대형 소형 마스크 - 내니클린    내니클린            2900   \n",
       "1      건영크린텍 10매건영 KF94 미세먼지 마스크 대형 white 5매입2 - G마켓     G마켓           29000   \n",
       "2  [네퓨어] 파인텍 네퓨어 KF94 대형(5매입x1개) 황사 미세먼지 끈조절 마스크 ...     위메프           13000   \n",
       "3                               국산 kf80 마스크 대형 - 도그몰     도그몰            3000   \n",
       "4  KF94 마스크 5매 대형/소형/성인/어린이 쉐도우 문 미세먼지 마스크 제로베이 도...   폴보스티몰           19500   \n",
       "\n",
       "    Price  expsr_ordr  job_id  kf      Rand  \n",
       "0  2900.0        10.0  490001  94  0.000070  \n",
       "1  2900.0        80.0  490015  94  0.000081  \n",
       "2  2600.0        37.0  490008  94  0.000090  \n",
       "3  3000.0        29.0  490013  80  0.000103  \n",
       "4  3900.0        21.0  490001  94  0.000310  "
      ]
     },
     "execution_count": 1,
     "metadata": {},
     "output_type": "execute_result"
    }
   ],
   "source": [
    "import pandas as pd\n",
    "from sklearn.model_selection import train_test_split \n",
    "\n",
    "\n",
    "\n",
    "\n",
    "train_df = pd.read_csv('mask-total.csv', sep=',')\n",
    "train_df.head()"
   ]
  },
  {
   "cell_type": "code",
   "execution_count": 2,
   "metadata": {},
   "outputs": [
    {
     "data": {
      "text/html": [
       "<div>\n",
       "<style scoped>\n",
       "    .dataframe tbody tr th:only-of-type {\n",
       "        vertical-align: middle;\n",
       "    }\n",
       "\n",
       "    .dataframe tbody tr th {\n",
       "        vertical-align: top;\n",
       "    }\n",
       "\n",
       "    .dataframe thead th {\n",
       "        text-align: right;\n",
       "    }\n",
       "</style>\n",
       "<table border=\"1\" class=\"dataframe\">\n",
       "  <thead>\n",
       "    <tr style=\"text-align: right;\">\n",
       "      <th></th>\n",
       "      <th>goods_nm</th>\n",
       "      <th>kf</th>\n",
       "    </tr>\n",
       "  </thead>\n",
       "  <tbody>\n",
       "    <tr>\n",
       "      <th>0</th>\n",
       "      <td>끈조절 가능 뉴네퓨어 황사방역 마스크 KF94 대형 소형 마스크 - 내니클린</td>\n",
       "      <td>94</td>\n",
       "    </tr>\n",
       "    <tr>\n",
       "      <th>1</th>\n",
       "      <td>건영크린텍 10매건영 KF94 미세먼지 마스크 대형 white 5매입2 - G마켓</td>\n",
       "      <td>94</td>\n",
       "    </tr>\n",
       "    <tr>\n",
       "      <th>2</th>\n",
       "      <td>[네퓨어] 파인텍 네퓨어 KF94 대형(5매입x1개) 황사 미세먼지 끈조절 마스크 ...</td>\n",
       "      <td>94</td>\n",
       "    </tr>\n",
       "    <tr>\n",
       "      <th>3</th>\n",
       "      <td>국산 kf80 마스크 대형 - 도그몰</td>\n",
       "      <td>80</td>\n",
       "    </tr>\n",
       "    <tr>\n",
       "      <th>4</th>\n",
       "      <td>KF94 마스크 5매 대형/소형/성인/어린이 쉐도우 문 미세먼지 마스크 제로베이 도...</td>\n",
       "      <td>94</td>\n",
       "    </tr>\n",
       "  </tbody>\n",
       "</table>\n",
       "</div>"
      ],
      "text/plain": [
       "                                            goods_nm  kf\n",
       "0         끈조절 가능 뉴네퓨어 황사방역 마스크 KF94 대형 소형 마스크 - 내니클린  94\n",
       "1      건영크린텍 10매건영 KF94 미세먼지 마스크 대형 white 5매입2 - G마켓  94\n",
       "2  [네퓨어] 파인텍 네퓨어 KF94 대형(5매입x1개) 황사 미세먼지 끈조절 마스크 ...  94\n",
       "3                               국산 kf80 마스크 대형 - 도그몰  80\n",
       "4  KF94 마스크 5매 대형/소형/성인/어린이 쉐도우 문 미세먼지 마스크 제로베이 도...  94"
      ]
     },
     "execution_count": 2,
     "metadata": {},
     "output_type": "execute_result"
    }
   ],
   "source": [
    "train_df=train_df.loc[:,['goods_nm','kf']]\n",
    "train_df.head()"
   ]
  },
  {
   "cell_type": "code",
   "execution_count": 3,
   "metadata": {},
   "outputs": [],
   "source": [
    "train_data,test_data=train_test_split(train_df,random_state=100)"
   ]
  },
  {
   "cell_type": "code",
   "execution_count": 4,
   "metadata": {},
   "outputs": [
    {
     "name": "stdout",
     "output_type": "stream",
     "text": [
      "<class 'pandas.core.frame.DataFrame'>\n",
      "Int64Index: 12054 entries, 5166 to 5640\n",
      "Data columns (total 2 columns):\n",
      " #   Column    Non-Null Count  Dtype \n",
      "---  ------    --------------  ----- \n",
      " 0   goods_nm  12054 non-null  object\n",
      " 1   kf        12054 non-null  int64 \n",
      "dtypes: int64(1), object(1)\n",
      "memory usage: 282.5+ KB\n",
      "<class 'pandas.core.frame.DataFrame'>\n",
      "Int64Index: 4019 entries, 10036 to 13413\n",
      "Data columns (total 2 columns):\n",
      " #   Column    Non-Null Count  Dtype \n",
      "---  ------    --------------  ----- \n",
      " 0   goods_nm  4019 non-null   object\n",
      " 1   kf        4019 non-null   int64 \n",
      "dtypes: int64(1), object(1)\n",
      "memory usage: 94.2+ KB\n"
     ]
    }
   ],
   "source": [
    "train_data.info()\n",
    "test_data.info()"
   ]
  },
  {
   "cell_type": "code",
   "execution_count": 5,
   "metadata": {},
   "outputs": [
    {
     "data": {
      "text/plain": [
       "(2129, 3)"
      ]
     },
     "execution_count": 5,
     "metadata": {},
     "output_type": "execute_result"
    }
   ],
   "source": [
    "train_data['goods_nm'].nunique(), train_data['kf'].nunique()"
   ]
  },
  {
   "cell_type": "code",
   "execution_count": 6,
   "metadata": {},
   "outputs": [
    {
     "name": "stderr",
     "output_type": "stream",
     "text": [
      "C:\\ProgramData\\Anaconda3\\lib\\site-packages\\ipykernel_launcher.py:1: SettingWithCopyWarning: \n",
      "A value is trying to be set on a copy of a slice from a DataFrame\n",
      "\n",
      "See the caveats in the documentation: https://pandas.pydata.org/pandas-docs/stable/user_guide/indexing.html#returning-a-view-versus-a-copy\n",
      "  \"\"\"Entry point for launching an IPython kernel.\n"
     ]
    }
   ],
   "source": [
    "train_data.drop_duplicates(subset=['goods_nm'], inplace=True) "
   ]
  },
  {
   "cell_type": "code",
   "execution_count": 7,
   "metadata": {},
   "outputs": [
    {
     "name": "stdout",
     "output_type": "stream",
     "text": [
      "총 샘플의 수 : 2129\n"
     ]
    }
   ],
   "source": [
    "print('총 샘플의 수 :',len(train_data))"
   ]
  },
  {
   "cell_type": "code",
   "execution_count": 8,
   "metadata": {},
   "outputs": [
    {
     "data": {
      "text/plain": [
       "<matplotlib.axes._subplots.AxesSubplot at 0x1664a776d88>"
      ]
     },
     "execution_count": 8,
     "metadata": {},
     "output_type": "execute_result"
    },
    {
     "data": {
      "image/png": "[encoded data removed]",
      "text/plain": [
       "<Figure size 432x288 with 1 Axes>"
      ]
     },
     "metadata": {
      "needs_background": "light"
     },
     "output_type": "display_data"
    }
   ],
   "source": [
    "train_data['kf'].value_counts().plot(kind = 'bar')"
   ]
  },
  {
   "cell_type": "code",
   "execution_count": 9,
   "metadata": {},
   "outputs": [
    {
     "name": "stdout",
     "output_type": "stream",
     "text": [
      "   kf  count\n",
      "0  80    573\n",
      "1  94   1521\n",
      "2  99     35\n"
     ]
    }
   ],
   "source": [
    "print(train_data.groupby('kf').size().reset_index(name = 'count'))"
   ]
  },
  {
   "cell_type": "code",
   "execution_count": 10,
   "metadata": {},
   "outputs": [
    {
     "name": "stderr",
     "output_type": "stream",
     "text": [
      "C:\\ProgramData\\Anaconda3\\lib\\site-packages\\ipykernel_launcher.py:1: SettingWithCopyWarning: \n",
      "A value is trying to be set on a copy of a slice from a DataFrame\n",
      "\n",
      "See the caveats in the documentation: https://pandas.pydata.org/pandas-docs/stable/user_guide/indexing.html#returning-a-view-versus-a-copy\n",
      "  \"\"\"Entry point for launching an IPython kernel.\n"
     ]
    }
   ],
   "source": [
    "test_data.drop_duplicates(subset=['goods_nm'], inplace=True) "
   ]
  },
  {
   "cell_type": "code",
   "execution_count": 11,
   "metadata": {},
   "outputs": [
    {
     "data": {
      "text/plain": [
       "<matplotlib.axes._subplots.AxesSubplot at 0x1664dc73648>"
      ]
     },
     "execution_count": 11,
     "metadata": {},
     "output_type": "execute_result"
    },
    {
     "data": {
      "image/png": "[encoded data removed]",
      "text/plain": [
       "<Figure size 432x288 with 1 Axes>"
      ]
     },
     "metadata": {
      "needs_background": "light"
     },
     "output_type": "display_data"
    }
   ],
   "source": [
    "test_data['kf'].value_counts().plot(kind = 'bar')"
   ]
  },
  {
   "cell_type": "code",
   "execution_count": 12,
   "metadata": {},
   "outputs": [
    {
     "name": "stdout",
     "output_type": "stream",
     "text": [
      "총 샘플의 수 : 1383\n"
     ]
    }
   ],
   "source": [
    "print('총 샘플의 수 :',len(test_data))"
   ]
  },
  {
   "cell_type": "code",
   "execution_count": 13,
   "metadata": {},
   "outputs": [
    {
     "name": "stdout",
     "output_type": "stream",
     "text": [
      "False\n"
     ]
    }
   ],
   "source": [
    "print(train_data.isnull().values.any())"
   ]
  },
  {
   "cell_type": "code",
   "execution_count": 14,
   "metadata": {},
   "outputs": [],
   "source": [
    "stopwords = ['의','가','이','은','들','는','좀','잘','걍','과','도','를','으로','자','에','와','한','하다']"
   ]
  },
  {
   "cell_type": "code",
   "execution_count": 15,
   "metadata": {},
   "outputs": [],
   "source": [
    "import urllib.request\n",
    "%matplotlib inline\n",
    "import matplotlib.pyplot as plt\n",
    "import re\n",
    "from konlpy.tag import Okt\n",
    "from tensorflow.keras.preprocessing.text import Tokenizer\n",
    "import numpy as np\n",
    "from tensorflow.keras.preprocessing.sequence import pad_sequences"
   ]
  },
  {
   "cell_type": "code",
   "execution_count": 16,
   "metadata": {},
   "outputs": [],
   "source": [
    "okt=Okt()\n",
    "X_train = []\n",
    "for sentence in train_data['goods_nm']:\n",
    "    temp_X = []\n",
    "    temp_X = okt.morphs(sentence, stem=True) # 토큰화\n",
    "    temp_X = [word for word in temp_X if not word in stopwords] # 불용어 제거\n",
    "    X_train.append(temp_X)"
   ]
  },
  {
   "cell_type": "code",
   "execution_count": 17,
   "metadata": {},
   "outputs": [
    {
     "name": "stdout",
     "output_type": "stream",
     "text": [
      "[['웰', '클린', '황사', '방역', '마스크', 'KF', '94', '5', '매', '/', '성인', '/', '대형', '/', '일회용', '-', 'G', '마켓'], ['스마일', '황사', '미세먼지', '마스크', 'KF', '80', 'X', '30', '개', '(', '블랙', '/', '블랙', '+', '화이트', ')', '-', '롯데', 'ON'], ['쉼표', '리빙', '황사', '방역', '마스크', 'KF', '94', '그레이', '대형', '(', '1', '팩', '5', '매', ')', '-', '쿠팡']]\n"
     ]
    }
   ],
   "source": [
    "print(X_train[:3])"
   ]
  },
  {
   "cell_type": "code",
   "execution_count": 19,
   "metadata": {},
   "outputs": [],
   "source": [
    "X_test = []\n",
    "for sentence in test_data['goods_nm']:\n",
    "    temp_X = []\n",
    "    temp_X = okt.morphs(sentence, stem=True) # 토큰화\n",
    "    temp_X = [word for word in temp_X if not word in stopwords] # 불용어 제거\n",
    "    X_test.append(temp_X)"
   ]
  },
  {
   "cell_type": "code",
   "execution_count": 20,
   "metadata": {},
   "outputs": [
    {
     "name": "stdout",
     "output_type": "stream",
     "text": [
      "[['(', '당일', '출고', ')', '코지', 'KF', '94', '마스크', '대형', '5', '매입', '블랙', '-', 'G', '마켓'], ['KF', '80', '오픈', '프리', '흰색', '대형', '마스크', '5', '매', '-', 'G', '마켓'], ['KF', '94', '대형', '마스크', '1', '개', '(', '5', '매', ')', 'x', '5', '개', '(', '총', '25', '매입', '),', '바이러스', ',', '황사', ',', '미세먼지', '-', '동백꽃', '상회']]\n"
     ]
    }
   ],
   "source": [
    "print(X_test[:3])"
   ]
  },
  {
   "cell_type": "code",
   "execution_count": 21,
   "metadata": {},
   "outputs": [],
   "source": [
    "tokenizer = Tokenizer()\n",
    "tokenizer.fit_on_texts(X_train)"
   ]
  },
  {
   "cell_type": "code",
   "execution_count": 22,
   "metadata": {},
   "outputs": [
    {
     "name": "stdout",
     "output_type": "stream",
     "text": [
      "{'마스크': 1, 'kf': 2, '-': 3, '94': 4, '대형': 5, '황사': 6, '1': 7, '개': 8, '(': 9, '미세먼지': 10, ')': 11, '80': 12, '매': 13, '/': 14, '5': 15, '방역': 16, '포장': 17, '[': 18, ']': 19, '개별': 20, '매입': 21, '10': 22, '마켓': 23, '소형': 24, '일회용': 25, 'g': 26, '화이트': 27, '용': 28, '국내': 29, '11': 30, '번가': 31, '당일': 32, '국산': 33, '퓨어': 34, '코로나': 35, '쿠팡': 36, '네': 37, '옥션': 38, '3': 39, '발송': 40, ',': 41, '위메프': 42, '성': 43, '인용': 44, '어린이': 45, '블랙': 46, '개입': 47, '가드': 48, '티몬': 49, '식약처': 50, '출고': 51, '생산': 52, '몰다': 53, '랜덤': 54, '뉴': 55, '웰킵스': 56, '4': 57, '푸른': 58, '황': 59, 'x': 60, '중형': 61, '인증': 62, '대': 63, '사방': 64, '역용': 65, '차단': 66, '흰색': 67, '닥터': 68, '크다': 69, '퓨리': 70, '크리넥스': 71, '인터파크': 72, '먼지': 73, '필터': 74, '숨': 75, '배송': 76, '조': 77, '애니': 78, '더': 79, '초미세먼지': 80, '건강': 81, '케어': 82, '방한': 83, '2': 84, '더스논': 85, '늘': 86, '보건': 87, '형': 88, '조절': 89, '끈': 90, '파다': 91, '19': 92, '플러스': 93, '재고': 94, '파인텍': 95, '미세': 96, '프리': 97, '99': 98, '산': 99, '중': 100, '동아제약': 101, '스토어': 102, '성인': 103, '샵': 104, '입체': 105, '아': 106, '예방': 107, '면': 108, '1회': 109, 'q': 110, '우한': 111, '생활': 112, '낱개': 113, '허가': 114, '도매': 115, '20': 116, '의약외품': 117, '유한킴벌리': 118, '데이': 119, '린': 120, '애경': 121, '30': 122, '롯데': 123, '바이러스': 124, '세트': 125, '아동': 126, '캐릭터': 127, '숲': 128, '중구': 129, '인': 130, 'p': 131, '확보': 132, '밉다': 133, '팩': 134, '브랜드': 135, '메다': 136, '웰': 137, '리빙': 138, '초소': 139, '폐렴': 140, '가능': 141, 'm': 142, '일월': 143, '블루': 144, '제로': 145, '소': 146, '오다': 147, '도부': 148, '상품': 149, '오늘': 150, '와이': 151, '스마트': 152, '온': 153, '총': 154, '무형': 155, '광': 156, '라': 157, '하이': 158, '린탑': 159, '아이': 160, '테라': 161, '초': 162, '베이': 163, '씨': 164, '대응': 165, '엠': 166, '브레스': 167, '25': 168, '사용': 169, '9': 170, '도그': 171, '용품': 172, '무료': 173, 'lg': 174, 'n': 175, '쉼표': 176, '웰빙': 177, '안심': 178, '크린웰': 179, '세이프': 180, 'new': 181, '데': 182, '일리': 183, '_': 184, '클린': 185, '올': 186, '한숨': 187, '입': 188, '세': 189, '휴': 190, '약품': 191, '마트': 192, '유아': 193, '엔': 194, '패션': 195, '에르': 196, '프리미엄': 197, '국': 198, '봉지': 199, '해피': 200, '국제': 201, '에버그린': 202, '정품': 203, '지': 204, 'w': 205, 'on': 206, '그레이': 207, 'why': 208, '에어': 209, '인기': 210, '15': 211, '판촉': 212, '원': 213, '몬스터': 214, '코로나바이러스': 215, '끌': 216, '레': 217, '안청': 218, '백색': 219, 'ququ': 220, '시': 221, '오': 222, '트리': 223, '판매': 224, '95': 225, '루트': 226, '기타': 227, '보유': 228, '좋다': 229, '헬': 230, '그린': 231, '외': 232, '.': 233, '뽀로로': 234, '푸르다': 235, '니스': 236, '이지': 237, '구매': 238, '출발': 239, '디': 240, '일동': 241, '텍': 242, '파': 243, '인더스': 244, '건영크린텍': 245, 'k': 246, '확행': 247, '맑은': 248, '없다': 249, '장': 250, '에코': 251, '한정': 252, '코지': 253, '물': 254, '다': 255, '식약청': 256, '덴탈': 257, '라이프': 258, '엘지': 259, '스토리': 260, '여름': 261, '수량': 262, '제조': 263, '하늘': 264, '에스': 265, '숨쉬다': 266, '이노': 267, '센트': 268, 'dust': 269, '핑크': 270, '레카': 271, '밸브': 272, '일동제약': 273, '안전': 274, '보령제약': 275, '에이치': 276, '방진': 277, '봉': 278, '제이': 279, '케이': 280, '매다': 281, 's': 282, '이엠': 283, '스': 284, '공': 285, '닷컴': 286, '쇼핑': 287, '디즈니': 288, '밀착': 289, '편안': 290, '기념품': 291, '써니': 292, '에어워셔': 293, '파이브': 294, '이네': 295, '검정': 296, '만': 297, 'd': 298, '편하다': 299, 'l': 300, '버퍼': 301, '삼': 302, '묶음': 303, '동아': 304, '신종': 305, '히트': 306, '테크': 307, '디자인': 308, '나은': 309, '코': 310, '앤': 311, '입다': 312, '코튼': 313, '푸드': 314, '5월': 315, 'ml': 316, '건영': 317, '365': 318, '오공': 319, 'issm': 320, '차다': 321, '퐁': 322, '개다': 323, '홈': 324, '편': 325, '재다': 326, '소량': 327, 'beeb': 328, '상회': 329, '고': 330, '+': 331, '색상': 332, '야': 333, '사이즈': 334, '쿨': 335, '밀봉': 336, '더숨': 337, '숨쉬기': 338, '윤': 339, '제작': 340, '주식회사': 341, '린숨': 342, '닉스': 343, '몽생': 344, '미쉘': 345, '프렌즈': 346, '박스': 347, '씩': 348, '계절': 349, '알뜰': 350, '뷰티': 351, '코리아': 352, 'blue': 353, '제': 354, '핏': 355, 'box': 356, '메이드': 357, '메': 358, '일편': 359, '100': 360, '뉴크린웰': 361, ')/': 362, '긴급': 363, '군': 364, '엘': 365, '주': 366, '!': 367, '에이스': 368, '유한양행': 369, '6': 370, '로': 371, '위생': 372, '카드': 373, '쉬': 374, 'e': 375, 'c': 376, '일양약품': 377, '빠르다': 378, '포켓몬': 379, '50': 380, 'i': 381, '할인': 382, '기능': 383, '프티': 384, '참조': 385, '위': 386, '후': 387, '어': 388, '클립': 389, '리드': 390, '아이비': 391, '페이스': 392, 'f': 393, '파이': 394, '냉동': 395, '미소': 396, '쌍용': 397, '키즈': 398, '94/10': 399, '팡팡': 400, '의료': 401, '쉴드': 402, '에프': 403, '동백꽃': 404, '가격': 405, '템': 406, '맘': 407, 'ssk': 408, '마이': 409, '655': 410, '익': 411, '일출': 412, '급': 413, '유앤아이': 414, '하나': 415, '미키마우스': 416, '동': 417, '휴대': 418, '시험': 419, '기준': 420, '통과': 421, '24': 422, '바로': 423, '꿍': 424, '연예인': 425, '아텍스': 426, '내': 427, '마스': 428, ')(': 429, '회사': 430, '공조': 431, '종로': 432, '오픈': 433, 'shop': 434, '앤비': 435, '퀸': 436, 'z': 437, '되다': 438, '인쇄': 439, '184': 440, '감기': 441, '나': 442, '리': 443, '산업': 444, '모든': 445, '화': 446, '힐': 447, '쇼핑몰': 448, '부직포': 449, '실크': 450, '랑': 451, '제품': 452, '반짝반짝': 453, 'o': 454, '교체': 455, '프로': 456, '넥스': 457, '또': 458, '와썹': 459, '이다': 460, '뜨다': 461, '오가다': 462, '팡': 463, '완벽': 464, '스타일': 465, '왕국': 466, '청춘': 467, '에티카': 468, '손세정제': 469, '신': 470, '보리': 471, '검정색': 472, '3월': 473, '라인': 474, '홈쇼핑': 475, '보령': 476, '겹': 477, '소아': 478, '꿈꾸다': 479, '나나': 480, 'b': 481, '토': 482, '익일': 483, '공용': 484, '취소': 485, 'ssg': 486, '기프트': 487, '감염': 488, 'codi': 489, '스케': 490, '로이': 491, '양': 492, '보호': 493, '널': 494, '대나무': 495, '늘품': 496, '지기': 497, '상점': 498, '셀': 499, '트': 500, '모으다': 501, '오피스': 502, '201': 503, '티': 504, '잇다': 505, '월드': 506, '퍼니맘': 507, '상의': 508, '컴퍼니': 509, '우리': 510, '베이비': 511, '비': 512, '][': 513, '포': 514, '베이직': 515, '이마트': 516, '착하다': 517, '배기': 518, '일': 519, '미니': 520, '키티': 521, '~': 522, '에버': 523, '0119': 524, 'km': 525, '굿데이': 526, ')-': 527, '베다': 528, '재': 529, '짱': 530, '이브': 531, '리즈': 532, '여': 533, '그': 534, '램덤': 535, 'only': 536, '니': 537, '조이': 538, '7': 539, '청정': 540, '텐바이텐': 541, '즈': 542, '하': 543, '방지': 544, '완료': 545, '500': 546, '랩': 547, '아기': 548, '세이': 549, '이루다': 550, 'shall': 551, '제약': 552, '꿀벌': 553, '777': 554, '피타': 555, '네오프렌': 556, '타다': 557, '벨': 558, '류': 559, '스몰': 560, '떼': 561, '자연': 562, '남여': 563, 'yellow': 564, '드림': 565, '오후': 566, 'mplus': 567, '강남': 568, '무역': 569, '퓨': 570, '약사': 571, '오디': 572, '답례': 573, '품': 574, '선샤인': 575, '아유': 576, '레디': 577, '센터': 578, '독감': 579, '코코': 580, '점': 581, '라피': 582, '이상': 583, '존': 584, '문': 585, '노': 586, '어스': 587, '적': 588, '약국': 589, '다나': 590, '아이리스': 591, '순면': 592, '개제': 593, '행': 594, '거인': 595, '행거': 596, '멸치': 597, '주니어': 598, '메가마트': 599, '블링마': 600, '클릭': 601, '암웨이': 602, '),': 603, 'xs': 604, '가족': 605, '나라': 606, '모나리자': 607, '쿠션': 608, '컴퓨존': 609, '현대': 610, 'hmall': 611, '9012': 612, '디펜스': 613, '피': 614, '100%': 615, '핑크베리': 616, '릴리': 617, '프': 618, '안녕': 619, '팔': 620, '성용': 621, '헬로키티': 622, '대박': 623, '미생': 624, '더블': 625, '기술': 626, 'u': 627, '54432': 628, '더쏠': 629, '닉': 630, '손소독제': 631, '전용': 632, '모음': 633, '굿': 634, '분진': 635, 'r': 636, '탐사': 637, '대웅': 638, '중외': 639, '헬로': 640, '대다': 641, '미즈': 642, '헤나': 643, '따따': 644, '레시아': 645, '영': 646, '한국': 647, '웰킵': 648, '공적': 649, '비타': 650, '마니아': 651, 'go': 652, '깨끗하다': 653, 'jy': 654, '미디어': 655, '이전': 656, '문건': 657, 'merci': 658, 'beaucoup': 659, '내다': 660, '작다': 661, '*': 662, 'mall': 663, 'jwb': 664, '칼': 665, '행사': 666, '보': 667, 'dgg': 668, '프랜즈': 669, '4월': 670, '8일': 671, '플라자': 672, '피피턴': 673, '엔젤': 674, '가다': 675, '니드': 676, 'cjmall': 677, '수프림': 678, 'madammaket': 679, 'cozy': 680, '폴': 681, '보스': 682, '헤르메스': 683, '타운': 684, '브리': 685, '접이식': 686, '바디': 687, '생활용품': 688, '오렌지': 689, '공룡': 690, '멸균': 691, '라비': 692, '런닝맨': 693, '아리': 694, '조사': 695, '카페': 696, '글로리': 697, '앙': 698, '하늬': 699, '리치': 700, '나인': 701, '나프': 702, '삼성': 703, '선물': 704, '물량': 705, '까지': 706, '써다': 707, 'sk': 708, 'pm': 709, '2.5': 710, '효도': 711, '프레': 712, '알': 713, '스테이': 714, '세다': 715, '타': 716, '인사': 717, '나노': 718, '벌': 719, '용마스크': 720, '틱': 721, 'j': 722, '품절': 723, '베니': 724, '스마': 725, '드리다': 726, '맑음': 727, '휴먼': 728, '8': 729, '파크': 730, '스포츠': 731, 'reino': 732, '바': 733, '파파': 734, '몽': 735, 'hi': 736, '종': 737, 'by': 738, '방송': 739, '공식': 740, 'v': 741, '구조': 742, '즉시': 743, '쓸엠': 744, '빈': 745, '일반': 746, '청소년': 747, '//': 748, '잡화': 749, '봄이몬': 750, '도로': 751, '시바': 752, '토스': 753, 'smomoya': 754, '주문': 755, '단위': 756, '플러스원': 757, '블': 758, '20일': 759, '공기': 760, '2020': 761, '마': 762, 'rw': 763, '네이처': 764, '코코몽': 765, '3200원': 766, '이편': 767, '755초': 768, '미세먼지황사마스크': 769, '상어': 770, '컨테이젼': 771, '직구': 772, '플랜': 773, '7일': 774, '무지': 775, '초등학생': 776, '커머스': 777, '꼼짝': 778, '방영': 779, '봉봉': 780, '픽셀': 781, '크루': 782, '편안하다': 783, '함소': 784, '김': 785, '서림': 786, 'dobu': 787, '메이': 788, '추가': 789, '투': 790, '스마일': 791, '클럽': 792, '지르다': 793, '입자': 794, '유해': 795, '물질': 796, '94/3': 797, '사라고사': 798, 'wwmall': 799, '헤븐': 800, 'white': 801, '건민홈': 802, '-(': 803, '공수': 804, '힉스': 805, '윌': 806, '로우': 807, '리프': 808, '쉐이프': 809, '로드': 810, '5시': 811, '택배': 812, '막다': 813, '이기다': 814, '놀': 815, '슈퍼': 816, '알맹이': 817, '1990원': 818, '티에스': 819, '80/10': 820, '1095': 821, '용감하다': 822, '에디슨': 823, '에게': 824, '잘맞다': 825, '우스': 826, 'vitags': 827, 'ze': 828, '틀다': 829, 'botn': 830, '숲속': 831, '다모아': 832, '미래': 833, '동성제약': 834, '유통': 835, '대량': 836, '벌꿀': 837, '파트너': 838, '쉬다': 839, '봉총': 840, '300': 841, '배송비': 842, '위키': 843, '휴니프': 844, '큐큐': 845, '유가': 846, '플레이': 847, '쉐도우': 848, '한컴': 849, '핫라인': 850, '수준': 851, '라나': 852, '또는': 853, '쥬르': 854, '지피다': 855, '오메': 856, '드': 857, '솔바람': 858, 'jh': 859, '종합': 860, '두': 861, '배': 862, '지퍼': 863, '코스트코': 864, '약': 865, '사뿐사뿐': 866, '정': 867, '동국제약': 868, '어울림': 869, '핫': 870, '플': 871, '레이스': 872, 'adonai': 873, '점빵': 874, '마미': 875, '정담': 876, '수령': 877, '확정': 878, '부탁드리다': 879, 'gw': 880, '3400원': 881, '러시': 882, '쓰다': 883, '소녀': 884, '아이엠': 885, '피씨': 886, 'whynotmall': 887, 'lohbs': 888, '롭스': 889, 'px': 890, 'ea': 891, '단체': 892, '순이': 893, '합리': 894, '펜': 895, '사랑': 896, '코퍼레이션': 897, '밀리': 898, '119': 899, '4시': 900, '이전주문건': 901, '에듀': 902, '건': 903, '컬리': 904, 'abm': 905, '휴브': 906, '핸드': 907, '포함': 908, '03173': 909, 'minikitty': 910, '바르다': 911, '직스': 912, '악': 913, '올리브': 914, '해': 915, '12시': 916, '전자파': 917, '안면': 918, '과식': 919, '수': 920, '페어': 921, '코스트': 922, '철저하다': 923, '가게': 924, 'minimell': 925, '안양': 926, '마운틴': 927, '그린데이': 928, 'store': 929, '이온': 930, '라오': 931, '테르': 932, '반짝': 933, '맨': 934, '시니어': 935, 'disney': 936, 'bk': 937, '200201': 938, 'guard': 939, '024': 940, '클레어': 941, '마망': 942, '라운드': 943, '11일': 944, '패키지': 945, '라바': 946, '라떼': 947, 'gsfresh': 948, '임시': 949, '업로드': 950, 'pollution': 951, 'proof': 952, 'solution': 953, 'bw': 954, '손소독': 955, '젤': 956, 'ubuy': 957, '상세': 958, '급사': 959, '조아': 960, '어르다': 961, '금액': 962, '임': 963, '최소': 964, '제이스': 965, '피앤티': 966, '선택': 967, '아라': 968, '!!': 969, '앤지': 970, '루카스': 971, '딩': 972, '시크릿': 973, '쥬쥬': 974, '헬스': 975, 'detailssee': 976, '0': 977, 'a': 978, 'free': 979, '액세서리': 980, '소품': 981, '에브리': 982, '2월': 983, '25일': 984, '9013': 985, '담': 986, '켓': 987, '8949': 988, '빛나다': 989, '더스': 990, '논': 991, '스펀지': 992, '6시': 993, '나무': 994, '더블유': 995, '둘': 996, '120': 997, 'age': 998, '18': 999, '※': 1000, '도르다': 1001, '하우스': 1002, '03167': 1003, '컴퓨터': 1004, 'sj': 1005, '코비': 1006, 'bt': 1007, '21': 1008, '신라': 1009, '면세점': 1010, '반창고': 1011, '별': 1012, '지미': 1013, '앤코': 1014, '로부터': 1015, '세균': 1016, '신형': 1017, '더쌈': 1018, '케이엠': 1019, '순차': 1020, '회원': 1021, '2,000원': 1022, '6일': 1023, '다린': 1024, '오버레이': 1025, 'ovly': 1026, '조기': 1027, '예상': 1028, '새': 1029, '지니': 1030, '특허': 1031, '손': 1032, '정제': 1033, '화장품': 1034, '앤드': 1035, '회색': 1036, '케이스': 1037, 'com': 1038, '중황': 1039, '186': 1040, 'befed': 1041, 'dr': 1042, 'furi': 1043, '해외': 1044, '매쉬': 1045, '보다': 1046, '3300원': 1047, 'kn': 1048, 'mask': 1049, '상사': 1050, '겨울왕국': 1051, '창고': 1052, '항공': 1053, '부터': 1054, '용량': 1055, 'urban': 1056, 'er': 1057, '카봇': 1058, '분홍': 1059, '콧수염': 1060, '풀': 1061, '사당': 1062, '문구': 1063, '큐브': 1064, '우체국': 1065, '큐': 1066, 'mhcare': 1067, 'or': 1068, '늦다': 1069, '매진': 1070, '단': 1071, '생명과학': 1072, '2일': 1073, '공대': 1074, '아빠': 1075, '웹': 1076, 'etv': 1077, '웰스': 1078, '베스트': 1079, '바바라': 1080, '펄퀸': 1081, '셀렉': 1082, '레드': 1083, '페이': 1084, '아무르': 1085, '골든': 1086, '브': 1087, '리스': 1088, '치윤': 1089, '매너': 1090, '교환': 1091, '사이': 1092, '레버': 1093, '하프': 1094, '우메': 1095, 'inshop': 1096, 'dapala': 1097, '워치': 1098, 'atex': 1099, '코디': 1100, '베': 1101, '비언': 1102, 'gamezend': 1103, '안전하다': 1104, '견고하다': 1105, '야크': 1106, '유닛': 1107, '808': 1108, '미카': 1109, '군위': 1110, '완전': 1111, '알파': 1112, '오메가': 1113, 'say': 1114, '인코': 1115, '유앤': 1116, 'basic': 1117, '우리동네': 1118, '서방': 1119, '연속': 1120, '알뜰하다': 1121, '기념': 1122, '노블레스': 1123, '해밀': 1124, 'haemil': 1125, '파란': 1126, '요': 1127, '고다': 1128, 'wonder': 1129, 'bay': 1130, '마르': 1131, '27,000원': 1132, '아울렛몰': 1133, '40,000원': 1134, '가원': 1135, '솔루션': 1136, '현물': 1137, '아이파크': 1138, 'sm': 1139, '바라다': 1140, '브렉': 1141, '매직': 1142, '트리플': 1143, 'pow': 1144, '얄': 1145, '리얄': 1146, '샵딜': 1147, '로고': 1148, '금강': 1149, ')*': 1150, 'sf': 1151, '전문': 1152, '띵크몰': 1153, '나뽀': 1154, '·': 1155, '닷': 1156, '컴': 1157, '인스타': 1158, '피아': 1159, '미요': 1160, '기발하다': 1161, '아이디어': 1162, '젠더': 1163, '더존': 1164, '엄지': 1165, '포켓몬스터': 1166, '42,000원': 1167, '제이에이': 1168, '이시스': 1169, '아이온': 1170, '누르다': 1171, '이보': 1172, '남녀': 1173, '채널': 1174, 'wisepeople': 1175, '썸': 1176, '언니': 1177, '팹': 1178, '시티': 1179, '산타클라라': 1180, '펀앤펀': 1181, '리터': 1182, '뽑다': 1183, 'anne': 1184, 'kouzhao': 1185, '1986': 1186, '메이크업': 1187, '전자': 1188, '2900원': 1189, '한량': 1190, '아늑홈': 1191, '기업': 1192, 'ccmedi': 1193, '원픽굿쯔': 1194, 'jmb': 1195, 'distributi': 1196, '위텍': 1197, '마쓰': 1198, '리오': 1199, '솜': 1200, '관리': 1201, '필수': 1202, '보영': 1203, '755': 1204, '탈취': 1205, '길이': 1206, '최': 1207, '제약회사': 1208, '핑팜': 1209, '80/94': 1210, '입금': 1211, '일곱시': 1212, '당': 1213, '리얼': 1214, '라이즈': 1215, '해솔': 1216, 'losy': 1217, '애니멀': 1218, '초등생': 1219, '얼굴': 1220, '여성': 1221, '4/15': 1222, '플러리싱': 1223, '부베': 1224, '시즌': 1225, '샘물': 1226, '쓸다': 1227, '비엘': 1228, '연마': 1229, '대왕': 1230, '아토': 1231, '철': 1232, '철물': 1233, '가족사': 1234, '정전': 1235, '픽업': 1236, '건강하다': 1237, '폰': 1238, '케이에스': 1239, 'daegeon': 1240, '★★★': 1241, '격리': 1242, '가든': 1243, 'mn': 1244, '럽': 1245, '고급': 1246, '탈리아': 1247, '하울': 1248, '로그': 1249, '라이온': 1250, '바른': 1251, '토탈': 1252, 'hbnc': 1253, '다이소': 1254, '실속': 1255, '대비': 1256, '80/3': 1257, '메멋': 1258, '간지': 1259, '통통': 1260, '부': 1261, '1001': 1262, '네트워크': 1263, '9010': 1264, 'cm': 1265, '화생방': 1266, '화재': 1267, '믿다': 1268, '있다': 1269, 'ym': 1270, '케': 1271, '몰든': 1272, '메디앙스': 1273, '엄마': 1274, '승인': 1275, '스미다': 1276, '가지': 1277, '맘스맘': 1278, '참고': 1279, 'hw': 1280, '팽수몰': 1281, '전문점': 1282, '123': 1283, 'is': 1284, '농': 1285, '자재': 1286, 'elvin': 1287, '전자상거래': 1288, '혜원': 1289, '토미': 1290, '개똥': 1291, 'highway': 1292, '세일': 1293, '연분홍': 1294, '달별': 1295, '이하': 1296, 'coco': 1297, 'hd': 1298, '슬기롭다': 1299, '주부': 1300, '제피르': 1301, '팰컨': 1302, '올랜즈': 1303, '샵마': 1304, '이스터': 1305, '로켓': 1306, '지향': 1307, '▶▶': 1308, '우환': 1309, '유한': 1310, '사다': 1311, 'dy': 1312, '로봇': 1313, '트레인': 1314, '리버': 1315, '섬유': 1316, '달곰': 1317, '80초': 1318, '프라임': 1319, '래': 1320, '언스': 1321, 'no': 1322, '돌콩': 1323, 'for': 1324, 'body': 1325, '당근': 1326, '주말': 1327, '판매점': 1328, '정우': 1329, '설명': 1330, '8390981': 1331, '부여': 1332, '다기': 1333, '능': 1334, '빅트리': 1335, '44079': 1336, '진스': 1337, '골프': 1338, '삼천리': 1339, '팩토리': 1340, '복수': 1341, 'scover': 1342, '__': 1343, '모두': 1344, '연구소': 1345, '서다': 1346, '야몽': 1347, '구르다': 1348, '만물상': 1349, '탐탐': 1350, '오스틴': 1351, '천연': 1352, '비누': 1353, 'gnc': 1354, '별별': 1355, '코로': 1356, '살균': 1357, '선화': 1358, '망고': 1359, '예스': 1360, 'gbw': 1361, '체리': 1362, 'dvis': 1363, '히': 1364, '마인드': 1365, '엠나': 1366, '13일': 1367, '마넷': 1368, '및': 1369, '환풍기': 1370, '방독면': 1371, '셀러': 1372, '디엠': 1373, '러브': 1374, 'dola': 1375, '19일': 1376, '화요일': 1377, '카이': 1378, '샤': 1379, '45,000원': 1380, '2500': 1381, '모닝': 1382, '로란': 1383, '드류': 1384, '스팟': 1385, '관공서': 1386, '공공': 1387, '기간': 1388, 'sp': 1389, 'wori': 1390, '웨딩': 1391, '리우': 1392, '골디락스': 1393, 'neocommerce': 1394, '컨슈머': 1395, '부엉이': 1396, '1975': 1397, '멘토': 1398, '피앤티디': 1399, '애덜': 1400, '바이': 1401, '딜': 1402, 'hanimall': 1403, '원단': 1404, '바이오': 1405, '팔구사구': 1406, '어버이날': 1407, '부모님': 1408, '아버지': 1409, '어머니': 1410, 'gd': 1411, '믿음': 1412, '4/9': 1413, 'dpecorp': 1414, '코스': 1415, '구': 1416, '띵': 1417, '제리': 1418, '35,000원': 1419, '5~10': 1420, '크레송': 1421, '질': 1422, 'befedf': 1423, '오땡스': 1424, '츠비': 1425, '기회': 1426, '1500원': 1427, '동일': 1428, '주소': 1429, '최대': 1430, '가능하다': 1431, 'sjg': 1432, '기': 1433, '장터': 1434, '푸룸': 1435, '리지': 1436, 'hans': 1437, '플렌티': 1438, '덕': 1439, '트랩': 1440, '필수품': 1441, 'mad': 1442, 'hippie': 1443, '퍼스트': 1444, '렌탈': 1445, '리빙굿': 1446, '진시': 1447, '드립': 1448, '지황': 1449, '사방역': 1450, 'agoods': 1451, '다산': 1452, '띠': 1453, '앗다': 1454, ')[': 1455, 'gsl': 1456, '8808': 1457, '뷰': 1458, '티팟': 1459, '1000': 1460, '페퍼': 1461, '★★': 1462, '원스': 1463, '1094': 1464, '효율': 1465, '서온': 1466, 'safelab': 1467, ')\">': 1468, '<': 1469, '준비': 1470, '>[': 1471, '러본몰': 1472, '▶': 1473, '구비': 1474, '부족': 1475, '오투': 1476, '웨어': 1477, '레시': 1478, 'monini': 1479, '생건': 1480, '이크': 1481, '피부': 1482, '예약': 1483, '보관': 1484, '항균팩': 1485, 'znz': 1486, '땡큐': 1487, '1204336798': 1488, '가가': 1489, 'dw': 1490, 'zzuya': 1491, '79': 1492, '판다': 1493, '그램': 1494, 'wa': 1495, '18일': 1496, '=': 1497, 'made': 1498, 'in': 1499, 'korea': 1500, '39154': 1501, '팝': 1502, '이후': 1503, '브릿지': 1504, '파랑색': 1505, '씨엘': 1506, '공구': 1507, '뱅크': 1508, '웹킵스': 1509, '쎈딜': 1510, '1050': 1511, '이맥스': 1512, '개황': 1513, '사': 1514, '가치': 1515, '팔다': 1516, '동화약품': 1517, '학생': 1518, '바다': 1519, '오전': 1520, '웰크론헬': 1521, '어디가': 1522, '앤피': 1523, '개포': 1524, '버': 1525, '비품': 1526, '한미': 1527, '카카오': 1528, '장군': 1529, '분양': 1530, '홍보물': 1531, '14': 1532, '미하': 1533, '단독': 1534, '기획': 1535, '애나': 1536, '동궁': 1537, '다이아': 1538, '케미칼': 1539, '인벤': 1540, '카': 1541, '죄송하다': 1542, '제한': 1543, '.)': 1544, '청운': 1545, '파란색': 1546, '노스': 1547, '라무': 1548, '라미': 1549, '인터': 1550, '날': 1551, 'celubs': 1552, '29,000원': 1553, '쾌걸': 1554, '흥': 1555, '달달': 1556, '스탠다드': 1557, 'whattobuy': 1558, '뚜바': 1559, 'ev': 1560, '501': 1561, '동일하다': 1562, '성능': 1563, '발휘': 1564, '툴앤': 1565, '애': 1566, '유화': 1567, '구로': 1568, '신용': 1569, '빙': 1570, '벤트': 1571, 'line': 1572, 'friends': 1573, '리엘': 1574, '홈즈': 1575, '키': 1576, '이미': 1577, '클린룸': 1578, 'ubacc': 1579, '간의휴가': 1580, '가디언': 1581, '23일': 1582, '곰': 1583, '애기': 1584, '신평': 1585, '건재': 1586, '비원': 1587, '실재': 1588, '바배': 1589, '8118906001200': 1590, '일복': 1591, '동물': 1592, 'storejh': 1593, '36,000원': 1594, 'umarket': 1595, '뉴스': 1596, '맞벌이': 1597, '루시': 1598, '소독': 1599, '티슈': 1600, '03168': 1601, 'tpe': 1602, '3500원': 1603, '이니셜': 1604, '반사': 1605, '팬클럽': 1606, '어린이집': 1607, '학교': 1608, '원하다': 1609, '크로스': 1610, '킬': 1611, '소리': 1612, '엠지컴': 1613, '빵': 1614, '큐티': 1615, '1700원': 1616, '로시': 1617, 'losi': 1618, 'beauty': 1619, '글로벌': 1620, 'agency': 1621, '4일': 1622, '大': 1623, '모범': 1624, '툴': 1625, 'hightool': 1626, '최종': 1627, '중국': 1628, '쭈': 1629, '피싱': 1630, '리빙킹': 1631, 'aes': 1632, '8301': 1633, '업': 1634, '현장': 1635, '상인': 1636, '컬러': 1637, '전염': 1638, '질병': 1639, 'hnb': 1640, '샤샤': 1641, '수술': 1642, '항균': 1643, '소세지': 1644, '신세계': 1645, '원더': 1646, '뉴웰': 1647, 'dm': 1648, '2-203': 1649, 'color': 1650, '올리비아': 1651, '컬': 1652, '온누리': 1653, '식품': 1654, '나오다': 1655, '양품': 1656, '최신': 1657, '2023년': 1658, '남자': 1659, '21일': 1660, '마그넷': 1661, '지키다': 1662, '빨': 1663, '양자': 1664, '아래': 1665, '천일염': 1666, 'aloa': 1667, 'pe': 1668, '39,000원': 1669, '헤어': 1670, '극': 1671, '스프레이': 1672, '손청': 1673, '결제': 1674, '제니스': 1675, '픽': 1676, '94/1': 1677, '누리': 1678, '장입': 1679, '병': 1680, '의원': 1681, '버터': 1682, '오씨': 1683, '조씨': 1684, '비비': 1685, '디케': 1686, '이즈': 1687, '최저': 1688, '패치': 1689, '밴드': 1690, '상비약': 1691, '_:': 1692, ':': 1693, 'fl': 1694, '63': 1695, '23': 1696, 'abo': 1697, 'set': 1698, '의약': 1699, '롱드드': 1700, '러비앙': 1701, '패턴': 1702, '봄꽃': 1703, '그녀': 1704, '희다': 1705, '바자르': 1706, '제니': 1707, '개국': 1708, '기피': 1709, '킵스': 1710, '상공': 1711, '양행': 1712, '윈더': 1713, '늑대': 1714, '동생': 1715, '일립스': 1716, 'spm': 1717, '001': 1718, '죠다쉬': 1719, 'kp': 1720, '무명': 1721, '특별하다': 1722, '게릴라': 1723, '특': 1724, '로그인': 1725, 'dlw': 1726, '까치': 1727, '점방': 1728, '루비': 1729, '돌': 1730, '문후': 1731, '주황': 1732, '16일': 1733, '생강차': 1734, '고구마': 1735, '싱가베': 1736, '애플': 1737, '몽키': 1738, '위즈': 1739, '구루': 1740, '로트': 1741, '대구': 1742, '백화점': 1743, '관': 1744, '비비안': 1745, '스타킹': 1746, 'si': 1747, '5011': 1748, '126': 1749, '포레스트': 1750, 'titi': 1751, '니아': 1752, '9일': 1753, 'happysongsong': 1754, '신사': 1755, '옴므': 1756, '&': 1757, '스파': 1758, '비뇽': 1759, '터': 1760, '야음': 1761, '1974': 1762, '엔조이': 1763, 'sy': 1764, '250': 1765, '마우스': 1766, 'sd': 1767, '글': 1768, '2080': 1769, '머': 1770, '겔': 1771, '60': 1772, '비스비': 1773, '파이다': 1774, '시오': 1775, '다인': 1776, '쵸': 1777, 'aer': 1778, '부자': 1779, '비앤채': 1780, 'safety': 1781, '숨바': 1782, '꼭지': 1783, '홈앤': 1784, 'areca': 1785, '34,000원': 1786, 'vw': 1787, '아미': 1788, '주노': 1789, '증정': 1790, '초이스': 1791, '헨리': 1792, 'cu': 1793, '권': 1794, '편의점': 1795, '에서': 1796, '기프티콘': 1797, '기프': 1798, '팅': 1799, '디비디': 1800, '해피해피': 1801, '전자기기': 1802, '나트': 1803, '레이': 1804, '언니네': 1805, '인생': 1806, '챠밍': 1807, '우레': 1808, '폴리': 1809, '저': 1810, '자극': 1811, '회용': 1812, '현': 1813, '대화': 1814, '연쇄점': 1815, '팬더': 1816, '즐겁다': 1817, '有': 1818}\n"
     ]
    }
   ],
   "source": [
    "print(tokenizer.word_index)"
   ]
  },
  {
   "cell_type": "code",
   "execution_count": 25,
   "metadata": {},
   "outputs": [
    {
     "name": "stdout",
     "output_type": "stream",
     "text": [
      "단어 집합(vocabulary)의 크기 : 1818\n",
      "등장 빈도가 2번 이하인 희귀 단어의 수: 1028\n",
      "단어 집합에서 희귀 단어의 비율: 56.54565456545655\n",
      "전체 등장 빈도에서 희귀 단어 등장 빈도 비율: 3.6142286475175958\n"
     ]
    }
   ],
   "source": [
    "threshold = 3\n",
    "total_cnt = len(tokenizer.word_index) # 단어의 수\n",
    "rare_cnt = 0 # 등장 빈도수가 threshold보다 작은 단어의 개수를 카운트\n",
    "total_freq = 0 # 훈련 데이터의 전체 단어 빈도수 총 합\n",
    "rare_freq = 0 # 등장 빈도수가 threshold보다 작은 단어의 등장 빈도수의 총 합\n",
    "\n",
    "# 단어와 빈도수의 쌍(pair)을 key와 value로 받는다.\n",
    "for key, value in tokenizer.word_counts.items():\n",
    "    total_freq = total_freq + value\n",
    "\n",
    "    # 단어의 등장 빈도수가 threshold보다 작으면\n",
    "    if(value < threshold):\n",
    "        rare_cnt = rare_cnt + 1\n",
    "        rare_freq = rare_freq + value\n",
    "\n",
    "print('단어 집합(vocabulary)의 크기 :',total_cnt)\n",
    "print('등장 빈도가 %s번 이하인 희귀 단어의 수: %s'%(threshold - 1, rare_cnt))\n",
    "print(\"단어 집합에서 희귀 단어의 비율:\", (rare_cnt / total_cnt)*100)\n",
    "print(\"전체 등장 빈도에서 희귀 단어 등장 빈도 비율:\", (rare_freq / total_freq)*100)"
   ]
  },
  {
   "cell_type": "code",
   "execution_count": 26,
   "metadata": {},
   "outputs": [
    {
     "name": "stdout",
     "output_type": "stream",
     "text": [
      "단어 집합의 크기 : 791\n"
     ]
    }
   ],
   "source": [
    "vocab_size = total_cnt - rare_cnt + 1 # 전체 단어 개수 중 빈도수 2이하인 단어 개수는 제거. 0번 패딩 토큰을 고려하여 +1\n",
    "print('단어 집합의 크기 :',vocab_size)"
   ]
  },
  {
   "cell_type": "code",
   "execution_count": 27,
   "metadata": {},
   "outputs": [],
   "source": [
    "tokenizer = Tokenizer(vocab_size) \n",
    "tokenizer.fit_on_texts(X_train)\n",
    "X_train = tokenizer.texts_to_sequences(X_train)\n",
    "X_test = tokenizer.texts_to_sequences(X_test)"
   ]
  },
  {
   "cell_type": "code",
   "execution_count": 28,
   "metadata": {},
   "outputs": [
    {
     "name": "stdout",
     "output_type": "stream",
     "text": [
      "[[137, 185, 6, 16, 1, 2, 4, 15, 13, 14, 103, 14, 5, 14, 25, 3, 26, 23], [6, 10, 1, 2, 12, 60, 122, 8, 9, 46, 14, 46, 331, 27, 11, 3, 123, 206], [176, 138, 6, 16, 1, 2, 4, 207, 5, 9, 7, 134, 15, 13, 11, 3, 36]]\n"
     ]
    }
   ],
   "source": [
    "print(X_train[:3])"
   ]
  },
  {
   "cell_type": "code",
   "execution_count": 29,
   "metadata": {},
   "outputs": [],
   "source": [
    "y_train = np.array(train_data['kf'])\n",
    "y_test = np.array(test_data['kf'])"
   ]
  },
  {
   "cell_type": "code",
   "execution_count": 30,
   "metadata": {},
   "outputs": [],
   "source": [
    "drop_train = [index for index, sentence in enumerate(X_train) if len(sentence) < 1]\n",
    "drop_test = [index for index, sentence in enumerate(X_test) if len(sentence) < 1]"
   ]
  },
  {
   "cell_type": "code",
   "execution_count": 31,
   "metadata": {},
   "outputs": [
    {
     "name": "stdout",
     "output_type": "stream",
     "text": [
      "2129\n",
      "2129\n"
     ]
    }
   ],
   "source": [
    "X_train = np.delete(X_train, drop_train, axis=0)\n",
    "y_train = np.delete(y_train, drop_train, axis=0)\n",
    "print(len(X_train))\n",
    "print(len(y_train))"
   ]
  },
  {
   "cell_type": "code",
   "execution_count": 46,
   "metadata": {},
   "outputs": [
    {
     "name": "stdout",
     "output_type": "stream",
     "text": [
      "1383\n",
      "1383\n",
      "[[  0   0   0 ...   3  26  23]\n",
      " [  0   0   0 ...   3 123 206]\n",
      " [  0   0   0 ...  11   3  36]\n",
      " ...\n",
      " [  0   0   0 ...  11   3  36]\n",
      " [  0   0   0 ...  94   3  38]\n",
      " [  0   0   0 ... 339 364 102]]\n",
      "--------\n",
      "[94 80 94 ... 94 94 94]\n"
     ]
    }
   ],
   "source": [
    "X_test = np.delete(X_test, drop_test, axis=0)\n",
    "y_test = np.delete(y_test, drop_test, axis=0)\n",
    "print(len(X_test))\n",
    "print(len(y_test))"
   ]
  },
  {
   "cell_type": "code",
   "execution_count": 33,
   "metadata": {},
   "outputs": [
    {
     "name": "stdout",
     "output_type": "stream",
     "text": [
      "상품명의 최대 길이 : 42\n",
      "상품명 평균 길이 : 16.6599342414279\n"
     ]
    },
    {
     "data": {
      "image/png": "[encoded data removed]",
      "text/plain": [
       "<Figure size 432x288 with 1 Axes>"
      ]
     },
     "metadata": {
      "needs_background": "light"
     },
     "output_type": "display_data"
    }
   ],
   "source": [
    "print('상품명의 최대 길이 :',max(len(l) for l in X_train))\n",
    "print('상품명 평균 길이 :',sum(map(len, X_train))/len(X_train))\n",
    "plt.hist([len(s) for s in X_train], bins=50)\n",
    "plt.xlabel('length of samples')\n",
    "plt.ylabel('number of samples')\n",
    "plt.show()"
   ]
  },
  {
   "cell_type": "code",
   "execution_count": 34,
   "metadata": {},
   "outputs": [],
   "source": [
    "def below_threshold_len(max_len, nested_list):\n",
    "  cnt = 0\n",
    "  for s in nested_list:\n",
    "    if(len(s) <= max_len):\n",
    "        cnt = cnt + 1\n",
    "  print('전체 샘플 중 길이가 %s 이하인 샘플의 비율: %s'%(max_len, (cnt / len(nested_list))*100))"
   ]
  },
  {
   "cell_type": "code",
   "execution_count": 35,
   "metadata": {},
   "outputs": [
    {
     "name": "stdout",
     "output_type": "stream",
     "text": [
      "전체 샘플 중 길이가 30 이하인 샘플의 비율: 98.07421324565524\n"
     ]
    }
   ],
   "source": [
    "max_len = 30\n",
    "below_threshold_len(max_len, X_train)"
   ]
  },
  {
   "cell_type": "code",
   "execution_count": 36,
   "metadata": {},
   "outputs": [],
   "source": [
    "X_train = pad_sequences(X_train, maxlen = max_len)\n",
    "X_test = pad_sequences(X_test, maxlen = max_len)"
   ]
  },
  {
   "cell_type": "code",
   "execution_count": 50,
   "metadata": {},
   "outputs": [],
   "source": [
    "yy_train=[]\n",
    "yy_test=[]\n",
    "\n",
    "for i in range(len(y_train)):\n",
    "    if y_train[i]==99:\n",
    "        yy_train.append([0,0,1])\n",
    "    elif y_train[i]==94:\n",
    "        yy_train.append([0,1,0])\n",
    "    elif y_train[i]==80:\n",
    "        yy_train.append([1,0,0])\n",
    "        \n",
    "for i in range(len(y_test)):\n",
    "    if y_test[i]==99:\n",
    "        yy_test.append([0,0,1])\n",
    "    elif y_test[i]==94:\n",
    "        yy_test.append([0,1,0])\n",
    "    elif y_test[i]==80:\n",
    "        yy_test.append([1,0,0])\n",
    "        \n",
    "yy_train=np.array(yy_train)\n",
    "yy_test=np.array(yy_test)\n",
    "        "
   ]
  },
  {
   "cell_type": "code",
   "execution_count": 37,
   "metadata": {},
   "outputs": [],
   "source": [
    "from tensorflow.keras.layers import Embedding, Dense, LSTM\n",
    "from tensorflow.keras.models import Sequential\n",
    "from tensorflow.keras.models import load_model\n",
    "from tensorflow.keras.callbacks import EarlyStopping, ModelCheckpoint"
   ]
  },
  {
   "cell_type": "code",
   "execution_count": 72,
   "metadata": {},
   "outputs": [],
   "source": [
    "model = Sequential()\n",
    "model.add(Embedding(vocab_size, 100))\n",
    "model.add(LSTM(128))\n",
    "model.add(Dense(3, activation='sigmoid'))"
   ]
  },
  {
   "cell_type": "code",
   "execution_count": 73,
   "metadata": {},
   "outputs": [],
   "source": [
    "es = EarlyStopping(monitor='val_loss', mode='min', verbose=1, patience=4)\n",
    "mc = ModelCheckpoint('best_model.h5', monitor='val_acc', mode='max', verbose=1, save_best_only=True)"
   ]
  },
  {
   "cell_type": "code",
   "execution_count": 74,
   "metadata": {},
   "outputs": [
    {
     "name": "stdout",
     "output_type": "stream",
     "text": [
      "Train on 1916 samples, validate on 213 samples\n",
      "Epoch 1/15\n",
      "1800/1916 [===========================>..] - ETA: 0s - loss: 0.7158 - acc: 0.7078\n",
      "Epoch 00001: val_acc improved from -inf to 0.70892, saving model to best_model.h5\n",
      "1916/1916 [==============================] - 8s 4ms/sample - loss: 0.7147 - acc: 0.7062 - val_loss: 0.6634 - val_acc: 0.7089\n",
      "Epoch 2/15\n",
      "1860/1916 [============================>.] - ETA: 0s - loss: 0.5606 - acc: 0.7366\n",
      "Epoch 00002: val_acc improved from 0.70892 to 0.92488, saving model to best_model.h5\n",
      "1916/1916 [==============================] - 1s 758us/sample - loss: 0.5583 - acc: 0.7396 - val_loss: 0.3918 - val_acc: 0.9249\n",
      "Epoch 3/15\n",
      "1860/1916 [============================>.] - ETA: 0s - loss: 0.2337 - acc: 0.9339\n",
      "Epoch 00003: val_acc improved from 0.92488 to 0.95305, saving model to best_model.h5\n",
      "1916/1916 [==============================] - 1s 579us/sample - loss: 0.2316 - acc: 0.9348 - val_loss: 0.1329 - val_acc: 0.9531\n",
      "Epoch 4/15\n",
      "1860/1916 [============================>.] - ETA: 0s - loss: 0.1530 - acc: 0.9527\n",
      "Epoch 00004: val_acc did not improve from 0.95305\n",
      "1916/1916 [==============================] - 1s 566us/sample - loss: 0.1547 - acc: 0.9520 - val_loss: 0.1450 - val_acc: 0.9390\n",
      "Epoch 5/15\n",
      "1860/1916 [============================>.] - ETA: 0s - loss: 0.0973 - acc: 0.9688\n",
      "Epoch 00005: val_acc improved from 0.95305 to 0.95775, saving model to best_model.h5\n",
      "1916/1916 [==============================] - 1s 580us/sample - loss: 0.0956 - acc: 0.9692 - val_loss: 0.0764 - val_acc: 0.9577\n",
      "Epoch 6/15\n",
      "1860/1916 [============================>.] - ETA: 0s - loss: 0.0706 - acc: 0.9774\n",
      "Epoch 00006: val_acc improved from 0.95775 to 0.96714, saving model to best_model.h5\n",
      "1916/1916 [==============================] - 1s 578us/sample - loss: 0.0697 - acc: 0.9770 - val_loss: 0.0738 - val_acc: 0.9671\n",
      "Epoch 7/15\n",
      "1860/1916 [============================>.] - ETA: 0s - loss: 0.0680 - acc: 0.9796\n",
      "Epoch 00007: val_acc improved from 0.96714 to 0.98122, saving model to best_model.h5\n",
      "1916/1916 [==============================] - 2s 789us/sample - loss: 0.0662 - acc: 0.9802 - val_loss: 0.0736 - val_acc: 0.9812\n",
      "Epoch 8/15\n",
      "1860/1916 [============================>.] - ETA: 0s - loss: 0.0497 - acc: 0.9855\n",
      "Epoch 00008: val_acc did not improve from 0.98122\n",
      "1916/1916 [==============================] - 1s 567us/sample - loss: 0.0496 - acc: 0.9854 - val_loss: 0.0920 - val_acc: 0.9812\n",
      "Epoch 9/15\n",
      "1860/1916 [============================>.] - ETA: 0s - loss: 0.0354 - acc: 0.9914\n",
      "Epoch 00009: val_acc did not improve from 0.98122\n",
      "1916/1916 [==============================] - 1s 565us/sample - loss: 0.0374 - acc: 0.9901 - val_loss: 0.0940 - val_acc: 0.9671\n",
      "Epoch 10/15\n",
      "1860/1916 [============================>.] - ETA: 0s - loss: 0.0300 - acc: 0.9935\n",
      "Epoch 00010: val_acc did not improve from 0.98122\n",
      "1916/1916 [==============================] - 1s 559us/sample - loss: 0.0292 - acc: 0.9937 - val_loss: 0.0652 - val_acc: 0.9718\n",
      "Epoch 11/15\n",
      "1860/1916 [============================>.] - ETA: 0s - loss: 0.0325 - acc: 0.9909\n",
      "Epoch 00011: val_acc did not improve from 0.98122\n",
      "1916/1916 [==============================] - 1s 559us/sample - loss: 0.0317 - acc: 0.9911 - val_loss: 0.0830 - val_acc: 0.9718\n",
      "Epoch 12/15\n",
      "1860/1916 [============================>.] - ETA: 0s - loss: 0.0194 - acc: 0.9962\n",
      "Epoch 00012: val_acc did not improve from 0.98122\n",
      "1916/1916 [==============================] - 1s 550us/sample - loss: 0.0191 - acc: 0.9963 - val_loss: 0.1170 - val_acc: 0.9718\n",
      "Epoch 13/15\n",
      "1860/1916 [============================>.] - ETA: 0s - loss: 0.0174 - acc: 0.9946\n",
      "Epoch 00013: val_acc did not improve from 0.98122\n",
      "1916/1916 [==============================] - 1s 565us/sample - loss: 0.0175 - acc: 0.9943 - val_loss: 0.1070 - val_acc: 0.9671\n",
      "Epoch 14/15\n",
      "1860/1916 [============================>.] - ETA: 0s - loss: 0.0107 - acc: 0.9962\n",
      "Epoch 00014: val_acc did not improve from 0.98122\n",
      "1916/1916 [==============================] - 2s 824us/sample - loss: 0.0112 - acc: 0.9958 - val_loss: 0.0997 - val_acc: 0.9671\n",
      "Epoch 00014: early stopping\n"
     ]
    }
   ],
   "source": [
    "model.compile(optimizer='rmsprop', loss='categorical_crossentropy', metrics=['acc'])\n",
    "history = model.fit(X_train, yy_train, epochs=15, callbacks=[es, mc], batch_size=60, validation_split=0.1)"
   ]
  },
  {
   "cell_type": "code",
   "execution_count": 75,
   "metadata": {},
   "outputs": [
    {
     "name": "stdout",
     "output_type": "stream",
     "text": [
      "\r",
      "1383/1 [==================================================================================================================================================================================================================================================================================================================================================================================================================================================================================================================================================================================================================================================================================================================================================================================================================================================================================================================================================================================================================================================================================================================================================================================================================================================================================================================================================================================================================================================================================================================================================================================================================================================================================================================================================================================================================================================================================================================================================================================================================================================================================================================================================================================================================================================================================================================================================================================================================================================================================================================================================================================================================================================================================================================================================================================================================================================================================================================================================================================================================================================================================================================================================================================================================================================================================================================================================================================================================================================================================================================================================================================================================================================================================================================================================================================================================================================================================================================================================================================================================================================================================================================================================================================================================================================================================================================================================================================================================================================================================================================================================================================================================================================================================================================================================================================================================================================================================================================================================================================================================================================================================================================================================================================================================================================================================================================================================================================================================================================================================================================================================================================================================================================================================================================================================================================================================================================================================================================================================================================================================================================================================================================================================================================================================================================================================================================================================================================================================================================================================================================================================================================================================================================================================================================================================================================================================================================================================================================================================================================================================================================================================================================================================================================================================================================================================================================================================================================================================================================================================================================================================================================================================================================================================================================================================================================================================================================================================================================================================================================================================================================================================================================================================================================================================================================================================================================================================================================================================================================================================================================================================================================================================================================================================================================================================================================================================================================================================================================================================================================================================================================================================================================================================================================================================================================================================================================================================================================================================================================================================================================================================================================================================================================================================================================================================================================================================================================================================================================================================================================================================================================================================================================================================================================================================================================================================================================================================================================================================================================================================================================================================================================================================================================================================================================================================================================================================================================================================================================================================================================================================================================================================================================================================================================================================================================================================================================================================================================================================================================================================================================================================================================================================================================================================================================================================================================================================================================================================================================================================================================================================================================================================================================================================================================================================================================================================================================================================================================================================================================================================================================================================================================================================================================================================================================================================================================================================================================================================================================================================================================================================================================================================================================================================================================================================================================================================================================================================================================================================================================================================================================================================================================================================================================================================================================================================================================================================================================================================================================================================================================================================================================================================================================================================================================================================================================================================================================================================================================================================================================================================================================================================================================================================================================================================================================================================================================================================================================================================================================================================================================================================================================================================================================================================================================================================================================================================================================================================================================================================================================================================================================================================================================================================================================================================================================================================================================================================================================================================================================================================================================================================================================================================================================================================================================================================================================================================================================================================================================================================================================================================================================================================================================================================================================================================================================================================================================================================================================================================================================================================================================================================================================================================================================================================================================================================================================================================================================================================================================================================================================================================================================================================================================================================================================================================================================================================================================================================================================================================================================================================================================================================================================================================================================================================================================================================================================================================================================================================================================================================================================================================================================================================================================================================================================================================================================================================================================================================================================================================================================================================================================================================================================================================================================================================================================================================================================================================================================================================================================================================================================================================================================================================================================================================================================================================================================================================================================================================================================================================================================================================================================================================================================================================================================================================================================================================================================================================================================================================================================================================================================================================================================================================================================================================================================================================================================================================================================================================================================================================================================================================================================================================================================================================================================================================================================================================================================================================================================================================================================================================================================================================================================================================================================================================================================================================================================================================================================================================================================================================================================================================================================================================================================================================================================================================================================================================================================================================================================================================================================================================================================================================================================================================================================================================================================================================================================================================================================================================================================================================================================================================================================================================================================================================================================================================================================================================================================================================================================================================================================================================================================================================================================================================================================================================================================================================================================================================================================================================================================================================================================================================================================================================================================================================================================================================================================================================================================================================================================================================================================================================================================================================================================================================================================================================================================================================================================================================================================================================================================================================================================================================================================================================================================================================================================================================================================================================================================================================================================================================================================================================================================================================================================================================================================================================================================================================================================================================================================================================================================================================================================================================================================================================================================================================================================================================================================================================================================================================================================================================================================================================================================================================================================================================================================================================================================================================================================================================================================================================================================================================================================================================================================================================================================================================================================================================================================================================================================================================================================================================================================================================================================================================================================================================================================================================================================================================================================================================================================================================================================================================================================================================================================================================================================================================================================================================================================================================================================================================================================================================================================================================================================================================================================================================================================================================================================================================================================================================================================================================================================================================================================================================================================================================================================================================================================================================================================================================================================================================================================================================================================================================================================================================================================================================================================================================================================================================================================================================================================================================================================================================================================================================================================================================================================================================================================================================================================================================================================================================================================================================================================================================================================================================================================================================================================================================================================================================================================================================================================================================================================================================================================================================================================================================================================================================================================================================================================================================================================================================================================================================================================================================================================================================================================================================================================================================================================================================================================================================================================================================================================================================================================================================================================================================================================================================================================================================================================================================================================================================================================================================================================================================================================================================================================================================================================================================================================================================================================================================================================================================================================================================================================================================================================================================================================================================================================================================================================================================================================================================================================================================================================================================================================================================================================================================================================================================================================================================================================================================================================================================================================================================================================================================================================================================================================================================================================================================================================================================================================================================================================================================================================================================================================================================================================================================================================================================================================================================================================================================================================================================================================================================================================================================================================================================================================================================================================================================================================================================================================================================================================================================================================================================================================================================================================================================================================================================================================================================================================================================================================================================================================================================================================================================================================================================================================================================================================================================================================================================================================================================================================================================================================================================================================================================================================================================================================================================================================================================================================================================================================================================================================================================================================================================================================================================================================================================================================================================================================================================================================================================================================================================================================================================================================================================================================================================================================================================================================================================================================================================================================================================================================================================================================================================================================================================================================================================================================================================================================================================================================================================================================================================================================================================================================================================================================================================================================================================================================================================================================================================================================================================================================================================================================================================================================================================================================================================================================================================================================================================================================================================================================================================================================================================================================================================================================================================================================================================================================================================================================================================================================================================================================================================================================================================================================================================================================================================================================================================================================================================================================================================================================================================================================================================================================================================================================================================================================================================================================================================================================================================================================================================================================================================================================================================================================================================================================================================================================================================================================================================================================================================================================================================================================================================================================================================================================================================================================================================================================================================================================================================================================================================================================================================================================================================================================================================================================================================================================================================================================================================================================================================================================================================================================================================================================================================================================================================================================================================================================================================================================================================================================================================================================================================================================================================================================================================================================================================================================================================================================================================] - 0s 340us/sample - loss: 0.0317 - acc: 0.9870\n"
     ]
    },
    {
     "name": "stdout",
     "output_type": "stream",
     "text": [
      "\n",
      " 테스트 정확도: 0.9870\n"
     ]
    }
   ],
   "source": [
    "loaded_model = load_model('best_model.h5')\n",
    "print(\"\\n 테스트 정확도: %.4f\" % (loaded_model.evaluate(X_test, yy_test)[1]))"
   ]
  },
  {
   "cell_type": "code",
   "execution_count": 76,
   "metadata": {},
   "outputs": [],
   "source": [
    "predict = model.predict(X_test)\n"
   ]
  },
  {
   "cell_type": "code",
   "execution_count": 77,
   "metadata": {},
   "outputs": [],
   "source": [
    "predict_labels = np.argmax(predict, axis=1) \n",
    "original_labels = np.argmax(yy_test, axis=1)\n",
    "\n",
    "def return_kf(label):\n",
    "    if label==1:\n",
    "        return 94\n",
    "    elif label==0:\n",
    "        return 80\n",
    "    elif label==2:\n",
    "        return 99\n"
   ]
  },
  {
   "cell_type": "code",
   "execution_count": 78,
   "metadata": {},
   "outputs": [
    {
     "name": "stdout",
     "output_type": "stream",
     "text": [
      "못 맞춘 상품들 \n",
      "==============================================================\n",
      "상품명 :  초 미세먼지 마스크 - 하이가드 SF-80 / KF94 식약처인증 일동제약 푸른숲 황사마스크 /동아제약 더스논 파이브와이 우한 폐렴 바이러스 예방 - 세상의모든안전화 /\t 원래 라벨 :  80 /\t예측한 라벨 :  94\n",
      "상품명 :  한국내제조 kf80 kf94 소형 대형 벌크 화이트 그레이 - 도그몰 /\t 원래 라벨 :  80 /\t예측한 라벨 :  94\n",
      "상품명 :  KF80 미세먼지 방역 마스크 대형 1매(개별포장) - G마켓 /\t 원래 라벨 :  80 /\t예측한 라벨 :  94\n",
      "상품명 :  테라브레스 뽀로로 kf80 - 다다모아샵 /\t 원래 라벨 :  80 /\t예측한 라벨 :  94\n",
      "상품명 :  [쉼표리빙] 1개 - 5매입 KF94 쉼표리빙 미세먼지 황사 마스크 대형 일회용 KF80 ( 그레이) - 위메프 /\t 원래 라벨 :  94 /\t예측한 라벨 :  80\n",
      "상품명 :  아미 코엔보 웰빙 황사 미세먼지 마스크 L KF80 - 웰빙다모아 /\t 원래 라벨 :  80 /\t예측한 라벨 :  94\n",
      "상품명 :  황사방역마스크 KF94 KF80(대형 소형) - G마켓 /\t 원래 라벨 :  80 /\t예측한 라벨 :  94\n",
      "상품명 :  황사 방역 미세먼지 항균바이러스 마스크 KF94/KF80/항균 - CARRYSOME /\t 원래 라벨 :  94 /\t예측한 라벨 :  80\n",
      "상품명 :  기타 하이가드 방역마스크 황사마스크 KF80 대형 검정색 1개 - 쿠팡 /\t 원래 라벨 :  80 /\t예측한 라벨 :  94\n",
      "상품명 :  일회용마스크 성능회복 키트 12번사용 코로나 미세먼지황사 대형KF94 KF80 정전기필터 - 세젤 /\t 원래 라벨 :  94 /\t예측한 라벨 :  80\n",
      "상품명 :  하이가드 황사마스크/KF80/KF94/1개/소형 /헬로키티/어린이 황사마스크 - 누리팜 /\t 원래 라벨 :  94 /\t예측한 라벨 :  80\n",
      "상품명 :  하이가드 황사마스크 미세먼지 KF80일회용(성인블렉) - G마켓 /\t 원래 라벨 :  80 /\t예측한 라벨 :  94\n",
      "상품명 :  유한킴벌리 미세먼지 방진마스크,황사 마스크 KF80,9-크린가드 황사마스크 KF94 (소형/대형)-1개 - 인터파크 /\t 원래 라벨 :  94 /\t예측한 라벨 :  80\n",
      "상품명 :  KF94 방역마스크 올가드/ 초미세 먼지 황사 / 감염원 차단 /소형 중형 대형 - 야음마켓1974 /\t 원래 라벨 :  94 /\t예측한 라벨 :  80\n",
      "상품명 :  3월 6일 크리넥스 미세먼지 KF94 KF80 방역용 황사마스크 대형 외 - 청춘푸드몰 /\t 원래 라벨 :  80 /\t예측한 라벨 :  94\n",
      "상품명 :  잘풀리는집/어린이마스크/황사용마스크/방역마스크/보건용마스크/아동용/KF94/소형 1개 - 11번가 /\t 원래 라벨 :  94 /\t예측한 라벨 :  80\n",
      "상품명 :  아동용 팬더 캐릭터 마스크 KF80 1매 - 365즐거운쇼핑 /\t 원래 라벨 :  80 /\t예측한 라벨 :  94\n",
      "상품명 :  [식약처허가]올가드에어KF80 황사마스크 대형 10매 L 의약외품 - 건강노블레스팜 /\t 원래 라벨 :  80 /\t예측한 라벨 :  94\n",
      "전체 상품 1383개 중 18 개 예측 틀림\n"
     ]
    }
   ],
   "source": [
    "print(\"못 맞춘 상품들 \")\n",
    "print(\"==============================================================\")\n",
    "num=0\n",
    "num_max=len(test_data)\n",
    "for i in range(len(test_data)):\n",
    "    if(original_labels[i]!=predict_labels[i]):\n",
    "        num=num+1\n",
    "        print(\"상품명 : \", test_data['goods_nm'].iloc[i], \"/\\t 원래 라벨 : \", return_kf(original_labels[i]), \"/\\t예측한 라벨 : \", return_kf(predict_labels[i]))\n",
    "print(\"전체 상품 {}개 중 {} 개 예측 틀림\".format(num_max,num))"
   ]
  },
  {
   "cell_type": "code",
   "execution_count": 81,
   "metadata": {},
   "outputs": [
    {
     "name": "stdout",
     "output_type": "stream",
     "text": [
      "Train on 1916 samples, validate on 213 samples\n",
      "Epoch 1/15\n",
      "1800/1916 [===========================>..] - ETA: 0s - loss: 0.7739 - acc: 0.6972\n",
      "Epoch 00001: val_acc did not improve from 0.98122\n",
      "1916/1916 [==============================] - 7s 4ms/sample - loss: 0.7612 - acc: 0.7009 - val_loss: 0.5956 - val_acc: 0.7089\n",
      "Epoch 2/15\n",
      "1860/1916 [============================>.] - ETA: 0s - loss: 0.4368 - acc: 0.8054\n",
      "Epoch 00002: val_acc did not improve from 0.98122\n",
      "1916/1916 [==============================] - 1s 766us/sample - loss: 0.4318 - acc: 0.8095 - val_loss: 0.2650 - val_acc: 0.8920\n",
      "Epoch 3/15\n",
      "1860/1916 [============================>.] - ETA: 0s - loss: 0.1331 - acc: 0.9656\n",
      "Epoch 00003: val_acc did not improve from 0.98122\n",
      "1916/1916 [==============================] - 1s 543us/sample - loss: 0.1347 - acc: 0.9656 - val_loss: 0.1179 - val_acc: 0.9624\n",
      "Epoch 4/15\n",
      "1860/1916 [============================>.] - ETA: 0s - loss: 0.0779 - acc: 0.9726\n",
      "Epoch 00004: val_acc did not improve from 0.98122\n",
      "1916/1916 [==============================] - 1s 553us/sample - loss: 0.0777 - acc: 0.9729 - val_loss: 0.0855 - val_acc: 0.9624\n",
      "Epoch 5/15\n",
      "1860/1916 [============================>.] - ETA: 0s - loss: 0.0431 - acc: 0.9882\n",
      "Epoch 00005: val_acc did not improve from 0.98122\n",
      "1916/1916 [==============================] - 1s 541us/sample - loss: 0.0425 - acc: 0.9885 - val_loss: 0.0829 - val_acc: 0.9718\n",
      "Epoch 6/15\n",
      "1860/1916 [============================>.] - ETA: 0s - loss: 0.0276 - acc: 0.9925\n",
      "Epoch 00006: val_acc improved from 0.98122 to 0.98592, saving model to best_model.h5\n",
      "1916/1916 [==============================] - 1s 549us/sample - loss: 0.0273 - acc: 0.9927 - val_loss: 0.0704 - val_acc: 0.9859\n",
      "Epoch 7/15\n",
      "1860/1916 [============================>.] - ETA: 0s - loss: 0.0169 - acc: 0.9952\n",
      "Epoch 00007: val_acc did not improve from 0.98592\n",
      "1916/1916 [==============================] - 1s 551us/sample - loss: 0.0178 - acc: 0.9948 - val_loss: 0.0601 - val_acc: 0.9718\n",
      "Epoch 8/15\n",
      "1860/1916 [============================>.] - ETA: 0s - loss: 0.0139 - acc: 0.9973\n",
      "Epoch 00008: val_acc did not improve from 0.98592\n",
      "1916/1916 [==============================] - 1s 567us/sample - loss: 0.0136 - acc: 0.9974 - val_loss: 0.0601 - val_acc: 0.9765\n",
      "Epoch 9/15\n",
      "1860/1916 [============================>.] - ETA: 0s - loss: 0.0096 - acc: 0.9968\n",
      "Epoch 00009: val_acc did not improve from 0.98592\n",
      "1916/1916 [==============================] - 1s 557us/sample - loss: 0.0094 - acc: 0.9969 - val_loss: 0.0482 - val_acc: 0.9718\n",
      "Epoch 10/15\n",
      "1860/1916 [============================>.] - ETA: 0s - loss: 0.0044 - acc: 0.9995\n",
      "Epoch 00010: val_acc did not improve from 0.98592\n",
      "1916/1916 [==============================] - 1s 555us/sample - loss: 0.0046 - acc: 0.9995 - val_loss: 0.0711 - val_acc: 0.9859\n",
      "Epoch 11/15\n",
      "1860/1916 [============================>.] - ETA: 0s - loss: 0.0040 - acc: 0.9995\n",
      "Epoch 00011: val_acc did not improve from 0.98592\n",
      "1916/1916 [==============================] - 1s 553us/sample - loss: 0.0039 - acc: 0.9995 - val_loss: 0.0853 - val_acc: 0.9812\n",
      "Epoch 12/15\n",
      "1860/1916 [============================>.] - ETA: 0s - loss: 0.0028 - acc: 1.0000\n",
      "Epoch 00012: val_acc did not improve from 0.98592\n",
      "1916/1916 [==============================] - 1s 546us/sample - loss: 0.0028 - acc: 1.0000 - val_loss: 0.0567 - val_acc: 0.9859\n",
      "Epoch 13/15\n",
      "1860/1916 [============================>.] - ETA: 0s - loss: 0.0017 - acc: 1.0000\n",
      "Epoch 00013: val_acc did not improve from 0.98592\n",
      "1916/1916 [==============================] - 1s 551us/sample - loss: 0.0017 - acc: 1.0000 - val_loss: 0.0511 - val_acc: 0.9812\n",
      "Epoch 00013: early stopping\n"
     ]
    }
   ],
   "source": [
    "## activation = softmax, optimizer = adam 으로 바꾸고 실행\n",
    "model2 = Sequential()\n",
    "model2.add(Embedding(vocab_size, 100))\n",
    "model2.add(LSTM(128))\n",
    "model2.add(Dense(3, activation='softmax'))\n",
    "\n",
    "model2.compile(optimizer='adam', loss='categorical_crossentropy', metrics=['acc'])\n",
    "history = model2.fit(X_train, yy_train, epochs=15, callbacks=[es, mc], batch_size=60, validation_split=0.1)"
   ]
  },
  {
   "cell_type": "code",
   "execution_count": 82,
   "metadata": {},
   "outputs": [
    {
     "name": "stdout",
     "output_type": "stream",
     "text": [
      "\r",
      "1383/1 [==================================================================================================================================================================================================================================================================================================================================================================================================================================================================================================================================================================================================================================================================================================================================================================================================================================================================================================================================================================================================================================================================================================================================================================================================================================================================================================================================================================================================================================================================================================================================================================================================================================================================================================================================================================================================================================================================================================================================================================================================================================================================================================================================================================================================================================================================================================================================================================================================================================================================================================================================================================================================================================================================================================================================================================================================================================================================================================================================================================================================================================================================================================================================================================================================================================================================================================================================================================================================================================================================================================================================================================================================================================================================================================================================================================================================================================================================================================================================================================================================================================================================================================================================================================================================================================================================================================================================================================================================================================================================================================================================================================================================================================================================================================================================================================================================================================================================================================================================================================================================================================================================================================================================================================================================================================================================================================================================================================================================================================================================================================================================================================================================================================================================================================================================================================================================================================================================================================================================================================================================================================================================================================================================================================================================================================================================================================================================================================================================================================================================================================================================================================================================================================================================================================================================================================================================================================================================================================================================================================================================================================================================================================================================================================================================================================================================================================================================================================================================================================================================================================================================================================================================================================================================================================================================================================================================================================================================================================================================================================================================================================================================================================================================================================================================================================================================================================================================================================================================================================================================================================================================================================================================================================================================================================================================================================================================================================================================================================================================================================================================================================================================================================================================================================================================================================================================================================================================================================================================================================================================================================================================================================================================================================================================================================================================================================================================================================================================================================================================================================================================================================================================================================================================================================================================================================================================================================================================================================================================================================================================================================================================================================================================================================================================================================================================================================================================================================================================================================================================================================================================================================================================================================================================================================================================================================================================================================================================================================================================================================================================================================================================================================================================================================================================================================================================================================================================================================================================================================================================================================================================================================================================================================================================================================================================================================================================================================================================================================================================================================================================================================================================================================================================================================================================================================================================================================================================================================================================================================================================================================================================================================================================================================================================================================================================================================================================================================================================================================================================================================================================================================================================================================================================================================================================================================================================================================================================================================================================================================================================================================================================================================================================================================================================================================================================================================================================================================================================================================================================================================================================================================================================================================================================================================================================================================================================================================================================================================================================================================================================================================================================================================================================================================================================================================================================================================================================================================================================================================================================================================================================================================================================================================================================================================================================================================================================================================================================================================================================================================================================================================================================================================================================================================================================================================================================================================================================================================================================================================================================================================================================================================================================================================================================================================================================================================================================================================================================================================================================================================================================================================================================================================================================================================================================================================================================================================================================================================================================================================================================================================================================================================================================================================================================================================================================================================================================================================================================================================================================================================================================================================================================================================================================================================================================================================================================================================================================================================================================================================================================================================================================================================================================================================================================================================================================================================================================================================================================================================================================================================================================================================================================================================================================================================================================================================================================================================================================================================================================================================================================================================================================================================================================================================================================================================================================================================================================================================================================================================================================================================================================================================================================================================================================================================================================================================================================================================================================================================================================================================================================================================================================================================================================================================================================================================================================================================================================================================================================================================================================================================================================================================================================================================================================================================================================================================================================================================================================================================================================================================================================================================================================================================================================================================================================================================================================================================================================================================================================================================================================================================================================================================================================================================================================================================================================================================================================================================================================================================================================================================================================================================================================================================================================================================================================================================================================================================================================================================================================================================================================================================================================================================================================================================================================================================================================================================================================================================================================================================================================================================================================================================================================================================================================================================================================================================================================================================================================================================================================================================================================================================================================================================================================================================================================================================================================================================================================================================================================================================================================================================================================================================================================================================================================================================================================================================================================================================================================================================================================================================================================================================================================================================================================================================================================================================================================================================================================================================================================================================================================================================================================================================================================================================================================================================================================================================================================================================================================================================================================================================================================================================================================================================================================================================================================================================================================================================================================================================================================================================================================================================================================================================================================================================================================================================================================================================================================================================================================================================================================================================================================================================================================================================================================================================================================================================================================================================================================================================================================================================================================================================================================================================================================================================================================================================================================================================================================================================================================================================================================================================================================================================================================================================================================================================================================================================================================================================================================================================================================================================================================================================================================================================================================================================================================================================================================================================================================================================================================================================================================================================================================================================================================================================================================================================================================================================================================================================================================================================================================================================================================================================================================================================================================================================================================================================================================================================================================================================================================================================================================================================================================================================================================================================================================================================================================================================================================================================================================================================================================================================================================================================================================================================================================================================================================================================================================================================================================================================================================================================================================================================================================================================================================================================================================================================================================================================================================================================================================================================================================================================================================================================================================================================================================================================================================================================================================================================================================================================================================================================================================================================================================================================================================================================================================================================================================================================================================================================================================================================================================================================================================================================================================================================================================================================================================================================================================================================================================================================================================================================================================================================================================================================================================================================================================================================================================================================================================================================================================================================================================================================================================================================================================================================================================================================================================================================================================================================================================================================================================================================================================================================================================================================================================================================================================================================================================================================================================================================================================================================================================================================================================================================================================================================================================================================================================================================================================================================================================================================================================================================================================================================================================================================================================================================================================================================================================================================================================================================================================================================================================================================================================================================================================================================================================================================================================================================================================================================================================================================================================================================================================================================================================================================================================================================================================================================================================================================================================================================================================================================================================================================================================================================================================================================================================================================================================================================================================================================================================================================================================================================================================================================================================================================================================================================================================================================================================================================================================================================================================================================================================================================================================================================================================================================================================================================================================================================================================================================================================================================================================================================================================================================================================================================================================================================================================================================================================================================================================================================================================================================================================================================================================================================================================================================================================================================================================================================================================================================================================================================================================================================================================================================================================================================================================================================================================================================================================================================================================================================================================================================================================================================================================================================================================================================================================================================================================================================================================================================================================================================================================================================================================================================================================================================================================================================================================================================================================================================================================================================================================================================================================================================================================================================================================================================================================================================================================================================================================================================================================================================================================================================================================================================================================================================================================================================================================================================================================================================================================================================================================================================================================================================================================================================================================================================================================================================================================================================================================================================================================================================================================================================================================================================================================================================================================================================================================================================================================================================================================================================================================================================================================================================================================================================================================================================================================================================================================================================================================================================================================================================================================================================================================================================================================================================================================================================================================================================================================================================================================================================================================================] - 0s 197us/sample - loss: 0.0302 - acc: 0.9899\n"
     ]
    },
    {
     "name": "stdout",
     "output_type": "stream",
     "text": [
      "\n",
      " 테스트 정확도 : 98.99%\n"
     ]
    }
   ],
   "source": [
    "print(\"\\n 테스트 정확도 : {:.2f}%\".format(model2.evaluate(X_test,yy_test)[1]*100))"
   ]
  },
  {
   "cell_type": "code",
   "execution_count": 83,
   "metadata": {},
   "outputs": [
    {
     "name": "stdout",
     "output_type": "stream",
     "text": [
      "못 맞춘 상품들 \n",
      "==============================================================\n",
      "상품명 :  초 미세먼지 마스크 - 하이가드 SF-80 / KF94 식약처인증 일동제약 푸른숲 황사마스크 /동아제약 더스논 파이브와이 우한 폐렴 바이러스 예방 - 세상의모든안전화 /\t 원래 라벨 :  80 /\t예측한 라벨 :  94\n",
      "상품명 :  한국내제조 kf80 kf94 소형 대형 벌크 화이트 그레이 - 도그몰 /\t 원래 라벨 :  80 /\t예측한 라벨 :  94\n",
      "상품명 :  테라브레스 뽀로로 kf80 - 다다모아샵 /\t 원래 라벨 :  80 /\t예측한 라벨 :  94\n",
      "상품명 :  [쉼표리빙] 1개 - 5매입 KF94 쉼표리빙 미세먼지 황사 마스크 대형 일회용 KF80 ( 그레이) - 위메프 /\t 원래 라벨 :  94 /\t예측한 라벨 :  80\n",
      "상품명 :  아미 코엔보 웰빙 황사 미세먼지 마스크 L KF80 - 웰빙다모아 /\t 원래 라벨 :  80 /\t예측한 라벨 :  94\n",
      "상품명 :  황사방역마스크 KF94 KF80(대형 소형) - G마켓 /\t 원래 라벨 :  80 /\t예측한 라벨 :  94\n",
      "상품명 :  황사 방역 미세먼지 항균바이러스 마스크 KF94/KF80/항균 - CARRYSOME /\t 원래 라벨 :  94 /\t예측한 라벨 :  80\n",
      "상품명 :  일회용마스크 성능회복 키트 12번사용 코로나 미세먼지황사 대형KF94 KF80 정전기필터 - 세젤 /\t 원래 라벨 :  94 /\t예측한 라벨 :  80\n",
      "상품명 :  하이가드 황사마스크/KF80/KF94/1개/소형 /헬로키티/어린이 황사마스크 - 누리팜 /\t 원래 라벨 :  94 /\t예측한 라벨 :  80\n",
      "상품명 :  유한킴벌리 미세먼지 방진마스크,황사 마스크 KF80,9-크린가드 황사마스크 KF94 (소형/대형)-1개 - 인터파크 /\t 원래 라벨 :  94 /\t예측한 라벨 :  80\n",
      "상품명 :  KF94 방역마스크 올가드/ 초미세 먼지 황사 / 감염원 차단 /소형 중형 대형 - 야음마켓1974 /\t 원래 라벨 :  94 /\t예측한 라벨 :  80\n",
      "상품명 :  프리데이 [KF94] 황사 미세먼지 바이러스예방 방역 일회용 마스크 대형 5매 코로나 바이러스 완벽차단 - 티몬 /\t 원래 라벨 :  94 /\t예측한 라벨 :  80\n",
      "상품명 :  3월 6일 크리넥스 미세먼지 KF94 KF80 방역용 황사마스크 대형 외 - 청춘푸드몰 /\t 원래 라벨 :  80 /\t예측한 라벨 :  94\n",
      "상품명 :  아텍스 숲의숨 하이가드 황사마스크 대형KF80 (블랙) - 쿠팡 /\t 원래 라벨 :  80 /\t예측한 라벨 :  94\n",
      "전체 상품 1383개 중 14 개 예측 틀림\n"
     ]
    }
   ],
   "source": [
    "predict2 = model2.predict(X_test)\n",
    "predict_labels = np.argmax(predict2, axis=1) \n",
    "original_labels = np.argmax(yy_test, axis=1)\n",
    "print(\"못 맞춘 상품들 \")\n",
    "print(\"==============================================================\")\n",
    "num=0\n",
    "num_max=len(test_data)\n",
    "for i in range(len(test_data)):\n",
    "    if(original_labels[i]!=predict_labels[i]):\n",
    "        num=num+1\n",
    "        print(\"상품명 : \", test_data['goods_nm'].iloc[i], \"/\\t 원래 라벨 : \", return_kf(original_labels[i]), \"/\\t예측한 라벨 : \", return_kf(predict_labels[i]))\n",
    "print(\"전체 상품 {}개 중 {} 개 예측 틀림\".format(num_max,num))"
   ]
  },
  {
   "cell_type": "code",
   "execution_count": null,
   "metadata": {},
   "outputs": [],
   "source": []
  }
 ],
 "metadata": {
  "kernelspec": {
   "display_name": "Python 3",
   "language": "python",
   "name": "python3"
  },
  "language_info": {
   "codemirror_mode": {
    "name": "ipython",
    "version": 3
   },
   "file_extension": ".py",
   "mimetype": "text/x-python",
   "name": "python",
   "nbconvert_exporter": "python",
   "pygments_lexer": "ipython3",
   "version": "3.7.4"
  }
 },
 "nbformat": 4,
 "nbformat_minor": 4
}
