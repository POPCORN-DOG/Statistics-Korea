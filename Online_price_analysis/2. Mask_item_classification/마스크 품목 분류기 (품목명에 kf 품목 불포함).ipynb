{
 "cells": [
  {
   "cell_type": "code",
   "execution_count": 1,
   "metadata": {},
   "outputs": [
    {
     "data": {
      "text/html": [
       "<div>\n",
       "<style scoped>\n",
       "    .dataframe tbody tr th:only-of-type {\n",
       "        vertical-align: middle;\n",
       "    }\n",
       "\n",
       "    .dataframe tbody tr th {\n",
       "        vertical-align: top;\n",
       "    }\n",
       "\n",
       "    .dataframe thead th {\n",
       "        text-align: right;\n",
       "    }\n",
       "</style>\n",
       "<table border=\"1\" class=\"dataframe\">\n",
       "  <thead>\n",
       "    <tr style=\"text-align: right;\">\n",
       "      <th></th>\n",
       "      <th>colct_stdde</th>\n",
       "      <th>sle_site_domn</th>\n",
       "      <th>prices_prdlst_id</th>\n",
       "      <th>goods_nm</th>\n",
       "      <th>shop_nm</th>\n",
       "      <th>anals_trget_pc</th>\n",
       "      <th>Price</th>\n",
       "      <th>expsr_ordr</th>\n",
       "      <th>job_id</th>\n",
       "      <th>kf</th>\n",
       "      <th>Rand</th>\n",
       "    </tr>\n",
       "  </thead>\n",
       "  <tbody>\n",
       "    <tr>\n",
       "      <th>0</th>\n",
       "      <td>2020-05-25</td>\n",
       "      <td>search.shopping.naver.com</td>\n",
       "      <td>F012050</td>\n",
       "      <td>끈조절 가능 뉴네퓨어 황사방역 마스크 KF94 대형 소형 마스크 - 내니클린</td>\n",
       "      <td>내니클린</td>\n",
       "      <td>2900</td>\n",
       "      <td>2900.0</td>\n",
       "      <td>10.0</td>\n",
       "      <td>490001</td>\n",
       "      <td>94</td>\n",
       "      <td>0.000070</td>\n",
       "    </tr>\n",
       "    <tr>\n",
       "      <th>1</th>\n",
       "      <td>2020-05-12</td>\n",
       "      <td>search.shopping.naver.com</td>\n",
       "      <td>F012050</td>\n",
       "      <td>건영크린텍 10매건영 KF94 미세먼지 마스크 대형 white 5매입2 - G마켓</td>\n",
       "      <td>G마켓</td>\n",
       "      <td>29000</td>\n",
       "      <td>2900.0</td>\n",
       "      <td>80.0</td>\n",
       "      <td>490015</td>\n",
       "      <td>94</td>\n",
       "      <td>0.000081</td>\n",
       "    </tr>\n",
       "    <tr>\n",
       "      <th>2</th>\n",
       "      <td>2020-05-28</td>\n",
       "      <td>search.shopping.naver.com</td>\n",
       "      <td>F012050</td>\n",
       "      <td>[네퓨어] 파인텍 네퓨어 KF94 대형(5매입x1개) 황사 미세먼지 끈조절 마스크 ...</td>\n",
       "      <td>위메프</td>\n",
       "      <td>13000</td>\n",
       "      <td>2600.0</td>\n",
       "      <td>37.0</td>\n",
       "      <td>490008</td>\n",
       "      <td>94</td>\n",
       "      <td>0.000090</td>\n",
       "    </tr>\n",
       "    <tr>\n",
       "      <th>3</th>\n",
       "      <td>2020-04-17</td>\n",
       "      <td>search.shopping.naver.com</td>\n",
       "      <td>F012050</td>\n",
       "      <td>국산 kf80 마스크 대형 - 도그몰</td>\n",
       "      <td>도그몰</td>\n",
       "      <td>3000</td>\n",
       "      <td>3000.0</td>\n",
       "      <td>29.0</td>\n",
       "      <td>490013</td>\n",
       "      <td>80</td>\n",
       "      <td>0.000103</td>\n",
       "    </tr>\n",
       "    <tr>\n",
       "      <th>4</th>\n",
       "      <td>2020-03-28</td>\n",
       "      <td>search.shopping.naver.com</td>\n",
       "      <td>F012050</td>\n",
       "      <td>KF94 마스크 5매 대형/소형/성인/어린이 쉐도우 문 미세먼지 마스크 제로베이 도...</td>\n",
       "      <td>폴보스티몰</td>\n",
       "      <td>19500</td>\n",
       "      <td>3900.0</td>\n",
       "      <td>21.0</td>\n",
       "      <td>490001</td>\n",
       "      <td>94</td>\n",
       "      <td>0.000310</td>\n",
       "    </tr>\n",
       "  </tbody>\n",
       "</table>\n",
       "</div>"
      ],
      "text/plain": [
       "  colct_stdde              sle_site_domn prices_prdlst_id  \\\n",
       "0  2020-05-25  search.shopping.naver.com          F012050   \n",
       "1  2020-05-12  search.shopping.naver.com          F012050   \n",
       "2  2020-05-28  search.shopping.naver.com          F012050   \n",
       "3  2020-04-17  search.shopping.naver.com          F012050   \n",
       "4  2020-03-28  search.shopping.naver.com          F012050   \n",
       "\n",
       "                                            goods_nm shop_nm  anals_trget_pc  \\\n",
       "0         끈조절 가능 뉴네퓨어 황사방역 마스크 KF94 대형 소형 마스크 - 내니클린    내니클린            2900   \n",
       "1      건영크린텍 10매건영 KF94 미세먼지 마스크 대형 white 5매입2 - G마켓     G마켓           29000   \n",
       "2  [네퓨어] 파인텍 네퓨어 KF94 대형(5매입x1개) 황사 미세먼지 끈조절 마스크 ...     위메프           13000   \n",
       "3                               국산 kf80 마스크 대형 - 도그몰     도그몰            3000   \n",
       "4  KF94 마스크 5매 대형/소형/성인/어린이 쉐도우 문 미세먼지 마스크 제로베이 도...   폴보스티몰           19500   \n",
       "\n",
       "    Price  expsr_ordr  job_id  kf      Rand  \n",
       "0  2900.0        10.0  490001  94  0.000070  \n",
       "1  2900.0        80.0  490015  94  0.000081  \n",
       "2  2600.0        37.0  490008  94  0.000090  \n",
       "3  3000.0        29.0  490013  80  0.000103  \n",
       "4  3900.0        21.0  490001  94  0.000310  "
      ]
     },
     "execution_count": 1,
     "metadata": {},
     "output_type": "execute_result"
    }
   ],
   "source": [
    "import pandas as pd\n",
    "from sklearn.model_selection import train_test_split \n",
    "\n",
    "\n",
    "\n",
    "\n",
    "train_df = pd.read_csv('mask-total.csv', sep=',')\n",
    "train_df.head()"
   ]
  },
  {
   "cell_type": "code",
   "execution_count": 2,
   "metadata": {},
   "outputs": [
    {
     "data": {
      "text/html": [
       "<div>\n",
       "<style scoped>\n",
       "    .dataframe tbody tr th:only-of-type {\n",
       "        vertical-align: middle;\n",
       "    }\n",
       "\n",
       "    .dataframe tbody tr th {\n",
       "        vertical-align: top;\n",
       "    }\n",
       "\n",
       "    .dataframe thead th {\n",
       "        text-align: right;\n",
       "    }\n",
       "</style>\n",
       "<table border=\"1\" class=\"dataframe\">\n",
       "  <thead>\n",
       "    <tr style=\"text-align: right;\">\n",
       "      <th></th>\n",
       "      <th>goods_nm</th>\n",
       "      <th>kf</th>\n",
       "    </tr>\n",
       "  </thead>\n",
       "  <tbody>\n",
       "    <tr>\n",
       "      <th>0</th>\n",
       "      <td>끈조절 가능 뉴네퓨어 황사방역 마스크 KF94 대형 소형 마스크 - 내니클린</td>\n",
       "      <td>94</td>\n",
       "    </tr>\n",
       "    <tr>\n",
       "      <th>1</th>\n",
       "      <td>건영크린텍 10매건영 KF94 미세먼지 마스크 대형 white 5매입2 - G마켓</td>\n",
       "      <td>94</td>\n",
       "    </tr>\n",
       "    <tr>\n",
       "      <th>2</th>\n",
       "      <td>[네퓨어] 파인텍 네퓨어 KF94 대형(5매입x1개) 황사 미세먼지 끈조절 마스크 ...</td>\n",
       "      <td>94</td>\n",
       "    </tr>\n",
       "    <tr>\n",
       "      <th>3</th>\n",
       "      <td>국산 kf80 마스크 대형 - 도그몰</td>\n",
       "      <td>80</td>\n",
       "    </tr>\n",
       "    <tr>\n",
       "      <th>4</th>\n",
       "      <td>KF94 마스크 5매 대형/소형/성인/어린이 쉐도우 문 미세먼지 마스크 제로베이 도...</td>\n",
       "      <td>94</td>\n",
       "    </tr>\n",
       "  </tbody>\n",
       "</table>\n",
       "</div>"
      ],
      "text/plain": [
       "                                            goods_nm  kf\n",
       "0         끈조절 가능 뉴네퓨어 황사방역 마스크 KF94 대형 소형 마스크 - 내니클린  94\n",
       "1      건영크린텍 10매건영 KF94 미세먼지 마스크 대형 white 5매입2 - G마켓  94\n",
       "2  [네퓨어] 파인텍 네퓨어 KF94 대형(5매입x1개) 황사 미세먼지 끈조절 마스크 ...  94\n",
       "3                               국산 kf80 마스크 대형 - 도그몰  80\n",
       "4  KF94 마스크 5매 대형/소형/성인/어린이 쉐도우 문 미세먼지 마스크 제로베이 도...  94"
      ]
     },
     "execution_count": 2,
     "metadata": {},
     "output_type": "execute_result"
    }
   ],
   "source": [
    "train_df=train_df.loc[:,['goods_nm','kf']]\n",
    "train_df.head()"
   ]
  },
  {
   "cell_type": "code",
   "execution_count": 3,
   "metadata": {},
   "outputs": [],
   "source": [
    "train_data,test_data=train_test_split(train_df,random_state=100)"
   ]
  },
  {
   "cell_type": "code",
   "execution_count": 4,
   "metadata": {},
   "outputs": [
    {
     "name": "stdout",
     "output_type": "stream",
     "text": [
      "<class 'pandas.core.frame.DataFrame'>\n",
      "Int64Index: 12054 entries, 5166 to 5640\n",
      "Data columns (total 2 columns):\n",
      " #   Column    Non-Null Count  Dtype \n",
      "---  ------    --------------  ----- \n",
      " 0   goods_nm  12054 non-null  object\n",
      " 1   kf        12054 non-null  int64 \n",
      "dtypes: int64(1), object(1)\n",
      "memory usage: 282.5+ KB\n",
      "<class 'pandas.core.frame.DataFrame'>\n",
      "Int64Index: 4019 entries, 10036 to 13413\n",
      "Data columns (total 2 columns):\n",
      " #   Column    Non-Null Count  Dtype \n",
      "---  ------    --------------  ----- \n",
      " 0   goods_nm  4019 non-null   object\n",
      " 1   kf        4019 non-null   int64 \n",
      "dtypes: int64(1), object(1)\n",
      "memory usage: 94.2+ KB\n"
     ]
    }
   ],
   "source": [
    "train_data.info()\n",
    "test_data.info()"
   ]
  },
  {
   "cell_type": "code",
   "execution_count": 5,
   "metadata": {},
   "outputs": [
    {
     "data": {
      "text/plain": [
       "(2129, 3)"
      ]
     },
     "execution_count": 5,
     "metadata": {},
     "output_type": "execute_result"
    }
   ],
   "source": [
    "train_data['goods_nm'].nunique(), train_data['kf'].nunique()"
   ]
  },
  {
   "cell_type": "code",
   "execution_count": 6,
   "metadata": {},
   "outputs": [
    {
     "name": "stderr",
     "output_type": "stream",
     "text": [
      "C:\\ProgramData\\Anaconda3\\lib\\site-packages\\ipykernel_launcher.py:1: SettingWithCopyWarning: \n",
      "A value is trying to be set on a copy of a slice from a DataFrame\n",
      "\n",
      "See the caveats in the documentation: https://pandas.pydata.org/pandas-docs/stable/user_guide/indexing.html#returning-a-view-versus-a-copy\n",
      "  \"\"\"Entry point for launching an IPython kernel.\n"
     ]
    }
   ],
   "source": [
    "train_data.drop_duplicates(subset=['goods_nm'], inplace=True) "
   ]
  },
  {
   "cell_type": "code",
   "execution_count": 7,
   "metadata": {},
   "outputs": [
    {
     "name": "stdout",
     "output_type": "stream",
     "text": [
      "총 샘플의 수 : 2129\n"
     ]
    }
   ],
   "source": [
    "print('총 샘플의 수 :',len(train_data))"
   ]
  },
  {
   "cell_type": "code",
   "execution_count": 8,
   "metadata": {},
   "outputs": [
    {
     "data": {
      "text/plain": [
       "<matplotlib.axes._subplots.AxesSubplot at 0x25eff52c288>"
      ]
     },
     "execution_count": 8,
     "metadata": {},
     "output_type": "execute_result"
    },
    {
     "data": {
      "image/png": "[encoded data removed]",
      "text/plain": [
       "<Figure size 432x288 with 1 Axes>"
      ]
     },
     "metadata": {
      "needs_background": "light"
     },
     "output_type": "display_data"
    }
   ],
   "source": [
    "train_data['kf'].value_counts().plot(kind = 'bar')"
   ]
  },
  {
   "cell_type": "code",
   "execution_count": 9,
   "metadata": {},
   "outputs": [
    {
     "name": "stdout",
     "output_type": "stream",
     "text": [
      "   kf  count\n",
      "0  80    573\n",
      "1  94   1521\n",
      "2  99     35\n"
     ]
    }
   ],
   "source": [
    "print(train_data.groupby('kf').size().reset_index(name = 'count'))"
   ]
  },
  {
   "cell_type": "code",
   "execution_count": 10,
   "metadata": {},
   "outputs": [
    {
     "name": "stderr",
     "output_type": "stream",
     "text": [
      "C:\\ProgramData\\Anaconda3\\lib\\site-packages\\ipykernel_launcher.py:1: SettingWithCopyWarning: \n",
      "A value is trying to be set on a copy of a slice from a DataFrame\n",
      "\n",
      "See the caveats in the documentation: https://pandas.pydata.org/pandas-docs/stable/user_guide/indexing.html#returning-a-view-versus-a-copy\n",
      "  \"\"\"Entry point for launching an IPython kernel.\n"
     ]
    }
   ],
   "source": [
    "test_data.drop_duplicates(subset=['goods_nm'], inplace=True) "
   ]
  },
  {
   "cell_type": "code",
   "execution_count": 11,
   "metadata": {},
   "outputs": [
    {
     "data": {
      "text/plain": [
       "<matplotlib.axes._subplots.AxesSubplot at 0x25effa2b508>"
      ]
     },
     "execution_count": 11,
     "metadata": {},
     "output_type": "execute_result"
    },
    {
     "data": {
      "image/png": "[encoded data removed]",
      "text/plain": [
       "<Figure size 432x288 with 1 Axes>"
      ]
     },
     "metadata": {
      "needs_background": "light"
     },
     "output_type": "display_data"
    }
   ],
   "source": [
    "test_data['kf'].value_counts().plot(kind = 'bar')"
   ]
  },
  {
   "cell_type": "code",
   "execution_count": 12,
   "metadata": {},
   "outputs": [
    {
     "name": "stdout",
     "output_type": "stream",
     "text": [
      "총 샘플의 수 : 1383\n"
     ]
    }
   ],
   "source": [
    "print('총 샘플의 수 :',len(test_data))"
   ]
  },
  {
   "cell_type": "code",
   "execution_count": 13,
   "metadata": {},
   "outputs": [
    {
     "name": "stdout",
     "output_type": "stream",
     "text": [
      "False\n"
     ]
    }
   ],
   "source": [
    "print(train_data.isnull().values.any())"
   ]
  },
  {
   "cell_type": "code",
   "execution_count": 21,
   "metadata": {},
   "outputs": [
    {
     "name": "stdout",
     "output_type": "stream",
     "text": [
      "전처리 후 테스트용 샘플의 개수 : 1320\n"
     ]
    },
    {
     "name": "stderr",
     "output_type": "stream",
     "text": [
      "C:\\ProgramData\\Anaconda3\\lib\\site-packages\\ipykernel_launcher.py:3: SettingWithCopyWarning: \n",
      "A value is trying to be set on a copy of a slice from a DataFrame.\n",
      "Try using .loc[row_indexer,col_indexer] = value instead\n",
      "\n",
      "See the caveats in the documentation: https://pandas.pydata.org/pandas-docs/stable/user_guide/indexing.html#returning-a-view-versus-a-copy\n",
      "  This is separate from the ipykernel package so we can avoid doing imports until\n"
     ]
    }
   ],
   "source": [
    "import numpy as np\n",
    "\n",
    "train_data['goods_nm'] = train_data['goods_nm'].str.replace(\"[^ㄱ-ㅎㅏ-ㅣ가-힣 ]\",\"\")\n",
    "# 한글과 공백을 제외하고 모두 제거\n",
    "train_data[:5]\n",
    "test_data.drop_duplicates(subset = ['goods_nm'], inplace=True) # document 열에서 중복인 내용이 있다면 중복 제거\n",
    "test_data['goods_nm'] = test_data['goods_nm'].str.replace(\"[^ㄱ-ㅎㅏ-ㅣ가-힣 ]\",\"\") # 정규 표현식 수행\n",
    "test_data['goods_nm'].replace('', np.nan, inplace=True) # 공백은 Null 값으로 변경\n",
    "test_data = test_data.dropna(how='any') # Null 값 제거\n",
    "print('전처리 후 테스트용 샘플의 개수 :',len(test_data))"
   ]
  },
  {
   "cell_type": "code",
   "execution_count": 22,
   "metadata": {},
   "outputs": [],
   "source": [
    "stopwords = ['의','가','이','은','들','는','좀','잘','걍','과','도','를','으로','자','에','와','한','하다']"
   ]
  },
  {
   "cell_type": "code",
   "execution_count": 23,
   "metadata": {},
   "outputs": [],
   "source": [
    "import urllib.request\n",
    "%matplotlib inline\n",
    "import matplotlib.pyplot as plt\n",
    "import re\n",
    "from konlpy.tag import Okt\n",
    "from tensorflow.keras.preprocessing.text import Tokenizer\n",
    "from tensorflow.keras.preprocessing.sequence import pad_sequences"
   ]
  },
  {
   "cell_type": "code",
   "execution_count": 24,
   "metadata": {},
   "outputs": [],
   "source": [
    "okt=Okt()\n",
    "X_train = []\n",
    "for sentence in train_data['goods_nm']:\n",
    "    temp_X = []\n",
    "    temp_X = okt.morphs(sentence, stem=True) # 토큰화\n",
    "    temp_X = [word for word in temp_X if not word in stopwords] # 불용어 제거\n",
    "    X_train.append(temp_X)"
   ]
  },
  {
   "cell_type": "code",
   "execution_count": 25,
   "metadata": {},
   "outputs": [
    {
     "name": "stdout",
     "output_type": "stream",
     "text": [
      "[['웰', '클린', '황사', '방역', '마스크', '매', '성', '인대', '형', '일회용', '마켓'], ['스마일', '황사', '미세먼지', '마스크', '개', '블랙', '블랙', '화이트', '롯데'], ['쉼표', '리빙', '황사', '방역', '마스크', '그레이', '대형', '팩', '매', '쿠팡']]\n"
     ]
    }
   ],
   "source": [
    "print(X_train[:3])"
   ]
  },
  {
   "cell_type": "code",
   "execution_count": 26,
   "metadata": {},
   "outputs": [],
   "source": [
    "X_test = []\n",
    "for sentence in test_data['goods_nm']:\n",
    "    temp_X = []\n",
    "    temp_X = okt.morphs(sentence, stem=True) # 토큰화\n",
    "    temp_X = [word for word in temp_X if not word in stopwords] # 불용어 제거\n",
    "    X_test.append(temp_X)"
   ]
  },
  {
   "cell_type": "code",
   "execution_count": 27,
   "metadata": {},
   "outputs": [
    {
     "name": "stdout",
     "output_type": "stream",
     "text": [
      "[['당일', '출고', '코지', '마스크', '대형', '매입', '블랙', '마켓'], ['오픈', '프리', '흰색', '대형', '마스크', '매', '마켓'], ['대형', '마스크', '개', '매', '개', '총', '매입', '바이러스', '황사', '미세먼지', '동백꽃', '상회']]\n"
     ]
    }
   ],
   "source": [
    "print(X_test[:3])"
   ]
  },
  {
   "cell_type": "code",
   "execution_count": 28,
   "metadata": {},
   "outputs": [],
   "source": [
    "tokenizer = Tokenizer()\n",
    "tokenizer.fit_on_texts(X_train)"
   ]
  },
  {
   "cell_type": "code",
   "execution_count": 29,
   "metadata": {},
   "outputs": [
    {
     "name": "stdout",
     "output_type": "stream",
     "text": [
      "{'마스크': 1, '대형': 2, '황사': 3, '개': 4, '미세먼지': 5, '매': 6, '방역': 7, '포장': 8, '매입': 9, '개별': 10, '마켓': 11, '일회용': 12, '소형': 13, '화이트': 14, '국내': 15, '번가': 16, '용': 17, '당일': 18, '국산': 19, '퓨어': 20, '코로나': 21, '쿠팡': 22, '네': 23, '옥션': 24, '발송': 25, '위메프': 26, '성': 27, '인용': 28, '어린이': 29, '블랙': 30, '개입': 31, '가드': 32, '티몬': 33, '식약처': 34, '생산': 35, '몰다': 36, '랜덤': 37, '출고': 38, '황': 39, '뉴': 40, '웰킵스': 41, '푸른': 42, '인증': 43, '대': 44, '사방': 45, '역용': 46, '차단': 47, '흰색': 48, '중형': 49, '닥터': 50, '크다': 51, '퓨리': 52, '크리넥스': 53, '인터파크': 54, '형': 55, '먼지': 56, '필터': 57, '숨': 58, '배송': 59, '초미세먼지': 60, '조': 61, '애니': 62, '더': 63, '건강': 64, '케어': 65, '방한': 66, '더스논': 67, '늘': 68, '보건': 69, '중': 70, '조절': 71, '끈': 72, '파다': 73, '플러스': 74, '파인텍': 75, '미세': 76, '프리': 77, '산': 78, '재고': 79, '동아제약': 80, '스토어': 81, '아': 82, '샵': 83, '입체': 84, '회용': 85, '예방': 86, '면': 87, '우한': 88, '생활': 89, '낱개': 90, '성인': 91, '허가': 92, '도매': 93, '인': 94, '의약외품': 95, '유한킴벌리': 96, '데이': 97, '린': 98, '원': 99, '애경': 100, '롯데': 101, '바이러스': 102, '세트': 103, '캐릭터': 104, '숲': 105, '중구': 106, '아동': 107, '확보': 108, '밉다': 109, '브랜드': 110, '메다': 111, '웰': 112, '팩': 113, '폐렴': 114, '리빙': 115, '초소': 116, '일월': 117, '블루': 118, '가능': 119, '제로': 120, '소': 121, '오다': 122, '총': 123, '라': 124, '도부': 125, '일': 126, '상품': 127, '오늘': 128, '와이': 129, '스마트': 130, '온': 131, '오': 132, '무형': 133, '광': 134, '초': 135, '린탑': 136, '아이': 137, '테라': 138, '하이': 139, '베이': 140, '씨': 141, '대응': 142, '엠': 143, '브레스': 144, '사용': 145, '도그': 146, '크린웰': 147, '용품': 148, '무료': 149, '쉼표': 150, '웰빙': 151, '개다': 152, '안심': 153, '당': 154, '세이프': 155, '데': 156, '일리': 157, '클린': 158, '시': 159, '올': 160, '한숨': 161, '휴': 162, '약품': 163, '마트': 164, '유아': 165, '엔': 166, '패션': 167, '에르': 168, '프리미엄': 169, '국': 170, '봉지': 171, '해피': 172, '국제': 173, '에버그린': 174, '입': 175, '정품': 176, '지': 177, '그레이': 178, '좋다': 179, '에어': 180, '인기': 181, '판촉': 182, '고': 183, '몬스터': 184, '코로나바이러스': 185, '끌': 186, '레': 187, '안청': 188, '백색': 189, '트리': 190, '판매': 191, '루트': 192, '기타': 193, '보유': 194, '헬': 195, '그린': 196, '외': 197, '뽀로로': 198, '푸르다': 199, '니스': 200, '다': 201, '월': 202, '출발': 203, '디': 204, '일동': 205, '텍': 206, '봉': 207, '파': 208, '인더스': 209, '건영크린텍': 210, '확행': 211, '맑은': 212, '없다': 213, '별': 214, '에코': 215, '한정': 216, '물': 217, '일출': 218, '식약청': 219, '덴탈': 220, '라이프': 221, '이지': 222, '엘지': 223, '구매': 224, '스토리': 225, '여름': 226, '수량': 227, '제조': 228, '하늘': 229, '에스': 230, '숨쉬다': 231, '센트': 232, '공': 233, '핑크': 234, '코지': 235, '레카': 236, '밸브': 237, '일동제약': 238, '세': 239, '안전': 240, '보령제약': 241, '에이치': 242, '방진': 243, '제이': 244, '케이': 245, '이엠': 246, '스': 247, '닷컴': 248, '쇼핑': 249, '디즈니': 250, '밀착': 251, '편안': 252, '기념품': 253, '써니': 254, '코': 255, '에어워셔': 256, '파이브': 257, '장': 258, '이네': 259, '검정': 260, '만': 261, '편하다': 262, '버퍼': 263, '이노': 264, '삼': 265, '묶음': 266, '동아': 267, '신종': 268, '히트': 269, '테크': 270, '재다': 271, '나은': 272, '앤': 273, '코튼': 274, '푸드': 275, '건영': 276, '차다': 277, '퐁': 278, '형소': 279, '홈': 280, '편': 281, '소량': 282, '상회': 283, '입다': 284, '동': 285, '색상': 286, '야': 287, '쿨': 288, '밀봉': 289, '더숨': 290, '숨쉬기': 291, '윤': 292, '제작': 293, '주식회사': 294, '린숨': 295, '주': 296, '닉스': 297, '몽생': 298, '미쉘': 299, '프렌즈': 300, '박스': 301, '씩': 302, '디자인': 303, '계절': 304, '알뜰': 305, '뷰티': 306, '코리아': 307, '제': 308, '핏': 309, '메이드': 310, '메': 311, '일편': 312, '사이즈': 313, '기능': 314, '후': 315, '긴급': 316, '군': 317, '엘': 318, '에이스': 319, '유한양행': 320, '로': 321, '위생': 322, '카드': 323, '쉬': 324, '뉴크린웰': 325, '일양약품': 326, '빠르다': 327, '포켓몬': 328, '즈': 329, '할인': 330, '프티': 331, '참조': 332, '위': 333, '어': 334, '클립': 335, '리드': 336, '여': 337, '아이비': 338, '페이스': 339, '파이': 340, '냉동': 341, '미소': 342, '쌍용': 343, '팡팡': 344, '의료': 345, '쉴드': 346, '에프': 347, '동백꽃': 348, '가격': 349, '템': 350, '맘': 351, '마이': 352, '익': 353, '급': 354, '유앤아이': 355, '하나': 356, '미키마우스': 357, '하': 358, '월일': 359, '휴대': 360, '시험': 361, '기준': 362, '통과': 363, '바로': 364, '꿍': 365, '연예인': 366, '마스': 367, '회사': 368, '공조': 369, '종로': 370, '오픈': 371, '앤비': 372, '퀸': 373, '되다': 374, '인쇄': 375, '감기': 376, '나': 377, '리': 378, '산업': 379, '모든': 380, '화': 381, '힐': 382, '쇼핑몰': 383, '공개': 384, '부직포': 385, '실크': 386, '랑': 387, '제품': 388, '반짝반짝': 389, '교체': 390, '프로': 391, '넥스': 392, '또': 393, '와썹': 394, '이다': 395, '뜨다': 396, '오가다': 397, '팡': 398, '완벽': 399, '스타일': 400, '왕국': 401, '청춘': 402, '세이': 403, '에티카': 404, '손세정제': 405, '신': 406, '보리': 407, '검정색': 408, '라인': 409, '홈쇼핑': 410, '보령': 411, '겹': 412, '소아': 413, '꿈꾸다': 414, '나나': 415, '아텍스': 416, '토': 417, '내': 418, '익일': 419, '공용': 420, '취소': 421, '기프트': 422, '감염': 423, '문건': 424, '스케': 425, '키즈': 426, '로이': 427, '양': 428, '보호': 429, '널': 430, '대나무': 431, '늘품': 432, '지기': 433, '상점': 434, '셀': 435, '트': 436, '모으다': 437, '오피스': 438, '문': 439, '티': 440, '잇다': 441, '월드': 442, '퍼니맘': 443, '상의': 444, '컴퍼니': 445, '우리': 446, '베이비': 447, '비': 448, '베이직': 449, '이마트': 450, '착하다': 451, '배기': 452, '미니': 453, '키티': 454, '에버': 455, '세다': 456, '굿데이': 457, '베다': 458, '재': 459, '짱': 460, '이브': 461, '리즈': 462, '그': 463, '램덤': 464, '니': 465, '조이': 466, '청정': 467, '텐바이텐': 468, '방지': 469, '완료': 470, '랩': 471, '아기': 472, '이루다': 473, '제약': 474, '꿀벌': 475, '피타': 476, '네오프렌': 477, '타다': 478, '벨': 479, '류': 480, '매다': 481, '스몰': 482, '떼': 483, '자연': 484, '드림': 485, '강남': 486, '무역': 487, '퓨': 488, '약사': 489, '오디': 490, '답례': 491, '품': 492, '선샤인': 493, '아유': 494, '레디': 495, '센터': 496, '독감': 497, '코코': 498, '점': 499, '라피': 500, '이상': 501, '노': 502, '어스': 503, '적': 504, '약국': 505, '다나': 506, '아이리스': 507, '순면': 508, '개제': 509, '매개': 510, '행': 511, '거인': 512, '행거': 513, '멸치': 514, '주니어': 515, '메가마트': 516, '블링마': 517, '클릭': 518, '암웨이': 519, '포': 520, '가족': 521, '나라': 522, '모나리자': 523, '쿠션': 524, '컴퓨존': 525, '디펜스': 526, '피': 527, '핑크베리': 528, '릴리': 529, '프': 530, '구조': 531, '안녕': 532, '팔': 533, '성용': 534, '헬로키티': 535, '대박': 536, '미생': 537, '더블': 538, '기술': 539, '더쏠': 540, '닉': 541, '손소독제': 542, '전용': 543, '모음': 544, '굿': 545, '분진': 546, '탐사': 547, '대웅': 548, '인대': 549, '중외': 550, '헬로': 551, '미즈': 552, '헤나': 553, '따따': 554, '레시아': 555, '영': 556, '한국': 557, '웰킵': 558, '공적': 559, '비타': 560, '마니아': 561, '깨끗하다': 562, '오공': 563, '미디어': 564, '이전': 565, '내다': 566, '작다': 567, '칼': 568, '행사': 569, '보': 570, '프랜즈': 571, '플라자': 572, '피피턴': 573, '엔젤': 574, '가다': 575, '니드': 576, '수프림': 577, '폴': 578, '보스': 579, '헤르메스': 580, '타운': 581, '브리': 582, '접이식': 583, '바디': 584, '생활용품': 585, '오렌지': 586, '공룡': 587, '멸균': 588, '라비': 589, '런닝맨': 590, '약': 591, '아리': 592, '조사': 593, '카페': 594, '글로리': 595, '앙': 596, '용다': 597, '하늬': 598, '리치': 599, '나인': 600, '나프': 601, '삼성': 602, '선물': 603, '물량': 604, '까지': 605, '써다': 606, '효도': 607, '프레': 608, '알': 609, '스테이': 610, '타': 611, '인사': 612, '나노': 613, '벌': 614, '틱': 615, '품절': 616, '베니': 617, '스마': 618, '드리다': 619, '맑음': 620, '휴먼': 621, '파크': 622, '스포츠': 623, '바': 624, '현대': 625, '파파': 626, '몽': 627, '종': 628, '방송': 629, '공식': 630, '즉시': 631, '쓸엠': 632, '빈': 633, '일반': 634, '청소년': 635, '잡화': 636, '봄이몬': 637, '도로': 638, '시바': 639, '토스': 640, '단위': 641, '플러스원': 642, '블': 643, '공기': 644, '마': 645, '네이처': 646, '사이': 647, '코코몽': 648, '이편': 649, '상어': 650, '컨테이젼': 651, '직구': 652, '플랜': 653, '무지': 654, '초등학생': 655, '커머스': 656, '꼼짝': 657, '방영': 658, '봉봉': 659, '픽셀': 660, '크루': 661, '편안하다': 662, '함소': 663, '김': 664, '서림': 665, '메이': 666, '추가': 667, '투': 668, '스마일': 669, '클럽': 670, '지르다': 671, '개대': 672, '입자': 673, '유해': 674, '물질': 675, '개황': 676, '사': 677, '사라고사': 678, '헤븐': 679, '건민홈': 680, '개장': 681, '용남': 682, '공수': 683, '힉스': 684, '윌': 685, '로우': 686, '리프': 687, '쉐이프': 688, '로드': 689, '오후': 690, '택배': 691, '막다': 692, '이기다': 693, '놀': 694, '슈퍼': 695, '알맹이': 696, '티에스': 697, '용감하다': 698, '에디슨': 699, '에게': 700, '잘맞다': 701, '우스': 702, '틀다': 703, '숲속': 704, '입대': 705, '다모아': 706, '미래': 707, '동성제약': 708, '유통': 709, '대량': 710, '벌꿀': 711, '파트너': 712, '빙': 713, '쉬다': 714, '배송비': 715, '위키': 716, '휴니프': 717, '큐큐': 718, '존': 719, '유가': 720, '플레이': 721, '쉐도우': 722, '한컴': 723, '핫라인': 724, '수준': 725, '라나': 726, '또는': 727, '포장디자인': 728, '쥬르': 729, '지피다': 730, '오메': 731, '드': 732, '솔바람': 733, '종합': 734, '두': 735, '배': 736, '지퍼': 737, '코스트코': 738, '사뿐사뿐': 739, '정': 740, '동국제약': 741, '어울림': 742, '핫': 743, '플': 744, '레이스': 745, '점빵': 746, '마미': 747, '정담': 748, '수령': 749, '확정': 750, '부탁드리다': 751, '러시': 752, '쓰다': 753, '소녀': 754, '아이엠': 755, '피씨': 756, '롭스': 757, '당원': 758, '단체': 759, '순이': 760, '합리': 761, '펜': 762, '사랑': 763, '코퍼레이션': 764, '밀리': 765, '에듀': 766, '건': 767, '어리다': 768, '컬리': 769, '휴브': 770, '핸드': 771, '포함': 772, '바르다': 773, '직스': 774, '악': 775, '올리브': 776, '개포': 777, '해': 778, '전자파': 779, '안면': 780, '과식': 781, '수': 782, '페어': 783, '코스트': 784, '철저하다': 785, '가게': 786, '안양': 787, '마운틴': 788, '그린데이': 789, '이온': 790, '라오': 791, '테르': 792, '반짝': 793, '맨': 794, '시니어': 795, '클레어': 796, '마망': 797, '라운드': 798, '패키지': 799, '바키': 800, '라떼': 801, '남여': 802, '임시': 803, '업로드': 804, '용매': 805, '손소독': 806, '젤': 807, '상세': 808, '급사': 809, '조아': 810, '어르다': 811, '금액': 812, '임': 813, '최소': 814, '제이스': 815, '피앤티': 816, '선택': 817, '아라': 818, '앤지': 819, '루카스': 820, '딩': 821, '시크릿': 822, '쥬쥬': 823, '헬스': 824, '액세서리': 825, '소품': 826, '에브리': 827, '주문': 828, '담': 829, '켓': 830, '빛나다': 831, '더스': 832, '논': 833, '스펀지': 834, '구': 835, '후시': 836, '나무': 837, '더블유': 838, '둘': 839, '도르다': 840, '하우스': 841, '컴퓨터': 842, '코비': 843, '신라': 844, '면세점': 845, '반창고': 846, '현': 847, '지미': 848, '앤코': 849, '로부터': 850, '세균': 851, '신형': 852, '더쌈': 853, '케이엠': 854, '순차': 855, '회원': 856, '다린': 857, '오버레이': 858, '조기': 859, '예상': 860, '새': 861, '지니': 862, '특허': 863, '손': 864, '정제': 865, '화장품': 866, '앤드': 867, '회색': 868, '케이스': 869, '해외': 870, '매쉬': 871, '보다': 872, '상사': 873, '겨울왕국': 874, '창고': 875, '항공': 876, '부터': 877, '용량': 878, '카봇': 879, '분홍': 880, '콧수염': 881, '풀': 882, '사당': 883, '문구': 884, '큐브': 885, '우체국': 886, '큐': 887, '늦다': 888, '매진': 889, '단': 890, '생명과학': 891, '공대': 892, '아빠': 893, '웹': 894, '웰스': 895, '베스트': 896, '바바라': 897, '펄퀸': 898, '셀렉': 899, '레드': 900, '페이': 901, '아무르': 902, '골든': 903, '브': 904, '리스': 905, '치윤': 906, '매너': 907, '교환': 908, '레버': 909, '하프': 910, '우메': 911, '워치': 912, '코디': 913, '베': 914, '비언': 915, '안전하다': 916, '견고하다': 917, '야크': 918, '유닛': 919, '미카': 920, '군위': 921, '완전': 922, '알파': 923, '오메가': 924, '인코': 925, '유앤': 926, '우리동네': 927, '서방': 928, '연속': 929, '알뜰하다': 930, '기념': 931, '노블레스': 932, '해밀': 933, '파란': 934, '요': 935, '고다': 936, '마르': 937, '아울렛몰': 938, '가원': 939, '솔루션': 940, '현물': 941, '지리': 942, '아이파크': 943, '바라다': 944, '브렉': 945, '매직': 946, '트리플': 947, '얄': 948, '리얄': 949, '샵딜': 950, '로고': 951, '금강': 952, '전문': 953, '띵크몰': 954, '나뽀': 955, '닷': 956, '컴': 957, '인스타': 958, '피아': 959, '미요': 960, '기발하다': 961, '아이디어': 962, '젠더': 963, '더존': 964, '엄지': 965, '포켓몬스터': 966, '제이에이': 967, '이시스': 968, '아이온': 969, '누르다': 970, '이보': 971, '남녀': 972, '채널': 973, '썸': 974, '언니': 975, '팹': 976, '시티': 977, '산타클라라': 978, '펀앤펀': 979, '리터': 980, '뽑다': 981, '메이크업': 982, '전자': 983, '한량': 984, '아늑홈': 985, '기업': 986, '원픽굿쯔': 987, '위텍': 988, '마쓰': 989, '리오': 990, '솜': 991, '관리': 992, '필수': 993, '보영': 994, '탈취': 995, '길이': 996, '최': 997, '제약회사': 998, '핑팜': 999, '입금': 1000, '일곱시': 1001, '리얼': 1002, '라이즈': 1003, '해솔': 1004, '애니멀': 1005, '초등생': 1006, '얼굴': 1007, '여성': 1008, '플러리싱': 1009, '부베': 1010, '시즌': 1011, '샘물': 1012, '쓸다': 1013, '비엘': 1014, '연마': 1015, '대왕': 1016, '아토': 1017, '철': 1018, '철물': 1019, '가족사': 1020, '정전': 1021, '픽업': 1022, '건강하다': 1023, '팩매': 1024, '폰': 1025, '케이에스': 1026, '격리': 1027, '가든': 1028, '럽': 1029, '고급': 1030, '탈리아': 1031, '하울': 1032, '로그': 1033, '라이온': 1034, '바른': 1035, '토탈': 1036, '다이소': 1037, '실속': 1038, '대비': 1039, '메멋': 1040, '간지': 1041, '통통': 1042, '부': 1043, '네트워크': 1044, '화생방': 1045, '화재': 1046, '믿다': 1047, '있다': 1048, '케': 1049, '몰든': 1050, '메디앙스': 1051, '엄마': 1052, '승인': 1053, '스미다': 1054, '가지': 1055, '맘스맘': 1056, '참고': 1057, '팽수몰': 1058, '전문점': 1059, '농': 1060, '자재': 1061, '전자상거래': 1062, '혜원': 1063, '토미': 1064, '개똥': 1065, '세일': 1066, '연분홍': 1067, '달별': 1068, '슬기롭다': 1069, '주부': 1070, '제피르': 1071, '팰컨': 1072, '올랜즈': 1073, '샵마': 1074, '이스터': 1075, '로켓': 1076, '지향': 1077, '우환': 1078, '유한': 1079, '사다': 1080, '로봇': 1081, '트레인': 1082, '리버': 1083, '섬유': 1084, '달곰': 1085, '프라임': 1086, '래': 1087, '언스': 1088, '돌콩': 1089, '당근': 1090, '주말': 1091, '판매점': 1092, '정우': 1093, '설명': 1094, '부여': 1095, '팩개': 1096, '빅트리': 1097, '진스': 1098, '골프': 1099, '삼천리': 1100, '팩토리': 1101, '복수': 1102, '모두': 1103, '연구소': 1104, '서다': 1105, '야몽': 1106, '구르다': 1107, '만물상': 1108, '탐탐': 1109, '오스틴': 1110, '천연': 1111, '비누': 1112, '별별': 1113, '코로': 1114, '살균': 1115, '선화': 1116, '망고': 1117, '예스': 1118, '체리': 1119, '히': 1120, '마인드': 1121, '엠나': 1122, '마넷': 1123, '및': 1124, '환풍기': 1125, '방독면': 1126, '셀러': 1127, '디엠': 1128, '러브': 1129, '매매': 1130, '화요일': 1131, '카이': 1132, '샤': 1133, '모닝': 1134, '로란': 1135, '드류': 1136, '스팟': 1137, '관공서': 1138, '공공': 1139, '기간': 1140, '웨딩': 1141, '리우': 1142, '골디락스': 1143, '컨슈머': 1144, '부엉이': 1145, '멘토': 1146, '피앤티디': 1147, '애덜': 1148, '바이': 1149, '딜': 1150, '원단': 1151, '바이오': 1152, '팔구사구': 1153, '어버이날': 1154, '부모님': 1155, '아버지': 1156, '어머니': 1157, '믿음': 1158, '코스': 1159, '띵': 1160, '제리': 1161, '크레송': 1162, '질': 1163, '오땡스': 1164, '츠비': 1165, '기회': 1166, '동일': 1167, '주소': 1168, '최대': 1169, '가능하다': 1170, '기': 1171, '장터': 1172, '푸룸': 1173, '리지': 1174, '플렌티': 1175, '덕': 1176, '트랩': 1177, '필수품': 1178, '퍼스트': 1179, '렌탈': 1180, '리빙굿': 1181, '진시': 1182, '드립': 1183, '지황': 1184, '사방역': 1185, '다산': 1186, '띠': 1187, '앗다': 1188, '뷰': 1189, '티팟': 1190, '페퍼': 1191, '가능성': 1192, '원스': 1193, '효율': 1194, '서온': 1195, '준비': 1196, '러본몰': 1197, '구비': 1198, '부족': 1199, '오투': 1200, '웨어': 1201, '레시': 1202, '생건': 1203, '이크': 1204, '피부': 1205, '예약': 1206, '보관': 1207, '항균팩매': 1208, '땡큐': 1209, '가가': 1210, '판다': 1211, '그램': 1212, '팝': 1213, '일이': 1214, '브릿지': 1215, '파랑색': 1216, '용개': 1217, '씨엘': 1218, '공구': 1219, '뱅크': 1220, '웹킵스': 1221, '쎈딜': 1222, '이맥스': 1223, '가치': 1224, '팔다': 1225, '동화약품': 1226, '학생': 1227, '바다': 1228, '오전': 1229, '웰크론헬': 1230, '어디가': 1231, '앤피': 1232, '버': 1233, '비품': 1234, '한미': 1235, '카카오': 1236, '장군': 1237, '분양': 1238, '홍보물': 1239, '미하': 1240, '단독': 1241, '기획': 1242, '애나': 1243, '동궁': 1244, '다이아': 1245, '개초': 1246, '케미칼': 1247, '인벤': 1248, '카': 1249, '죄송하다': 1250, '제한': 1251, '청운': 1252, '파란색': 1253, '노스': 1254, '라무': 1255, '라미': 1256, '인터': 1257, '날': 1258, '텍스': 1259, '쾌걸': 1260, '흥': 1261, '달달': 1262, '스탠다드': 1263, '뚜바': 1264, '동일하다': 1265, '성능': 1266, '발휘': 1267, '툴앤': 1268, '애': 1269, '유화': 1270, '구로': 1271, '신용': 1272, '벤트': 1273, '리엘': 1274, '홈즈': 1275, '고개': 1276, '키': 1277, '이미': 1278, '클린룸': 1279, '일간': 1280, '휴가': 1281, '가디언': 1282, '곰': 1283, '애기': 1284, '신평': 1285, '건재': 1286, '비원': 1287, '실재': 1288, '바배': 1289, '일복': 1290, '동물': 1291, '뉴스': 1292, '맞벌이': 1293, '루시': 1294, '소독': 1295, '티슈': 1296, '이니': 1297, '셜': 1298, '반사': 1299, '팬클럽': 1300, '어린이집': 1301, '학교': 1302, '원하다': 1303, '크로스': 1304, '킬': 1305, '소리': 1306, '엠지컴': 1307, '빵': 1308, '큐티': 1309, '로시': 1310, '글로벌': 1311, '모범': 1312, '툴': 1313, '최종': 1314, '중국': 1315, '쭈': 1316, '피싱': 1317, '리빙킹': 1318, '업': 1319, '현장': 1320, '상인': 1321, '컬러': 1322, '전염': 1323, '질병': 1324, '샤샤': 1325, '수술': 1326, '항균': 1327, '소세지': 1328, '신세계': 1329, '원더': 1330, '뉴웰': 1331, '올리비아': 1332, '컬': 1333, '온누리': 1334, '식품': 1335, '나오다': 1336, '대다': 1337, '양품': 1338, '최신': 1339, '년': 1340, '남자': 1341, '마그넷': 1342, '지키다': 1343, '빨': 1344, '양자': 1345, '아래': 1346, '천일염': 1347, '헤어': 1348, '극': 1349, '스프레이': 1350, '손청': 1351, '결제': 1352, '제니스': 1353, '픽': 1354, '누리': 1355, '장입': 1356, '병': 1357, '의원': 1358, '버터': 1359, '오씨': 1360, '조씨': 1361, '비비': 1362, '디케': 1363, '이즈': 1364, '개중': 1365, '최저': 1366, '패치': 1367, '밴드': 1368, '상비약': 1369, '롱드드': 1370, '러비': 1371, '앙이다': 1372, '패턴': 1373, '봄꽃': 1374, '그녀': 1375, '희다': 1376, '바자르': 1377, '제니': 1378, '기피': 1379, '킵스': 1380, '상공': 1381, '양행': 1382, '윈더': 1383, '늑대': 1384, '동생': 1385, '일립스': 1386, '죠다쉬': 1387, '무명': 1388, '특별하다': 1389, '게릴라': 1390, '특가웰킵스': 1391, '로그인': 1392, '까치': 1393, '점방': 1394, '루비': 1395, '돌': 1396, '문후': 1397, '용성': 1398, '주황': 1399, '생강차': 1400, '고구마': 1401, '싱가베': 1402, '애플': 1403, '몽키': 1404, '위즈': 1405, '구루': 1406, '로트': 1407, '대구': 1408, '백화점': 1409, '관': 1410, '비비안': 1411, '스타킹': 1412, '포레스트': 1413, '니아': 1414, '신사': 1415, '옴므': 1416, '스파': 1417, '비뇽': 1418, '터': 1419, '야음': 1420, '엔조이': 1421, '마우스': 1422, '글': 1423, '머': 1424, '겔': 1425, '비스비': 1426, '파이다': 1427, '시오': 1428, '다인': 1429, '쵸': 1430, '부자': 1431, '비앤채': 1432, '숨바': 1433, '꼭지': 1434, '홈앤': 1435, '아미': 1436, '주노': 1437, '증정': 1438, '초이스': 1439, '헨리': 1440, '권': 1441, '편의점': 1442, '에서': 1443, '기프티콘': 1444, '기프': 1445, '팅': 1446, '디비디': 1447, '해피해피': 1448, '전자기기': 1449, '나트': 1450, '레이': 1451, '언니네': 1452, '인생': 1453, '챠밍': 1454, '우레': 1455, '폴리': 1456, '저': 1457, '자극': 1458, '대화': 1459, '연쇄점': 1460, '팬더': 1461, '즐겁다': 1462}\n"
     ]
    }
   ],
   "source": [
    "print(tokenizer.word_index)"
   ]
  },
  {
   "cell_type": "code",
   "execution_count": 30,
   "metadata": {},
   "outputs": [
    {
     "name": "stdout",
     "output_type": "stream",
     "text": [
      "단어 집합(vocabulary)의 크기 : 1462\n",
      "등장 빈도가 2번 이하인 희귀 단어의 수: 794\n",
      "단어 집합에서 희귀 단어의 비율: 54.309165526675784\n",
      "전체 등장 빈도에서 희귀 단어 등장 빈도 비율: 4.422583404619332\n"
     ]
    }
   ],
   "source": [
    "threshold = 3\n",
    "total_cnt = len(tokenizer.word_index) # 단어의 수\n",
    "rare_cnt = 0 # 등장 빈도수가 threshold보다 작은 단어의 개수를 카운트\n",
    "total_freq = 0 # 훈련 데이터의 전체 단어 빈도수 총 합\n",
    "rare_freq = 0 # 등장 빈도수가 threshold보다 작은 단어의 등장 빈도수의 총 합\n",
    "\n",
    "# 단어와 빈도수의 쌍(pair)을 key와 value로 받는다.\n",
    "for key, value in tokenizer.word_counts.items():\n",
    "    total_freq = total_freq + value\n",
    "\n",
    "    # 단어의 등장 빈도수가 threshold보다 작으면\n",
    "    if(value < threshold):\n",
    "        rare_cnt = rare_cnt + 1\n",
    "        rare_freq = rare_freq + value\n",
    "\n",
    "print('단어 집합(vocabulary)의 크기 :',total_cnt)\n",
    "print('등장 빈도가 %s번 이하인 희귀 단어의 수: %s'%(threshold - 1, rare_cnt))\n",
    "print(\"단어 집합에서 희귀 단어의 비율:\", (rare_cnt / total_cnt)*100)\n",
    "print(\"전체 등장 빈도에서 희귀 단어 등장 빈도 비율:\", (rare_freq / total_freq)*100)"
   ]
  },
  {
   "cell_type": "code",
   "execution_count": 31,
   "metadata": {},
   "outputs": [
    {
     "name": "stdout",
     "output_type": "stream",
     "text": [
      "단어 집합의 크기 : 669\n"
     ]
    }
   ],
   "source": [
    "vocab_size = total_cnt - rare_cnt + 1 # 전체 단어 개수 중 빈도수 2이하인 단어 개수는 제거. 0번 패딩 토큰을 고려하여 +1\n",
    "print('단어 집합의 크기 :',vocab_size)"
   ]
  },
  {
   "cell_type": "code",
   "execution_count": 32,
   "metadata": {},
   "outputs": [],
   "source": [
    "tokenizer = Tokenizer(vocab_size) \n",
    "tokenizer.fit_on_texts(X_train)\n",
    "X_train = tokenizer.texts_to_sequences(X_train)\n",
    "X_test = tokenizer.texts_to_sequences(X_test)"
   ]
  },
  {
   "cell_type": "code",
   "execution_count": 33,
   "metadata": {},
   "outputs": [
    {
     "name": "stdout",
     "output_type": "stream",
     "text": [
      "[[112, 158, 3, 7, 1, 6, 27, 549, 55, 12, 11], [3, 5, 1, 4, 30, 30, 14, 101], [150, 115, 3, 7, 1, 178, 2, 113, 6, 22]]\n"
     ]
    }
   ],
   "source": [
    "print(X_train[:3])"
   ]
  },
  {
   "cell_type": "code",
   "execution_count": 34,
   "metadata": {},
   "outputs": [],
   "source": [
    "y_train = np.array(train_data['kf'])\n",
    "y_test = np.array(test_data['kf'])"
   ]
  },
  {
   "cell_type": "code",
   "execution_count": 35,
   "metadata": {},
   "outputs": [],
   "source": [
    "drop_train = [index for index, sentence in enumerate(X_train) if len(sentence) < 1]\n",
    "drop_test = [index for index, sentence in enumerate(X_test) if len(sentence) < 1]"
   ]
  },
  {
   "cell_type": "code",
   "execution_count": 36,
   "metadata": {},
   "outputs": [
    {
     "name": "stdout",
     "output_type": "stream",
     "text": [
      "2129\n",
      "2129\n"
     ]
    }
   ],
   "source": [
    "X_train = np.delete(X_train, drop_train, axis=0)\n",
    "y_train = np.delete(y_train, drop_train, axis=0)\n",
    "print(len(X_train))\n",
    "print(len(y_train))"
   ]
  },
  {
   "cell_type": "code",
   "execution_count": 37,
   "metadata": {},
   "outputs": [
    {
     "name": "stdout",
     "output_type": "stream",
     "text": [
      "1320\n",
      "1320\n"
     ]
    }
   ],
   "source": [
    "X_test = np.delete(X_test, drop_test, axis=0)\n",
    "y_test = np.delete(y_test, drop_test, axis=0)\n",
    "print(len(X_test))\n",
    "print(len(y_test))"
   ]
  },
  {
   "cell_type": "code",
   "execution_count": 38,
   "metadata": {},
   "outputs": [
    {
     "name": "stdout",
     "output_type": "stream",
     "text": [
      "상품명의 최대 길이 : 34\n",
      "상품명 평균 길이 : 10.496007515265383\n"
     ]
    },
    {
     "data": {
      "image/png": "[encoded data removed]",
      "text/plain": [
       "<Figure size 432x288 with 1 Axes>"
      ]
     },
     "metadata": {
      "needs_background": "light"
     },
     "output_type": "display_data"
    }
   ],
   "source": [
    "print('상품명의 최대 길이 :',max(len(l) for l in X_train))\n",
    "print('상품명 평균 길이 :',sum(map(len, X_train))/len(X_train))\n",
    "plt.hist([len(s) for s in X_train], bins=50)\n",
    "plt.xlabel('length of samples')\n",
    "plt.ylabel('number of samples')\n",
    "plt.show()"
   ]
  },
  {
   "cell_type": "code",
   "execution_count": 39,
   "metadata": {},
   "outputs": [],
   "source": [
    "def below_threshold_len(max_len, nested_list):\n",
    "  cnt = 0\n",
    "  for s in nested_list:\n",
    "    if(len(s) <= max_len):\n",
    "        cnt = cnt + 1\n",
    "  print('전체 샘플 중 길이가 %s 이하인 샘플의 비율: %s'%(max_len, (cnt / len(nested_list))*100))"
   ]
  },
  {
   "cell_type": "code",
   "execution_count": 46,
   "metadata": {},
   "outputs": [
    {
     "name": "stdout",
     "output_type": "stream",
     "text": [
      "전체 샘플 중 길이가 30 이하인 샘플의 비율: 100.0\n"
     ]
    }
   ],
   "source": [
    "max_len = 30\n",
    "below_threshold_len(max_len, X_train)"
   ]
  },
  {
   "cell_type": "code",
   "execution_count": 47,
   "metadata": {},
   "outputs": [],
   "source": [
    "X_train = pad_sequences(X_train, maxlen = max_len)\n",
    "X_test = pad_sequences(X_test, maxlen = max_len)"
   ]
  },
  {
   "cell_type": "code",
   "execution_count": 48,
   "metadata": {},
   "outputs": [],
   "source": [
    "yy_train=[]\n",
    "yy_test=[]\n",
    "\n",
    "for i in range(len(y_train)):\n",
    "    if y_train[i]==99:\n",
    "        yy_train.append([0,0,1])\n",
    "    elif y_train[i]==94:\n",
    "        yy_train.append([0,1,0])\n",
    "    elif y_train[i]==80:\n",
    "        yy_train.append([1,0,0])\n",
    "        \n",
    "for i in range(len(y_test)):\n",
    "    if y_test[i]==99:\n",
    "        yy_test.append([0,0,1])\n",
    "    elif y_test[i]==94:\n",
    "        yy_test.append([0,1,0])\n",
    "    elif y_test[i]==80:\n",
    "        yy_test.append([1,0,0])\n",
    "        \n",
    "yy_train=np.array(yy_train)\n",
    "yy_test=np.array(yy_test)\n",
    "        "
   ]
  },
  {
   "cell_type": "code",
   "execution_count": 49,
   "metadata": {},
   "outputs": [],
   "source": [
    "from tensorflow.keras.layers import Embedding, Dense, LSTM\n",
    "from tensorflow.keras.models import Sequential\n",
    "from tensorflow.keras.models import load_model\n",
    "from tensorflow.keras.callbacks import EarlyStopping, ModelCheckpoint"
   ]
  },
  {
   "cell_type": "code",
   "execution_count": 50,
   "metadata": {},
   "outputs": [],
   "source": [
    "model = Sequential()\n",
    "model.add(Embedding(vocab_size, 100))\n",
    "model.add(LSTM(128))\n",
    "model.add(Dense(3, activation='sigmoid'))"
   ]
  },
  {
   "cell_type": "code",
   "execution_count": 51,
   "metadata": {},
   "outputs": [],
   "source": [
    "es = EarlyStopping(monitor='val_loss', mode='min', verbose=1, patience=4)\n",
    "mc = ModelCheckpoint('best_model.h5', monitor='val_acc', mode='max', verbose=1, save_best_only=True)"
   ]
  },
  {
   "cell_type": "code",
   "execution_count": 52,
   "metadata": {},
   "outputs": [
    {
     "name": "stdout",
     "output_type": "stream",
     "text": [
      "Train on 1916 samples, validate on 213 samples\n",
      "Epoch 1/15\n",
      "1860/1916 [============================>.] - ETA: 0s - loss: 0.7067 - acc: 0.6978\n",
      "Epoch 00001: val_acc improved from -inf to 0.70892, saving model to best_model.h5\n",
      "1916/1916 [==============================] - 4s 2ms/sample - loss: 0.7072 - acc: 0.6978 - val_loss: 0.6710 - val_acc: 0.7089\n",
      "Epoch 2/15\n",
      "1860/1916 [============================>.] - ETA: 0s - loss: 0.6526 - acc: 0.7161\n",
      "Epoch 00002: val_acc did not improve from 0.70892\n",
      "1916/1916 [==============================] - 1s 555us/sample - loss: 0.6545 - acc: 0.7150 - val_loss: 0.6446 - val_acc: 0.7089\n",
      "Epoch 3/15\n",
      "1860/1916 [============================>.] - ETA: 0s - loss: 0.5692 - acc: 0.7285\n",
      "Epoch 00003: val_acc improved from 0.70892 to 0.71831, saving model to best_model.h5\n",
      "1916/1916 [==============================] - 1s 574us/sample - loss: 0.5641 - acc: 0.7333 - val_loss: 0.5400 - val_acc: 0.7183\n",
      "Epoch 4/15\n",
      "1860/1916 [============================>.] - ETA: 0s - loss: 0.4179 - acc: 0.8349\n",
      "Epoch 00004: val_acc improved from 0.71831 to 0.80282, saving model to best_model.h5\n",
      "1916/1916 [==============================] - 1s 553us/sample - loss: 0.4210 - acc: 0.8325 - val_loss: 0.4452 - val_acc: 0.8028\n",
      "Epoch 5/15\n",
      "1860/1916 [============================>.] - ETA: 0s - loss: 0.3516 - acc: 0.8645\n",
      "Epoch 00005: val_acc improved from 0.80282 to 0.83568, saving model to best_model.h5\n",
      "1916/1916 [==============================] - 1s 743us/sample - loss: 0.3471 - acc: 0.8653 - val_loss: 0.4019 - val_acc: 0.8357\n",
      "Epoch 6/15\n",
      "1860/1916 [============================>.] - ETA: 0s - loss: 0.3090 - acc: 0.8785\n",
      "Epoch 00006: val_acc improved from 0.83568 to 0.85915, saving model to best_model.h5\n",
      "1916/1916 [==============================] - 1s 574us/sample - loss: 0.3056 - acc: 0.8810 - val_loss: 0.3809 - val_acc: 0.8592\n",
      "Epoch 7/15\n",
      "1860/1916 [============================>.] - ETA: 0s - loss: 0.2732 - acc: 0.8887\n",
      "Epoch 00007: val_acc did not improve from 0.85915\n",
      "1916/1916 [==============================] - 1s 563us/sample - loss: 0.2745 - acc: 0.8873 - val_loss: 0.3968 - val_acc: 0.8310\n",
      "Epoch 8/15\n",
      "1860/1916 [============================>.] - ETA: 0s - loss: 0.2454 - acc: 0.8968\n",
      "Epoch 00008: val_acc did not improve from 0.85915\n",
      "1916/1916 [==============================] - 1s 565us/sample - loss: 0.2452 - acc: 0.8977 - val_loss: 0.3554 - val_acc: 0.8592\n",
      "Epoch 9/15\n",
      "1860/1916 [============================>.] - ETA: 0s - loss: 0.2241 - acc: 0.9065\n",
      "Epoch 00009: val_acc did not improve from 0.85915\n",
      "1916/1916 [==============================] - 1s 654us/sample - loss: 0.2262 - acc: 0.9061 - val_loss: 0.3709 - val_acc: 0.8592\n",
      "Epoch 10/15\n",
      "1860/1916 [============================>.] - ETA: 0s - loss: 0.2126 - acc: 0.9113\n",
      "Epoch 00010: val_acc did not improve from 0.85915\n",
      "1916/1916 [==============================] - 1s 551us/sample - loss: 0.2103 - acc: 0.9128 - val_loss: 0.4226 - val_acc: 0.8545\n",
      "Epoch 11/15\n",
      "1860/1916 [============================>.] - ETA: 0s - loss: 0.1909 - acc: 0.9280\n",
      "Epoch 00011: val_acc improved from 0.85915 to 0.88263, saving model to best_model.h5\n",
      "1916/1916 [==============================] - 1s 567us/sample - loss: 0.1945 - acc: 0.9264 - val_loss: 0.3815 - val_acc: 0.8826\n",
      "Epoch 12/15\n",
      "1860/1916 [============================>.] - ETA: 0s - loss: 0.1869 - acc: 0.9339\n",
      "Epoch 00012: val_acc did not improve from 0.88263\n",
      "1916/1916 [==============================] - 1s 567us/sample - loss: 0.1890 - acc: 0.9322 - val_loss: 0.3851 - val_acc: 0.8732\n",
      "Epoch 00012: early stopping\n"
     ]
    }
   ],
   "source": [
    "model.compile(optimizer='rmsprop', loss='categorical_crossentropy', metrics=['acc'])\n",
    "history = model.fit(X_train, yy_train, epochs=15, callbacks=[es, mc], batch_size=60, validation_split=0.1)"
   ]
  },
  {
   "cell_type": "code",
   "execution_count": 53,
   "metadata": {},
   "outputs": [
    {
     "name": "stdout",
     "output_type": "stream",
     "text": [
      "\r",
      "1320/1 [================================================================================================================================================================================================================================================================================================================================================================================================================================================================================================================================================================================================================================================================================================================================================================================================================================================================================================================================================================================================================================================================================================================================================================================================================================================================================================================================================================================================================================================================================================================================================================================================================================================================================================================================================================================================================================================================================================================================================================================================================================================================================================================================================================================================================================================================================================================================================================================================================================================================================================================================================================================================================================================================================================================================================================================================================================================================================================================================================================================================================================================================================================================================================================================================================================================================================================================================================================================================================================================================================================================================================================================================================================================================================================================================================================================================================================================================================================================================================================================================================================================================================================================================================================================================================================================================================================================================================================================================================================================================================================================================================================================================================================================================================================================================================================================================================================================================================================================================================================================================================================================================================================================================================================================================================================================================================================================================================================================================================================================================================================================================================================================================================================================================================================================================================================================================================================================================================================================================================================================================================================================================================================================================================================================================================================================================================================================================================================================================================================================================================================================================================================================================================================================================================================================================================================================================================================================================================================================================================================================================================================================================================================================================================================================================================================================================================================================================================================================================================================================================================================================================================================================================================================================================================================================================================================================================================================================================================================================================================================================================================================================================================================================================================================================================================================================================================================================================================================================================================================================================================================================================================================================================================================================================================================================================================================================================================================================================================================================================================================================================================================================================================================================================================================================================================================================================================================================================================================================================================================================================================================================================================================================================================================================================================================================================================================================================================================================================================================================================================================================================================================================================================================================================================================================================================================================================================================================================================================================================================================================================================================================================================================================================================================================================================================================================================================================================================================================================================================================================================================================================================================================================================================================================================================================================================================================================================================================================================================================================================================================================================================================================================================================================================================================================================================================================================================================================================================================================================================================================================================================================================================================================================================================================================================================================================================================================================================================================================================================================================================================================================================================================================================================================================================================================================================================================================================================================================================================================================================================================================================================================================================================================================================================================================================================================================================================================================================================================================================================================================================================================================================================================================================================================================================================================================================================================================================================================================================================================================================================================================================================================================================================================================================================================================================================================================================================================================================================================================================================================================================================================================================================================================================================================================================================================================================================================================================================================================================================================================================================================================================================================================================================================================================================================================================================================================================================================================================================================================================================================================================================================================================================================================================================================================================================================================================================================================================================================================================================================================================================================================================================================================================================================================================================================================================================================================================================================================================================================================================================================================================================================================================================================================================================================================================================================================================================================================================================================================================================================================================================================================================================================================================================================================================================================================================================================================================================================================================================================================================================================================================================================================================================================================================================================================================================================================================================================================================================================================================================================================================================================================================================================================================================================================================================================================================================================================================================================================================================================================================================================================================================================================================================================================================================================================================================================================================================================================================================================================================================================================================================================================================================================================================================================================================================================================================================================================================================================================================================================================================================================================================================================================================================================================================================================================================================================================================================================================================================================================================================================================================================================================================================================================================================================================================================================================================================================================================================================================================================================================================================================================================================================================================================================================================================================================================================================================================================================================================================================================================================================================================================================================================================================================================================================================================================================================================================================================================================================================================================================================================================================================================================================================================================================================================================================================================================================================================================================================================================================================================================================================================================================================================================================================================================================================================================================================================================================================================================================================================================================================================================================================================================================================================================================================================================================================================================================================================================================================================================================================================================================================================================================================================================================================================================================================================================================================================================================================================================================================================================================================================================================================================================================================================================================================================================================================================================================================================================================================================================================================================================================================================================================================================================================================================================================================================================================================================================================================================================================================================================================================================================================================================================================================================================================================================================================================================================================================================================================================================================================================================================================================================================================================================================================================================================================================================================================================================================================================================================================================================================================================================================================================================================================================================================================================================================================================================================================================================================================================================================================================================================================================================================================================================================================================================================================================================================================================================================================================================================================================================================================================================================================================================================================================================================================================================================================================================================================================================================================================================================================================================================================================================================================================================================================================================================================================================================================================================================================================================================================================================================================================================================================================================================================================================================================================================================================================================================================================================================================================================================================================================================================================================================================================================================================================================================================================================================================================================================================================================================================================================================================================================================================================================================================================================================================================================================================================================================================================================================================================================================================================================================================================================================================================================================================================================================================================================================================================================================================================================================================================================================================================================================================================================================================================================================================================================================================================================================================================================================================================================================================================================================================================================================================================================================================================================================================================================================================================================================================================================================================================================================================================================================================================================================================================================================================================================================================================================================================================================================================================================================================================================================================================================================================================================================================================================================================================================================================================================================================================================================================================================================================================================================================================================================================================================================================================================================================================================================================================================================================================================================================================================================================================================================================================================================================================================================================================================================================================================================================================================================================================================================================================================================================================================================================================================================================================================================================================================================================================================================================================================================================================================================================================================================================================================================================================================================================================================================================================================================================================================================================================================================================================================================================================================================================================================================================================================================================================================================================================================================================================================================================================================================================================================================================================================================================================================================================================================================================================================================================================================================================================================================================================================================================================================================================================================================================================================================================================================================================================================================================================================================================================================================================================================================================================================================================================================================================================================================================================================================================================================================================================================================================================================================================================================================================================================================================================================================================================================================================================================================================================================================================================================================================================================================================================================================================================================================================================================================================================================================================================================================================================================================================================================================================================================================================================================================================================================================================================================================================================================================================================================================================================================================================================================================================================================================================================================================================================================================================================================================================================================================================================================================================================================================================================================================================================================================================================================================================================================================================================================================================================================================================================================================================================================================================================================================================================================================================================================================================================================================================================================================================================================================================================================================================================================================================================================================================================================================================================================================================================================================================================================================================================================================================================================================================================================================================================================================================================================================================================================================================================================================================================================================================================================================================================================================================================================================================================================================================================================================================================================================================================================================================================================================================================================================================================================================================================================================================================================================================================================================================================================================================================================================================================================================================================================================================================================================================================================================================================================================================================================================================================================================================================================================================================================================================================================================================================================================================================================================================================================================================================================================] - 0s 335us/sample - loss: 0.1331 - acc: 0.9242\n"
     ]
    },
    {
     "name": "stdout",
     "output_type": "stream",
     "text": [
      "\n",
      " 테스트 정확도: 0.9242\n"
     ]
    }
   ],
   "source": [
    "loaded_model = load_model('best_model.h5')\n",
    "print(\"\\n 테스트 정확도: %.4f\" % (loaded_model.evaluate(X_test, yy_test)[1]))"
   ]
  },
  {
   "cell_type": "code",
   "execution_count": 54,
   "metadata": {},
   "outputs": [],
   "source": [
    "predict = model.predict(X_test)\n"
   ]
  },
  {
   "cell_type": "code",
   "execution_count": 56,
   "metadata": {},
   "outputs": [],
   "source": [
    "predict_labels = np.argmax(predict, axis=1) \n",
    "original_labels = np.argmax(yy_test, axis=1)\n",
    "\n",
    "def return_kf(label):\n",
    "    if label==1:\n",
    "        return 94\n",
    "    elif label==0:\n",
    "        return 80\n",
    "    elif label==2:\n",
    "        return 99\n"
   ]
  },
  {
   "cell_type": "code",
   "execution_count": 80,
   "metadata": {},
   "outputs": [
    {
     "name": "stdout",
     "output_type": "stream",
     "text": [
      "못 맞춘 상품들 \n",
      "==============================================================\n",
      "상품명 :   황사마스크  개 /\t 원래 라벨 :  80 /\t예측한 라벨 :  94\n",
      "상품명 :  엠플러스 국산 미세먼지 황사마스크  화이트 개  옥션 /\t 원래 라벨 :  94 /\t예측한 라벨 :  80\n",
      "상품명 :  엠플러스 국산 미세먼지 황사마스크  화이트 개  마켓 /\t 원래 라벨 :  94 /\t예측한 라벨 :  80\n",
      "상품명 :  국산  대형 마스크  우한코로나  마켓 /\t 원래 라벨 :  80 /\t예측한 라벨 :  94\n",
      "상품명 :  국산 세이프황사마스크 미세먼지마스크성인블랙개  번가 /\t 원래 라벨 :  80 /\t예측한 라벨 :  94\n",
      "상품명 :  마스크 퓨어 마스크  옥션 /\t 원래 라벨 :  80 /\t예측한 라벨 :  94\n",
      "상품명 :   미세먼지 황사 마스크 대형네이비   롯데 /\t 원래 라벨 :  94 /\t예측한 라벨 :  80\n",
      "상품명 :  도부라이프텍 도부 초미세먼지 황사 방역마스크   방역황사마스크 전문점 /\t 원래 라벨 :  94 /\t예측한 라벨 :  80\n",
      "상품명 :   크린웰 황사마스크 개  이보소 /\t 원래 라벨 :  94 /\t예측한 라벨 :  80\n",
      "상품명 :  국내산 개별포장  써니데이 소형마스크 매 어린이용 세   /\t 원래 라벨 :  94 /\t예측한 라벨 :  80\n",
      "상품명 :  초 미세먼지 마스크  하이가드    식약처인증 일동제약 푸른숲 황사마스크 동아제약 더스논 파이브와이 우한 폐렴 바이러스 예방  세상의모든안전화 /\t 원래 라벨 :  80 /\t예측한 라벨 :  94\n",
      "상품명 :  에브리가드  마스크 개 매입 에브리가드  미세먼지 황사 방역 일회용 마스크 대형  티몬 /\t 원래 라벨 :  94 /\t예측한 라벨 :  80\n",
      "상품명 :  한국내제조   소형 대형 벌크 화이트 그레이  도그몰 /\t 원래 라벨 :  80 /\t예측한 라벨 :  94\n",
      "상품명 :  국산마스크 대형개별포장  엄지점빵 /\t 원래 라벨 :  80 /\t예측한 라벨 :  94\n",
      "상품명 :  마스크 소형 소형마스크 일회용마스크 화이트 개별밀봉포장 개   위메프 /\t 원래 라벨 :  94 /\t예측한 라벨 :  80\n",
      "상품명 :  국산 개별포장  황사 마스크 일회용 매 대형   /\t 원래 라벨 :  94 /\t예측한 라벨 :  80\n",
      "상품명 :  인기 리빙용품 중필터 프리텍  방역용마스크  대형 개입  위메프 /\t 원래 라벨 :  94 /\t예측한 라벨 :  80\n",
      "상품명 :   이지핏 황사 미세먼지 마스크    띠앗앗 /\t 원래 라벨 :  94 /\t예측한 라벨 :  80\n",
      "상품명 :   미세먼지 마스크 대형 매입 황사 일회용마스크  마켓 /\t 원래 라벨 :  94 /\t예측한 라벨 :  80\n",
      "상품명 :  국산마스크 대형개별포장  지피월드 /\t 원래 라벨 :  80 /\t예측한 라벨 :  94\n",
      "상품명 :  보건용 마스크  매 대형  마켓 /\t 원래 라벨 :  80 /\t예측한 라벨 :  94\n",
      "상품명 :  도부마스크 당일출고  도부마스크 대형  보건용 황사  마켓 /\t 원래 라벨 :  94 /\t예측한 라벨 :  80\n",
      "상품명 :  재입고 힉스윌로우리프 황사미세먼지 마스크  어드바이스몰 /\t 원래 라벨 :  80 /\t예측한 라벨 :  94\n",
      "상품명 :   미세먼지 방역 마스크 대형 매개별포장  마켓 /\t 원래 라벨 :  80 /\t예측한 라벨 :  94\n",
      "상품명 :  국내산 황사 밸브 마스크  대형 개 브랜드랜덤  쿠팡 /\t 원래 라벨 :  94 /\t예측한 라벨 :  80\n",
      "상품명 :  국산  대형 마스크  우한코로나  옥션 /\t 원래 라벨 :  80 /\t예측한 라벨 :  94\n",
      "상품명 :  테라브레스 뽀로로   다다모아샵 /\t 원래 라벨 :  80 /\t예측한 라벨 :  94\n",
      "상품명 :  스마트 황사마스크  대형 개입  롯데 /\t 원래 라벨 :  80 /\t예측한 라벨 :  94\n",
      "상품명 :  웰킵스 웰킵스 대형  마스크 미세먼지차단 개별포장 중필터 일회용마스크  위메프 /\t 원래 라벨 :  94 /\t예측한 라벨 :  80\n",
      "상품명 :  아이정  황사 방역용 마스크   아이정 /\t 원래 라벨 :  94 /\t예측한 라벨 :  80\n",
      "상품명 :  스마일 황사 미세먼지 마스크   개 블랙블랙화이트  롯데 /\t 원래 라벨 :  80 /\t예측한 라벨 :  94\n",
      "상품명 :   올가드 방역마스크 대형  매입 성인용 흰색 당일발송  반창고닷컴 /\t 원래 라벨 :  80 /\t예측한 라벨 :  94\n",
      "상품명 :  올가드 황사 마스크 어린이 소형  개 식약처허가  옥션 /\t 원래 라벨 :  94 /\t예측한 라벨 :  80\n",
      "상품명 :  크린웰  마스크 대형  쿠팡 /\t 원래 라벨 :  80 /\t예측한 라벨 :  94\n",
      "상품명 :   숨쉬기 편한 황사 방역마스크 개  쿠팡 /\t 원래 라벨 :  94 /\t예측한 라벨 :  80\n",
      "상품명 :  국산  대형 황사방역마스크 개  보건몰닷컴 /\t 원래 라벨 :  80 /\t예측한 라벨 :  94\n",
      "상품명 :  마스크 대형 일회용 미세먼지 마스크 매  마켓 /\t 원래 라벨 :  80 /\t예측한 라벨 :  94\n",
      "상품명 :   대형 매입 국제약품 메디마스크화이트 매  푸름웰니스 /\t 원래 라벨 :  94 /\t예측한 라벨 :  80\n",
      "상품명 :  황사 메디마스크  대형 매 매입개  롯데 /\t 원래 라벨 :  80 /\t예측한 라벨 :  94\n",
      "상품명 :  국내제작 안전하고 견고한  마스크 대형 매입  블랙야크 스토어 /\t 원래 라벨 :  94 /\t예측한 라벨 :  80\n",
      "상품명 :  에버그린 다봉산업 마이케어 끈조절 미세먼지 마스크  대형  삼천리팩토리 /\t 원래 라벨 :  80 /\t예측한 라벨 :  94\n",
      "상품명 :  매입 웰킵스  황사마스크 대형 매입  티몬 /\t 원래 라벨 :  94 /\t예측한 라벨 :  80\n",
      "상품명 :  마스크 대형 개씩 개별포장 디자인 랜덤으로 발송 국내제작 미세먼지마스크   일회용마스크 황사마스크 코로나  티몬 /\t 원래 라벨 :  80 /\t예측한 라벨 :  94\n",
      "상품명 :   황사 마스크 일회용마스크 매 대형   /\t 원래 라벨 :  94 /\t예측한 라벨 :  80\n",
      "상품명 :  국산  대형 마스크  우한코로나 빠른배송지향  옥션 /\t 원래 라벨 :  80 /\t예측한 라벨 :  94\n",
      "상품명 :  라오테르 황사 미세먼지 마스크 대형 매  쿠팡 /\t 원래 라벨 :  94 /\t예측한 라벨 :  80\n",
      "상품명 :  마스크 대형 일회용 미세먼지 마스크 국내정품  파파몽 /\t 원래 라벨 :  94 /\t예측한 라벨 :  80\n",
      "상품명 :  국산  황사 마스크 개 당일발송가능  마켓 /\t 원래 라벨 :  80 /\t예측한 라벨 :  94\n",
      "상품명 :   황사 미세먼지 마스크 대형 소형 아동 일회용  마켓 /\t 원래 라벨 :  94 /\t예측한 라벨 :  80\n",
      "상품명 :  아미 코엔보 웰빙 황사 미세먼지 마스크    웰빙다모아 /\t 원래 라벨 :  80 /\t예측한 라벨 :  94\n",
      "상품명 :  황사방역마스크  대형 소형  마켓 /\t 원래 라벨 :  80 /\t예측한 라벨 :  94\n",
      "상품명 :  쉼표리빙 황사방역 마스크  대형 마스크황사용품  텐바이텐 /\t 원래 라벨 :  94 /\t예측한 라벨 :  80\n",
      "상품명 :  당일출고  대형 마스크 매 황사방역 마스크  마켓 /\t 원래 라벨 :  80 /\t예측한 라벨 :  94\n",
      "상품명 :  황사 방역 미세먼지 항균바이러스 마스크 항균   /\t 원래 라벨 :  94 /\t예측한 라벨 :  80\n",
      "상품명 :  기타 하이가드 방역마스크 황사마스크  대형 검정색 개  쿠팡 /\t 원래 라벨 :  80 /\t예측한 라벨 :  94\n",
      "상품명 :  아에르  대형 화이트 미세먼지 황사방역마스크매입  쿠팡 /\t 원래 라벨 :  80 /\t예측한 라벨 :  94\n",
      "상품명 :    황사마스크 개  쿠팡 /\t 원래 라벨 :  94 /\t예측한 라벨 :  80\n",
      "상품명 :  마이케어 황사 미세먼지 차단 마스크  화이트 대형  번가 /\t 원래 라벨 :  94 /\t예측한 라벨 :  80\n",
      "상품명 :  미마보건용마스크  중형흰색개  인터파크 /\t 원래 라벨 :  94 /\t예측한 라벨 :  80\n",
      "상품명 :  국내산 황사 방역 마스크  대형 개 브랜드랜덤  마켓 /\t 원래 라벨 :  80 /\t예측한 라벨 :  94\n",
      "상품명 :  당일출고 웰킵스 초소형 마스크 소형 중형 대형   마스크재고 코로나예방  해피원스토어 /\t 원래 라벨 :  80 /\t예측한 라벨 :  94\n",
      "상품명 :  라오테르 황사 미세먼지 마스크 대형 매  번가 /\t 원래 라벨 :  94 /\t예측한 라벨 :  80\n",
      "상품명 :  일양약품황사 미세먼지마스크 성인용대형  개  번가 /\t 원래 라벨 :  80 /\t예측한 라벨 :  94\n",
      "상품명 :  프리미엄 황사마스크  개입 대형무료배송  롯데 /\t 원래 라벨 :  94 /\t예측한 라벨 :  80\n",
      "상품명 :  숨쉬기 편한  마스크 매 미세먼지 황사 방역 코로나 개별포장 대형 재고확보  아이약사 /\t 원래 라벨 :  80 /\t예측한 라벨 :  94\n",
      "상품명 :  보령제약 황사 방역마스크   스타일주 /\t 원래 라벨 :  99 /\t예측한 라벨 :  80\n",
      "상품명 :  국제약품 메디  마스크 대형  베네팡 /\t 원래 라벨 :  94 /\t예측한 라벨 :  80\n",
      "상품명 :  국산 대형  마스크 황사마스크 미세먼지 일회용마스크  매  번가 /\t 원래 라벨 :  94 /\t예측한 라벨 :  80\n",
      "상품명 :  일회용마스크 성능회복 키트 번사용 코로나 미세먼지황사 대형  정전기필터  세젤 /\t 원래 라벨 :  94 /\t예측한 라벨 :  80\n",
      "상품명 :  크린웰  마스크 대형 화이트 방역용  쿠팡 /\t 원래 라벨 :  80 /\t예측한 라벨 :  94\n",
      "상품명 :  하이가드 황사마스크개소형 헬로키티어린이 황사마스크  누리팜 /\t 원래 라벨 :  94 /\t예측한 라벨 :  80\n",
      "상품명 :  유한킴벌리 미세먼지 방진마스크황사 마스크 크린가드 황사마스크  소형대형개  인터파크 /\t 원래 라벨 :  94 /\t예측한 라벨 :  80\n",
      "상품명 :  당일발송  황사마스크대형 개마스크  마켓 /\t 원래 라벨 :  80 /\t예측한 라벨 :  94\n",
      "상품명 :  더숨  미세먼지 황사마스크 화이트 중형  옥션 /\t 원래 라벨 :  94 /\t예측한 라벨 :  80\n",
      "상품명 :  마이케어 황사 마스크  개초 미세먼지 방역 우한 코로나   케미칼인벤 /\t 원래 라벨 :  94 /\t예측한 라벨 :  80\n",
      "상품명 :  애니가드  웰빙 황사 미세먼지 마스크 회색 대형 매  마켓 /\t 원래 라벨 :  94 /\t예측한 라벨 :  80\n",
      "상품명 :  에버그린 크린탑  황사 마스크   안전화마트 /\t 원래 라벨 :  94 /\t예측한 라벨 :  99\n",
      "상품명 :  더샵스토어 인기 프리미엄 중필터 프리텍  방역용마스크  대형 개입  위메프 /\t 원래 라벨 :  94 /\t예측한 라벨 :  80\n",
      "상품명 :   대형 매 개별포장 황사 미세먼지 마스크  번가 /\t 원래 라벨 :  94 /\t예측한 라벨 :  80\n",
      "상품명 :   미세먼지 황사 마스크 대형블랙   롯데 /\t 원래 라벨 :  94 /\t예측한 라벨 :  80\n",
      "상품명 :   방역마스크 올가드 초미세 먼지 황사  감염원 차단 소형 중형 대형  야음마켓 /\t 원래 라벨 :  94 /\t예측한 라벨 :  80\n",
      "상품명 :  식약처허가 국내산  황사마스크 대형화이트 매입  마켓 /\t 원래 라벨 :  94 /\t예측한 라벨 :  80\n",
      "상품명 :  에버그린 크린탑  황사 마스크   프랜즈 /\t 원래 라벨 :  94 /\t예측한 라벨 :  99\n",
      "상품명 :  월 일 크리넥스 미세먼지   방역용 황사마스크 대형 외  청춘푸드몰 /\t 원래 라벨 :  80 /\t예측한 라벨 :  94\n",
      "상품명 :   미마 보건용 마스크 소형   마켓 /\t 원래 라벨 :  80 /\t예측한 라벨 :  94\n",
      "상품명 :  잘풀리는집어린이마스크황사용마스크방역마스크보건용마스크아동용소형 개  번가 /\t 원래 라벨 :  94 /\t예측한 라벨 :  80\n",
      "상품명 :  애니케어 황사방역용 마스크 대형 매  번가 /\t 원래 라벨 :  94 /\t예측한 라벨 :  80\n",
      "상품명 :    이지핏 황사마스크  개 하이마트  하이마트쇼핑몰 /\t 원래 라벨 :  80 /\t예측한 라벨 :  94\n",
      "상품명 :  에어워셔 황사마스크 대형  개 생활건강 에어워셔 황사마스크  티몬 /\t 원래 라벨 :  80 /\t예측한 라벨 :  94\n",
      "상품명 :  건영  황사방역마스크흰색 개별포장개 /\t 원래 라벨 :  94 /\t예측한 라벨 :  80\n",
      "상품명 :  아텍스 숲의숨 하이가드 황사마스크 대형 블랙  쿠팡 /\t 원래 라벨 :  80 /\t예측한 라벨 :  94\n",
      "상품명 :  아동용 팬더 캐릭터 마스크  매  즐거운쇼핑 /\t 원래 라벨 :  80 /\t예측한 라벨 :  94\n",
      "상품명 :  식약처허가올가드에어 황사마스크 대형 매  의약외품  건강노블레스팜 /\t 원래 라벨 :  80 /\t예측한 라벨 :  94\n",
      "전체 상품 1320개 중 93 개 예측 틀림\n"
     ]
    }
   ],
   "source": [
    "print(\"못 맞춘 상품들 \")\n",
    "print(\"==============================================================\")\n",
    "num=0\n",
    "num_max=len(test_data)\n",
    "for i in range(len(test_data)):\n",
    "    if(original_labels[i]!=predict_labels[i]):\n",
    "        num=num+1\n",
    "        print(\"상품명 : \", test_data['goods_nm'].iloc[i], \"/\\t 원래 라벨 : \", return_kf(original_labels[i]), \"/\\t예측한 라벨 : \", return_kf(predict_labels[i]))\n",
    "print(\"전체 상품 {}개 중 {} 개 예측 틀림\".format(num_max,num))"
   ]
  },
  {
   "cell_type": "code",
   "execution_count": 81,
   "metadata": {},
   "outputs": [
    {
     "name": "stdout",
     "output_type": "stream",
     "text": [
      "Train on 1916 samples, validate on 213 samples\n",
      "Epoch 1/15\n",
      "1860/1916 [============================>.] - ETA: 0s - loss: 0.7786 - acc: 0.7016\n",
      "Epoch 00001: val_acc did not improve from 0.88263\n",
      "1916/1916 [==============================] - 6s 3ms/sample - loss: 0.7756 - acc: 0.7015 - val_loss: 0.6687 - val_acc: 0.7089\n",
      "Epoch 2/15\n",
      "1860/1916 [============================>.] - ETA: 0s - loss: 0.5998 - acc: 0.7151\n",
      "Epoch 00002: val_acc did not improve from 0.88263\n",
      "1916/1916 [==============================] - 1s 546us/sample - loss: 0.5959 - acc: 0.7171 - val_loss: 0.5105 - val_acc: 0.7465\n",
      "Epoch 3/15\n",
      "1860/1916 [============================>.] - ETA: 0s - loss: 0.4072 - acc: 0.8253\n",
      "Epoch 00003: val_acc did not improve from 0.88263\n",
      "1916/1916 [==============================] - 1s 551us/sample - loss: 0.4090 - acc: 0.8231 - val_loss: 0.4193 - val_acc: 0.8216\n",
      "Epoch 4/15\n",
      "1860/1916 [============================>.] - ETA: 0s - loss: 0.2962 - acc: 0.8898\n",
      "Epoch 00004: val_acc did not improve from 0.88263\n",
      "1916/1916 [==============================] - 1s 708us/sample - loss: 0.2945 - acc: 0.8899 - val_loss: 0.3715 - val_acc: 0.8498\n",
      "Epoch 5/15\n",
      "1860/1916 [============================>.] - ETA: 0s - loss: 0.2425 - acc: 0.9097\n",
      "Epoch 00005: val_acc did not improve from 0.88263\n",
      "1916/1916 [==============================] - 1s 546us/sample - loss: 0.2437 - acc: 0.9076 - val_loss: 0.3610 - val_acc: 0.8685\n",
      "Epoch 6/15\n",
      "1860/1916 [============================>.] - ETA: 0s - loss: 0.2062 - acc: 0.9204\n",
      "Epoch 00006: val_acc did not improve from 0.88263\n",
      "1916/1916 [==============================] - 1s 537us/sample - loss: 0.2041 - acc: 0.9212 - val_loss: 0.3690 - val_acc: 0.8779\n",
      "Epoch 7/15\n",
      "1860/1916 [============================>.] - ETA: 0s - loss: 0.1802 - acc: 0.9328\n",
      "Epoch 00007: val_acc did not improve from 0.88263\n",
      "1916/1916 [==============================] - 1s 544us/sample - loss: 0.1824 - acc: 0.9316 - val_loss: 0.3677 - val_acc: 0.8732\n",
      "Epoch 8/15\n",
      "1800/1916 [===========================>..] - ETA: 0s - loss: 0.1610 - acc: 0.9339\n",
      "Epoch 00008: val_acc did not improve from 0.88263\n",
      "1916/1916 [==============================] - 1s 683us/sample - loss: 0.1637 - acc: 0.9337 - val_loss: 0.3780 - val_acc: 0.8638\n",
      "Epoch 9/15\n",
      "1860/1916 [============================>.] - ETA: 0s - loss: 0.1541 - acc: 0.9403\n",
      "Epoch 00009: val_acc did not improve from 0.88263\n",
      "1916/1916 [==============================] - 1s 549us/sample - loss: 0.1555 - acc: 0.9405 - val_loss: 0.3934 - val_acc: 0.8779\n",
      "Epoch 00009: early stopping\n"
     ]
    }
   ],
   "source": [
    "## activation = softmax, optimizer = adam 으로 바꾸고 실행\n",
    "model2 = Sequential()\n",
    "model2.add(Embedding(vocab_size, 100))\n",
    "model2.add(LSTM(128))\n",
    "model2.add(Dense(3, activation='softmax'))\n",
    "\n",
    "model2.compile(optimizer='adam', loss='categorical_crossentropy', metrics=['acc'])\n",
    "history = model2.fit(X_train, yy_train, epochs=15, callbacks=[es, mc], batch_size=60, validation_split=0.1)"
   ]
  },
  {
   "cell_type": "code",
   "execution_count": 82,
   "metadata": {},
   "outputs": [
    {
     "name": "stdout",
     "output_type": "stream",
     "text": [
      "\r",
      "1320/1 [================================================================================================================================================================================================================================================================================================================================================================================================================================================================================================================================================================================================================================================================================================================================================================================================================================================================================================================================================================================================================================================================================================================================================================================================================================================================================================================================================================================================================================================================================================================================================================================================================================================================================================================================================================================================================================================================================================================================================================================================================================================================================================================================================================================================================================================================================================================================================================================================================================================================================================================================================================================================================================================================================================================================================================================================================================================================================================================================================================================================================================================================================================================================================================================================================================================================================================================================================================================================================================================================================================================================================================================================================================================================================================================================================================================================================================================================================================================================================================================================================================================================================================================================================================================================================================================================================================================================================================================================================================================================================================================================================================================================================================================================================================================================================================================================================================================================================================================================================================================================================================================================================================================================================================================================================================================================================================================================================================================================================================================================================================================================================================================================================================================================================================================================================================================================================================================================================================================================================================================================================================================================================================================================================================================================================================================================================================================================================================================================================================================================================================================================================================================================================================================================================================================================================================================================================================================================================================================================================================================================================================================================================================================================================================================================================================================================================================================================================================================================================================================================================================================================================================================================================================================================================================================================================================================================================================================================================================================================================================================================================================================================================================================================================================================================================================================================================================================================================================================================================================================================================================================================================================================================================================================================================================================================================================================================================================================================================================================================================================================================================================================================================================================================================================================================================================================================================================================================================================================================================================================================================================================================================================================================================================================================================================================================================================================================================================================================================================================================================================================================================================================================================================================================================================================================================================================================================================================================================================================================================================================================================================================================================================================================================================================================================================================================================================================================================================================================================================================================================================================================================================================================================================================================================================================================================================================================================================================================================================================================================================================================================================================================================================================================================================================================================================================================================================================================================================================================================================================================================================================================================================================================================================================================================================================================================================================================================================================================================================================================================================================================================================================================================================================================================================================================================================================================================================================================================================================================================================================================================================================================================================================================================================================================================================================================================================================================================================================================================================================================================================================================================================================================================================================================================================================================================================================================================================================================================================================================================================================================================================================================================================================================================================================================================================================================================================================================================================================================================================================================================================================================================================================================================================================================================================================================================================================================================================================================================================================================================================================================================================================================================================================================================================================================================================================================================================================================================================================================================================================================================================================================================================================================================================================================================================================================================================================================================================================================================================================================================================================================================================================================================================================================================================================================================================================================================================================================================================================================================================================================================================================================================================================================================================================================================================================================================================================================================================================================================================================================================================================================================================================================================================================================================================================================================================================================================================================================================================================================================================================================================================================================================================================================================================================================================================================================================================================================================================================================================================================================================================================================================================================================================================================================================================================================================================================================================================================================================================================================================================================================================================================================================================================================================================================================================================================================================================================================================================================================================================================================================================================================================================================================================================================================================================================================================================================================================================================================================================================================================================================================================================================================================================================================================================================================================================================================================================================================================================================================================================================================================================================================================================================================================================================================================================================================================================================================================================================================================================================================================================================================================================================================================================================================================================================================================================================================================================================================================================================================================================================================================================================================================================================================================================================================================================================================================================================================================================================================================================================================================================================================================================================================================================================================================================================================================================================================================================================================================================================================================================================================================================================================================================================================================================================================================================================================================================================================================================================================================================================================================================================================================================================================================================================================================================================================================================================================================================================================================================================================================================================================================================================================================================================================================================================================================================================================================================================================================================================================================================================================================================================================================================================================================================================================================================================================================================================================================================================================================================================================================================================================================================================================================================================================================================================================================================================================================================================================================================================================================================================================================================================================================================================================================================================================================================================================================================================================================================================================================================================================================================================================================================================================================================================================================================================================================================================================================================================================================================================================================================================================================================================================================================================================================================================================================================================================================================================================================================================================================================================================================================================================================================================================================================================================================================================================================================================================================================================================================================================================================================================================================================================================================================================================================================================================================================================================================================================================================================================================================================================================================================================================================================================================================================================================================================================================================================================================================================================================================================================================================================================================================================================================================================================================================================================================================================================================================================================================================================================================================================================================================================================================================================================================================================================================================================================================================================================================================================================================================================================================================================================================================================================================================================================================================================================================================================================================================================================================================================================================================================================================================================================================================================================================================================================================================================================================================================================================================================================================================================================================================================================================================================================================================================================================================================================================================================================================================================================================================================================================================================================================================================================================================================================================================================================================================================================================================================================================================================================================================================================================================================================================================================================================================================================================================================================================================================================================================================================================================================================================================================================================================================================================================================================================================================================================================================================================================================================================================================================================================================================================================================================================================================================================================================================================================================================================================================================================================================================================================================================================================================================================================================================================================================================================================================================================================================================================================================================================================================================================================================================================================================================================================================================================================================================================================================================================================================================================================================================================================================================================================================================================================================================================================================================================================================================================================================================================================================================================================================================================================================================================================================================================================================================================================================================================================================================================================================================================================================================================================================================================================================================================================================================================================================================================================================================================================================================================================================================================================================================================================================================================================================================================================================================================================================================================================================================================================================================================================================================================================================================================================================================================================================================================================================================================================================================================================================================================================================================================================================================================================================================================================================================================================================================================================================================================================================================================================================================================================================================================================================================================================================================================================================================================================================================================================================================================================================================================================================================================================================================================================================================================================================================================================================================================================================================================================================================================================================================================================================================================================================================================================================================================================================================================================================================================================================================================================================================================================================================================================================================================================================================================================================================================================================================================================================================================================================================================================================================================================================================================================================================================================================================================================================================================================================================================================================================================================================================================================================================================================================================================================================================================================================================================================================================================================================================================================================================================================================================================================================================================================================================================================================================================================================================================================================================================================================================================================================================================================================================================================================================================================================================================================================================================================================================================================================================================================================================================================================================================================================================================================================================================================================================================================================================================================================================================================================================================================================================================================================================================================================================================================================================================================================================================================================================================================================================================================================================================================================================================================================================================================================================================================================================================================================================================================================================================================================================================================================================================================================================================================================================================================================================] - 0s 197us/sample - loss: 0.1112 - acc: 0.9371\n"
     ]
    },
    {
     "name": "stdout",
     "output_type": "stream",
     "text": [
      "\n",
      " 테스트 정확도 : 93.71%\n"
     ]
    }
   ],
   "source": [
    "print(\"\\n 테스트 정확도 : {:.2f}%\".format(model2.evaluate(X_test,yy_test)[1]*100))"
   ]
  },
  {
   "cell_type": "code",
   "execution_count": 83,
   "metadata": {},
   "outputs": [
    {
     "name": "stdout",
     "output_type": "stream",
     "text": [
      "못 맞춘 상품들 \n",
      "==============================================================\n",
      "상품명 :   황사마스크  개 /\t 원래 라벨 :  80 /\t예측한 라벨 :  94\n",
      "상품명 :  엠플러스 국산 미세먼지 황사마스크  화이트 개  옥션 /\t 원래 라벨 :  94 /\t예측한 라벨 :  80\n",
      "상품명 :  늘푸른 마스크 대형 화이트 일회용 개별 포장 개  파이닉스 공조냉동 /\t 원래 라벨 :  94 /\t예측한 라벨 :  80\n",
      "상품명 :  웰킵스 마스크  화이트 대형  쿠팡 /\t 원래 라벨 :  94 /\t예측한 라벨 :  80\n",
      "상품명 :  라오테르  미세먼지 황사 방역 마스크  와이앤샵 /\t 원래 라벨 :  94 /\t예측한 라벨 :  80\n",
      "상품명 :  엠플러스 국산 미세먼지 황사마스크  화이트 개  마켓 /\t 원래 라벨 :  94 /\t예측한 라벨 :  80\n",
      "상품명 :  국산  대형 마스크  우한코로나  마켓 /\t 원래 라벨 :  80 /\t예측한 라벨 :  94\n",
      "상품명 :  숨쉬고 편안한숨 마스크  방역 미세먼지 개  아늑홈 /\t 원래 라벨 :  80 /\t예측한 라벨 :  94\n",
      "상품명 :   미세먼지 황사 마스크 대형네이비   롯데 /\t 원래 라벨 :  94 /\t예측한 라벨 :  80\n",
      "상품명 :  도부라이프텍 도부 초미세먼지 황사 방역마스크   방역황사마스크 전문점 /\t 원래 라벨 :  94 /\t예측한 라벨 :  80\n",
      "상품명 :   크린웰 황사마스크 개  이보소 /\t 원래 라벨 :  94 /\t예측한 라벨 :  80\n",
      "상품명 :  초 미세먼지 마스크  하이가드    식약처인증 일동제약 푸른숲 황사마스크 동아제약 더스논 파이브와이 우한 폐렴 바이러스 예방  세상의모든안전화 /\t 원래 라벨 :  80 /\t예측한 라벨 :  94\n",
      "상품명 :  한국내제조   소형 대형 벌크 화이트 그레이  도그몰 /\t 원래 라벨 :  80 /\t예측한 라벨 :  94\n",
      "상품명 :  국산마스크 대형개별포장  엄지점빵 /\t 원래 라벨 :  80 /\t예측한 라벨 :  94\n",
      "상품명 :  마스크 소형 소형마스크 일회용마스크 화이트 개별밀봉포장 개   위메프 /\t 원래 라벨 :  94 /\t예측한 라벨 :  80\n",
      "상품명 :  국산 개별포장  황사 마스크 일회용 매 대형   /\t 원래 라벨 :  94 /\t예측한 라벨 :  80\n",
      "상품명 :   이지핏 황사 미세먼지 마스크    띠앗앗 /\t 원래 라벨 :  94 /\t예측한 라벨 :  80\n",
      "상품명 :  올가드  마스크 우한 페렴 코로나 대형  행복회로샵 /\t 원래 라벨 :  94 /\t예측한 라벨 :  80\n",
      "상품명 :   미세먼지 마스크 대형 매입 황사 일회용마스크  마켓 /\t 원래 라벨 :  94 /\t예측한 라벨 :  80\n",
      "상품명 :  보건용 마스크  매 대형  마켓 /\t 원래 라벨 :  80 /\t예측한 라벨 :  94\n",
      "상품명 :  도부마스크 당일출고  도부마스크 대형  보건용 황사  마켓 /\t 원래 라벨 :  94 /\t예측한 라벨 :  80\n",
      "상품명 :  마스크 흰색 대형 제로베이  황사마스크  티몬 /\t 원래 라벨 :  94 /\t예측한 라벨 :  80\n",
      "상품명 :  국산  황사 미세먼지 마스크 대형 개별포장 매  번가 /\t 원래 라벨 :  94 /\t예측한 라벨 :  80\n",
      "상품명 :  재입고 힉스윌로우리프 황사미세먼지 마스크  어드바이스몰 /\t 원래 라벨 :  80 /\t예측한 라벨 :  94\n",
      "상품명 :   미세먼지 방역 마스크 대형 매개별포장  마켓 /\t 원래 라벨 :  80 /\t예측한 라벨 :  94\n",
      "상품명 :  국제약품 메디 황사마스크 대형  매입  개  번가 /\t 원래 라벨 :  80 /\t예측한 라벨 :  94\n",
      "상품명 :  테라브레스 뽀로로   다다모아샵 /\t 원래 라벨 :  80 /\t예측한 라벨 :  94\n",
      "상품명 :  스마트 황사마스크  대형 개입  롯데 /\t 원래 라벨 :  80 /\t예측한 라벨 :  94\n",
      "상품명 :  웰킵스 웰킵스 대형  마스크 미세먼지차단 개별포장 중필터 일회용마스크  위메프 /\t 원래 라벨 :  94 /\t예측한 라벨 :  80\n",
      "상품명 :  스마일 황사 미세먼지 마스크   개 블랙블랙화이트  롯데 /\t 원래 라벨 :  80 /\t예측한 라벨 :  94\n",
      "상품명 :  올가드 황사 마스크 어린이 소형  개 식약처허가  옥션 /\t 원래 라벨 :  94 /\t예측한 라벨 :  80\n",
      "상품명 :   숨쉬기 편한 황사 방역마스크 개  쿠팡 /\t 원래 라벨 :  94 /\t예측한 라벨 :  80\n",
      "상품명 :  국내산 황사 방역 마스크  대형 개 브랜드랜덤  옥션 /\t 원래 라벨 :  80 /\t예측한 라벨 :  94\n",
      "상품명 :  국산  대형 황사방역마스크 개  보건몰닷컴 /\t 원래 라벨 :  80 /\t예측한 라벨 :  94\n",
      "상품명 :  마스크 대형 일회용 미세먼지 마스크 매  마켓 /\t 원래 라벨 :  80 /\t예측한 라벨 :  94\n",
      "상품명 :   대형 매입 국제약품 메디마스크화이트 매  푸름웰니스 /\t 원래 라벨 :  94 /\t예측한 라벨 :  80\n",
      "상품명 :  황사 메디마스크  대형 매 매입개  롯데 /\t 원래 라벨 :  80 /\t예측한 라벨 :  94\n",
      "상품명 :  국내제작 안전하고 견고한  마스크 대형 매입  블랙야크 스토어 /\t 원래 라벨 :  94 /\t예측한 라벨 :  80\n",
      "상품명 :  에버그린 다봉산업 마이케어 끈조절 미세먼지 마스크  대형  삼천리팩토리 /\t 원래 라벨 :  80 /\t예측한 라벨 :  94\n",
      "상품명 :  매입 웰킵스  황사마스크 대형 매입  티몬 /\t 원래 라벨 :  94 /\t예측한 라벨 :  80\n",
      "상품명 :   황사 마스크 일회용마스크 매 대형   /\t 원래 라벨 :  94 /\t예측한 라벨 :  80\n",
      "상품명 :  국산  대형 마스크  우한코로나 빠른배송지향  옥션 /\t 원래 라벨 :  80 /\t예측한 라벨 :  94\n",
      "상품명 :  라오테르 황사 미세먼지 마스크 대형 매  쿠팡 /\t 원래 라벨 :  94 /\t예측한 라벨 :  80\n",
      "상품명 :  마스크 대형 일회용 미세먼지 마스크 국내정품  파파몽 /\t 원래 라벨 :  94 /\t예측한 라벨 :  80\n",
      "상품명 :  국산  황사 마스크 개 당일발송가능  마켓 /\t 원래 라벨 :  80 /\t예측한 라벨 :  94\n",
      "상품명 :  몰든 브랜드 랜덤  마스크 매 대형  쿠팡 /\t 원래 라벨 :  94 /\t예측한 라벨 :  80\n",
      "상품명 :   황사 미세먼지 마스크 대형 소형 아동 일회용  마켓 /\t 원래 라벨 :  94 /\t예측한 라벨 :  80\n",
      "상품명 :  아미 코엔보 웰빙 황사 미세먼지 마스크    웰빙다모아 /\t 원래 라벨 :  80 /\t예측한 라벨 :  94\n",
      "상품명 :  황사방역마스크  대형 소형  마켓 /\t 원래 라벨 :  80 /\t예측한 라벨 :  94\n",
      "상품명 :  당일출고  대형 마스크 매 황사방역 마스크  마켓 /\t 원래 라벨 :  80 /\t예측한 라벨 :  94\n",
      "상품명 :  기타 하이가드 방역마스크 황사마스크  대형 검정색 개  쿠팡 /\t 원래 라벨 :  80 /\t예측한 라벨 :  94\n",
      "상품명 :  아에르  대형 화이트 미세먼지 황사방역마스크매입  쿠팡 /\t 원래 라벨 :  80 /\t예측한 라벨 :  94\n",
      "상품명 :    황사마스크 개  쿠팡 /\t 원래 라벨 :  94 /\t예측한 라벨 :  80\n",
      "상품명 :  더샵스토어 인기 리빙용품 아이비스 크린웰  마스크대형  위메프 /\t 원래 라벨 :  80 /\t예측한 라벨 :  94\n",
      "상품명 :  마이케어 황사 미세먼지 차단 마스크  화이트 대형  번가 /\t 원래 라벨 :  94 /\t예측한 라벨 :  80\n",
      "상품명 :  미마보건용마스크  중형흰색개  인터파크 /\t 원래 라벨 :  94 /\t예측한 라벨 :  80\n",
      "상품명 :  피앤티디 팜파스 미세먼지 황사 마스크  대형 /\t 원래 라벨 :  94 /\t예측한 라벨 :  80\n",
      "상품명 :  국내산 황사 방역 마스크  대형 개 브랜드랜덤  마켓 /\t 원래 라벨 :  80 /\t예측한 라벨 :  94\n",
      "상품명 :  라오테르 황사 미세먼지 마스크 대형 매  번가 /\t 원래 라벨 :  94 /\t예측한 라벨 :  80\n",
      "상품명 :  일양약품황사 미세먼지마스크 성인용대형  개  번가 /\t 원래 라벨 :  80 /\t예측한 라벨 :  94\n",
      "상품명 :  국내산 황사 방역 마스크  대형 개 브랜드랜덤  쿠팡 /\t 원래 라벨 :  80 /\t예측한 라벨 :  94\n",
      "상품명 :  국제약품 메디  마스크 대형  베네팡 /\t 원래 라벨 :  94 /\t예측한 라벨 :  80\n",
      "상품명 :  국산 대형  마스크 황사마스크 미세먼지 일회용마스크  매  번가 /\t 원래 라벨 :  94 /\t예측한 라벨 :  80\n",
      "상품명 :  일회용마스크 성능회복 키트 번사용 코로나 미세먼지황사 대형  정전기필터  세젤 /\t 원래 라벨 :  94 /\t예측한 라벨 :  80\n",
      "상품명 :  크린웰  마스크 대형 화이트 방역용  쿠팡 /\t 원래 라벨 :  80 /\t예측한 라벨 :  94\n",
      "상품명 :  하이가드 황사마스크개소형 헬로키티어린이 황사마스크  누리팜 /\t 원래 라벨 :  94 /\t예측한 라벨 :  80\n",
      "상품명 :  유한킴벌리 미세먼지 방진마스크황사 마스크 크린가드 황사마스크  소형대형개  인터파크 /\t 원래 라벨 :  94 /\t예측한 라벨 :  80\n",
      "상품명 :  당일발송  황사마스크대형 개마스크  마켓 /\t 원래 라벨 :  80 /\t예측한 라벨 :  94\n",
      "상품명 :  더숨  미세먼지 황사마스크 화이트 중형  옥션 /\t 원래 라벨 :  94 /\t예측한 라벨 :  80\n",
      "상품명 :  마이케어 황사 마스크  개초 미세먼지 방역 우한 코로나   케미칼인벤 /\t 원래 라벨 :  94 /\t예측한 라벨 :  80\n",
      "상품명 :  애니가드  웰빙 황사 미세먼지 마스크 회색 대형 매  마켓 /\t 원래 라벨 :  94 /\t예측한 라벨 :  80\n",
      "상품명 :   대형 매 개별포장 황사 미세먼지 마스크  번가 /\t 원래 라벨 :  94 /\t예측한 라벨 :  80\n",
      "상품명 :   미세먼지 황사 마스크 대형블랙   롯데 /\t 원래 라벨 :  94 /\t예측한 라벨 :  80\n",
      "상품명 :   방역마스크 올가드 초미세 먼지 황사  감염원 차단 소형 중형 대형  야음마켓 /\t 원래 라벨 :  94 /\t예측한 라벨 :  80\n",
      "상품명 :  식약처허가 국내산  황사마스크 대형화이트 매입  마켓 /\t 원래 라벨 :  94 /\t예측한 라벨 :  80\n",
      "상품명 :   마스크 중형 대형 화이트 블랙 매 성인용  마켓 /\t 원래 라벨 :  94 /\t예측한 라벨 :  80\n",
      "상품명 :  에버그린 크린탑  황사 마스크   프랜즈 /\t 원래 라벨 :  94 /\t예측한 라벨 :  99\n",
      "상품명 :  월 일 크리넥스 미세먼지   방역용 황사마스크 대형 외  청춘푸드몰 /\t 원래 라벨 :  80 /\t예측한 라벨 :  94\n",
      "상품명 :  잘풀리는집어린이마스크황사용마스크방역마스크보건용마스크아동용소형 개  번가 /\t 원래 라벨 :  94 /\t예측한 라벨 :  80\n",
      "상품명 :    이지핏 황사마스크  개 하이마트  하이마트쇼핑몰 /\t 원래 라벨 :  80 /\t예측한 라벨 :  94\n",
      "상품명 :  건영  황사방역마스크흰색 개별포장개 /\t 원래 라벨 :  94 /\t예측한 라벨 :  80\n",
      "상품명 :  아텍스 숲의숨 하이가드 황사마스크 대형 블랙  쿠팡 /\t 원래 라벨 :  80 /\t예측한 라벨 :  94\n",
      "상품명 :  아동용 팬더 캐릭터 마스크  매  즐거운쇼핑 /\t 원래 라벨 :  80 /\t예측한 라벨 :  94\n",
      "전체 상품 1320개 중 83 개 예측 틀림\n"
     ]
    }
   ],
   "source": [
    "predict2 = model2.predict(X_test)\n",
    "predict_labels = np.argmax(predict2, axis=1) \n",
    "original_labels = np.argmax(yy_test, axis=1)\n",
    "print(\"못 맞춘 상품들 \")\n",
    "print(\"==============================================================\")\n",
    "num=0\n",
    "num_max=len(test_data)\n",
    "for i in range(len(test_data)):\n",
    "    if(original_labels[i]!=predict_labels[i]):\n",
    "        num=num+1\n",
    "        print(\"상품명 : \", test_data['goods_nm'].iloc[i], \"/\\t 원래 라벨 : \", return_kf(original_labels[i]), \"/\\t예측한 라벨 : \", return_kf(predict_labels[i]))\n",
    "print(\"전체 상품 {}개 중 {} 개 예측 틀림\".format(num_max,num))"
   ]
  },
  {
   "cell_type": "code",
   "execution_count": 105,
   "metadata": {},
   "outputs": [
    {
     "data": {
      "text/plain": [
       "{0: 398, 1: 905, 2: 17}"
      ]
     },
     "execution_count": 105,
     "metadata": {},
     "output_type": "execute_result"
    }
   ],
   "source": [
    "unique, counts = np.unique(predict_labels, return_counts=True)\n",
    "dict(zip(unique, counts))"
   ]
  }
 ],
 "metadata": {
  "kernelspec": {
   "display_name": "Python 3",
   "language": "python",
   "name": "python3"
  },
  "language_info": {
   "codemirror_mode": {
    "name": "ipython",
    "version": 3
   },
   "file_extension": ".py",
   "mimetype": "text/x-python",
   "name": "python",
   "nbconvert_exporter": "python",
   "pygments_lexer": "ipython3",
   "version": "3.5.2"
  }
 },
 "nbformat": 4,
 "nbformat_minor": 4
}
