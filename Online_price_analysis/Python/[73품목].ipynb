{
 "cells": [
  {
   "cell_type": "code",
   "execution_count": 20,
   "metadata": {},
   "outputs": [],
   "source": [
    "import pandas as pd\n",
    "from tqdm import tnrange"
   ]
  },
  {
   "cell_type": "code",
   "execution_count": 21,
   "metadata": {},
   "outputs": [],
   "source": [
    "df = pd.read_csv('C:/Users/user/Desktop/73품목별 자료추출/0. 73품목별 자료추출 2000개 완료.csv',encoding='CP949')"
   ]
  },
  {
   "cell_type": "code",
   "execution_count": 22,
   "metadata": {},
   "outputs": [],
   "source": [
    "df2 = df[df['a_prices_prdlst_nm'] == '콩']"
   ]
  },
  {
   "cell_type": "code",
   "execution_count": 23,
   "metadata": {},
   "outputs": [],
   "source": [
    "from konlpy.tag import Hannanum,Kkma,Komoran,Okt\n",
    "hannanum = Hannanum()\n",
    "kkma = Kkma()\n",
    "komoran = Komoran(userdic='/tmp/dic.txt')\n",
    "okt = Okt()"
   ]
  },
  {
   "cell_type": "code",
   "execution_count": 24,
   "metadata": {},
   "outputs": [
    {
     "data": {
      "application/vnd.jupyter.widget-view+json": {
       "model_id": "c113f2ccd27a4edb9d503f84b6d891a8",
       "version_major": 2,
       "version_minor": 0
      },
      "text/plain": [
       "HBox(children=(IntProgress(value=0, max=2000), HTML(value='')))"
      ]
     },
     "metadata": {},
     "output_type": "display_data"
    },
    {
     "name": "stdout",
     "output_type": "stream",
     "text": [
      "\n"
     ]
    }
   ],
   "source": [
    "A = list(df2['goods_nm'])\n",
    "B = []\n",
    "for i in tnrange(len(A)):\n",
    "    B.append(komoran.nouns(A[i]))"
   ]
  },
  {
   "cell_type": "code",
   "execution_count": 25,
   "metadata": {},
   "outputs": [],
   "source": [
    "import pandas as pd\n",
    "from mlxtend.preprocessing import TransactionEncoder\n",
    "from mlxtend.frequent_patterns import apriori, association_rules"
   ]
  },
  {
   "cell_type": "code",
   "execution_count": 26,
   "metadata": {},
   "outputs": [],
   "source": [
    "te = TransactionEncoder()\n",
    "te_ary = te.fit(B).transform(B)\n",
    "df = pd.DataFrame(te_ary, columns=te.columns_)\n",
    "frequent_itemsets = apriori(df, min_support=0.1, use_colnames=True)"
   ]
  },
  {
   "cell_type": "code",
   "execution_count": 27,
   "metadata": {},
   "outputs": [
    {
     "data": {
      "text/html": [
       "<div>\n",
       "<style scoped>\n",
       "    .dataframe tbody tr th:only-of-type {\n",
       "        vertical-align: middle;\n",
       "    }\n",
       "\n",
       "    .dataframe tbody tr th {\n",
       "        vertical-align: top;\n",
       "    }\n",
       "\n",
       "    .dataframe thead th {\n",
       "        text-align: right;\n",
       "    }\n",
       "</style>\n",
       "<table border=\"1\" class=\"dataframe\">\n",
       "  <thead>\n",
       "    <tr style=\"text-align: right;\">\n",
       "      <th></th>\n",
       "      <th>support</th>\n",
       "      <th>itemsets</th>\n",
       "    </tr>\n",
       "  </thead>\n",
       "  <tbody>\n",
       "    <tr>\n",
       "      <th>0</th>\n",
       "      <td>0.1295</td>\n",
       "      <td>(국내)</td>\n",
       "    </tr>\n",
       "    <tr>\n",
       "      <th>1</th>\n",
       "      <td>0.1455</td>\n",
       "      <td>(국산)</td>\n",
       "    </tr>\n",
       "    <tr>\n",
       "      <th>2</th>\n",
       "      <td>0.1030</td>\n",
       "      <td>(메주)</td>\n",
       "    </tr>\n",
       "    <tr>\n",
       "      <th>3</th>\n",
       "      <td>0.1475</td>\n",
       "      <td>(백태)</td>\n",
       "    </tr>\n",
       "    <tr>\n",
       "      <th>4</th>\n",
       "      <td>0.1210</td>\n",
       "      <td>(산)</td>\n",
       "    </tr>\n",
       "    <tr>\n",
       "      <th>5</th>\n",
       "      <td>0.2335</td>\n",
       "      <td>(서리)</td>\n",
       "    </tr>\n",
       "    <tr>\n",
       "      <th>6</th>\n",
       "      <td>0.1100</td>\n",
       "      <td>(잡곡)</td>\n",
       "    </tr>\n",
       "    <tr>\n",
       "      <th>7</th>\n",
       "      <td>0.3970</td>\n",
       "      <td>(콩)</td>\n",
       "    </tr>\n",
       "    <tr>\n",
       "      <th>8</th>\n",
       "      <td>0.2565</td>\n",
       "      <td>(태)</td>\n",
       "    </tr>\n",
       "    <tr>\n",
       "      <th>9</th>\n",
       "      <td>0.2325</td>\n",
       "      <td>(태, 서리)</td>\n",
       "    </tr>\n",
       "    <tr>\n",
       "      <th>10</th>\n",
       "      <td>0.1095</td>\n",
       "      <td>(태, 콩)</td>\n",
       "    </tr>\n",
       "  </tbody>\n",
       "</table>\n",
       "</div>"
      ],
      "text/plain": [
       "    support itemsets\n",
       "0    0.1295     (국내)\n",
       "1    0.1455     (국산)\n",
       "2    0.1030     (메주)\n",
       "3    0.1475     (백태)\n",
       "4    0.1210      (산)\n",
       "5    0.2335     (서리)\n",
       "6    0.1100     (잡곡)\n",
       "7    0.3970      (콩)\n",
       "8    0.2565      (태)\n",
       "9    0.2325  (태, 서리)\n",
       "10   0.1095   (태, 콩)"
      ]
     },
     "execution_count": 27,
     "metadata": {},
     "output_type": "execute_result"
    }
   ],
   "source": [
    "frequent_itemsets"
   ]
  },
  {
   "cell_type": "code",
   "execution_count": 28,
   "metadata": {},
   "outputs": [
    {
     "data": {
      "text/html": [
       "<div>\n",
       "<style scoped>\n",
       "    .dataframe tbody tr th:only-of-type {\n",
       "        vertical-align: middle;\n",
       "    }\n",
       "\n",
       "    .dataframe tbody tr th {\n",
       "        vertical-align: top;\n",
       "    }\n",
       "\n",
       "    .dataframe thead th {\n",
       "        text-align: right;\n",
       "    }\n",
       "</style>\n",
       "<table border=\"1\" class=\"dataframe\">\n",
       "  <thead>\n",
       "    <tr style=\"text-align: right;\">\n",
       "      <th></th>\n",
       "      <th>antecedents</th>\n",
       "      <th>consequents</th>\n",
       "      <th>antecedent support</th>\n",
       "      <th>consequent support</th>\n",
       "      <th>support</th>\n",
       "      <th>confidence</th>\n",
       "      <th>lift</th>\n",
       "      <th>leverage</th>\n",
       "      <th>conviction</th>\n",
       "    </tr>\n",
       "  </thead>\n",
       "  <tbody>\n",
       "    <tr>\n",
       "      <th>0</th>\n",
       "      <td>(태)</td>\n",
       "      <td>(서리)</td>\n",
       "      <td>0.2565</td>\n",
       "      <td>0.2335</td>\n",
       "      <td>0.2325</td>\n",
       "      <td>0.906433</td>\n",
       "      <td>3.881939</td>\n",
       "      <td>0.172607</td>\n",
       "      <td>8.191969</td>\n",
       "    </tr>\n",
       "    <tr>\n",
       "      <th>1</th>\n",
       "      <td>(서리)</td>\n",
       "      <td>(태)</td>\n",
       "      <td>0.2335</td>\n",
       "      <td>0.2565</td>\n",
       "      <td>0.2325</td>\n",
       "      <td>0.995717</td>\n",
       "      <td>3.881939</td>\n",
       "      <td>0.172607</td>\n",
       "      <td>173.607250</td>\n",
       "    </tr>\n",
       "    <tr>\n",
       "      <th>2</th>\n",
       "      <td>(태)</td>\n",
       "      <td>(콩)</td>\n",
       "      <td>0.2565</td>\n",
       "      <td>0.3970</td>\n",
       "      <td>0.1095</td>\n",
       "      <td>0.426901</td>\n",
       "      <td>1.075316</td>\n",
       "      <td>0.007669</td>\n",
       "      <td>1.052173</td>\n",
       "    </tr>\n",
       "    <tr>\n",
       "      <th>3</th>\n",
       "      <td>(콩)</td>\n",
       "      <td>(태)</td>\n",
       "      <td>0.3970</td>\n",
       "      <td>0.2565</td>\n",
       "      <td>0.1095</td>\n",
       "      <td>0.275819</td>\n",
       "      <td>1.075316</td>\n",
       "      <td>0.007669</td>\n",
       "      <td>1.026677</td>\n",
       "    </tr>\n",
       "  </tbody>\n",
       "</table>\n",
       "</div>"
      ],
      "text/plain": [
       "  antecedents consequents  antecedent support  consequent support  support  \\\n",
       "0         (태)        (서리)              0.2565              0.2335   0.2325   \n",
       "1        (서리)         (태)              0.2335              0.2565   0.2325   \n",
       "2         (태)         (콩)              0.2565              0.3970   0.1095   \n",
       "3         (콩)         (태)              0.3970              0.2565   0.1095   \n",
       "\n",
       "   confidence      lift  leverage  conviction  \n",
       "0    0.906433  3.881939  0.172607    8.191969  \n",
       "1    0.995717  3.881939  0.172607  173.607250  \n",
       "2    0.426901  1.075316  0.007669    1.052173  \n",
       "3    0.275819  1.075316  0.007669    1.026677  "
      ]
     },
     "execution_count": 28,
     "metadata": {},
     "output_type": "execute_result"
    }
   ],
   "source": [
    "association_rules(frequent_itemsets, metric=\"lift\", min_threshold=1)"
   ]
  }
 ],
 "metadata": {
  "kernelspec": {
   "display_name": "Python 3",
   "language": "python",
   "name": "python3"
  },
  "language_info": {
   "codemirror_mode": {
    "name": "ipython",
    "version": 3
   },
   "file_extension": ".py",
   "mimetype": "text/x-python",
   "name": "python",
   "nbconvert_exporter": "python",
   "pygments_lexer": "ipython3",
   "version": "3.7.4"
  }
 },
 "nbformat": 4,
 "nbformat_minor": 2
}
