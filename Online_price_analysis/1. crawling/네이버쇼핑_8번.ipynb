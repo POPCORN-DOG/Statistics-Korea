{
 "cells": [
  {
   "cell_type": "code",
   "execution_count": 2,
   "metadata": {},
   "outputs": [
    {
     "name": "stdout",
     "output_type": "stream",
     "text": [
      "0\n",
      "0\n"
     ]
    },
    {
     "data": {
      "text/plain": [
       "['basicList_item__2XT81', 'ad']"
      ]
     },
     "execution_count": 2,
     "metadata": {},
     "output_type": "execute_result"
    }
   ],
   "source": [
    "from urllib.request import urlopen\n",
    "from bs4 import BeautifulSoup\n",
    "\n",
    "html = urlopen(\"https://search.shopping.naver.com/search/all.nhn?origQuery=KF94%20%EB%A7%88%EC%8A%A4%ED%81%AC%201%EA%B0%9C%20-%EC%86%90%EC%86%8C%EB%8F%85%EC%A0%9C%20-%EC%B2%AD%EC%A0%95%EA%B8%B0%20-%EA%B0%80%EA%B7%B8%EB%A6%B0%20-%EC%86%90%EC%84%B8%EC%A0%95%20-%EB%B0%95%EC%8A%A4%20-%EC%B2%AD%EC%86%8C%ED%8F%AC%20-%EC%88%8D%20-%EB%A5%B4%EB%84%A4%EC%85%80%20-%EB%A1%9C%EC%85%98%20-%ED%99%94%EC%9E%A5%ED%92%88%20-10%EC%9E%A5%20-10%EB%A7%A4%20-5%EA%B0%9C%20-5%EB%A7%A4%20-3%EB%A7%A4&pagingIndex=1&pagingSize=80&viewType=list&sort=rel&frm=NVSHATC&query=KF94%20%EB%A7%88%EC%8A%A4%ED%81%AC%201%EA%B0%9C&xq=%EC%86%90%EC%86%8C%EB%8F%85%EC%A0%9C%20%EC%B2%AD%EC%A0%95%EA%B8%B0%20%EA%B0%80%EA%B7%B8%EB%A6%B0%20%EC%86%90%EC%84%B8%EC%A0%95%20%EB%B0%95%EC%8A%A4%20%EC%B2%AD%EC%86%8C%ED%8F%AC%20%EC%88%8D%20%EB%A5%B4%EB%84%A4%EC%85%80%20%EB%A1%9C%EC%85%98%20%ED%99%94%EC%9E%A5%ED%92%88%2010%EC%9E%A5%2010%EB%A7%A4%205%EA%B0%9C%205%EB%A7%A4%203%EB%A7%A4\") \n",
    "\n",
    "soup = BeautifulSoup(html, \"html.parser\")\n",
    "\n",
    "item_view = soup.find('ul', class_='list_basis')\n",
    "i_l = item_view.find('li')\n",
    "item_list = item_view.find_all('div', '_itemSection')\n",
    "item_list2 = item_view.find_all('li', '_model_list')\n",
    "\n",
    "print(len(item_list))\n",
    "print(len(item_list2))\n",
    "\n",
    "item_view.li['class']"
   ]
  },
  {
   "cell_type": "code",
   "execution_count": 85,
   "metadata": {},
   "outputs": [
    {
     "data": {
      "text/plain": [
       "['basicList_item__2XT81', 'ad']"
      ]
     },
     "execution_count": 85,
     "metadata": {},
     "output_type": "execute_result"
    }
   ],
   "source": [
    "item_view = soup.find('ul', class_='list_basis')\n",
    "item_list = item_view.find_all('li', 'basicList_item__2XT81')\n",
    "item_view.li['class']\n",
    "\n",
    "item_item"
   ]
  },
  {
   "cell_type": "code",
   "execution_count": 1,
   "metadata": {},
   "outputs": [
    {
     "ename": "SyntaxError",
     "evalue": "invalid syntax (<ipython-input-1-6ada21098d36>, line 11)",
     "output_type": "error",
     "traceback": [
      "\u001b[1;36m  File \u001b[1;32m\"<ipython-input-1-6ada21098d36>\"\u001b[1;36m, line \u001b[1;32m11\u001b[0m\n\u001b[1;33m    info_list = soup.select('._3ldP-RMmbZ'[ ])\u001b[0m\n\u001b[1;37m                                            ^\u001b[0m\n\u001b[1;31mSyntaxError\u001b[0m\u001b[1;31m:\u001b[0m invalid syntax\n"
     ]
    }
   ],
   "source": [
    "import requests                     # -> 웹 페이지 요청 모듈\n",
    "import urllib                       # -> URLEncoding을 위한 모듈\n",
    "from urllib.request import urlopen\n",
    "from bs4 import BeautifulSoup       # -> 웹 페이지 소스코드 분석 모듈\n",
    "from pandas import DataFrame        # -> 데이터 프레임\n",
    "\n",
    "html = urlopen(\"https://msearch.shopping.naver.com/search/all?query=%EB%A7%88%EC%8A%A4%ED%81%AC\") \n",
    "\n",
    "soup = BeautifulSoup(html, \"html.parser\")\n",
    "\n",
    "info_list = soup.select('._3ldP-RMmbZ'[ ])\n",
    "print(\"수집된 상품 수: %d\" % (len(info_list)))"
   ]
  },
  {
   "cell_type": "code",
   "execution_count": 57,
   "metadata": {},
   "outputs": [
    {
     "data": {
      "text/plain": [
       "[{'제품명': 'KF94 황사/미세먼지 마스크 5매 파인텍 대형 성인용 끈조절 마스크', '가격': '11900원'},\n",
       " {'제품명': '파인텍 뉴네퓨어 황사 방역 마스크 KF94/미세먼지 마스크 5개입', '가격': '13000원'},\n",
       " {'제품명': '성인용 대형 일회용 KF94 네퓨어 미세먼지 황사 마스크 5매/10매/20매 국내생산', '가격': '11900원'},\n",
       " {'제품명': '뉴네퓨어 개별포장 KF94 대형 당일발송 황사마스크', '가격': '14900원'},\n",
       " {'제품명': '파인텍 네퓨어 KF94 10매 황사 미세먼지 일회용마스크', '가격': '25900원'}]"
      ]
     },
     "execution_count": 57,
     "metadata": {},
     "output_type": "execute_result"
    }
   ],
   "source": [
    "# 수집 결과를 누적할 빈 리스트\n",
    "data_list = []\n",
    "\n",
    "for info in info_list:\n",
    "    # 하나의 상품 정보를 보관할 딕셔너리\n",
    "    item_dict = {}\n",
    "        \n",
    "    #------------------------------------------\n",
    "    # 1) 상품명 추출\n",
    "    #------------------------------------------\n",
    "    # -> class 이름으로 상품명 영역 추출\n",
    "    title_list = info.select('.basicList_title__3P9Q7 > a')\n",
    "    # -> 상품명은 하나만 존재하므로 0번째에 직접 접근하여 딕셔너리에 추가\n",
    "    item_dict['제품명'] = title_list[0].text.strip()\n",
    "        \n",
    "    #------------------------------------------\n",
    "    # 2) 가격 추출\n",
    "    #------------------------------------------\n",
    "    # -> class 이름으로 가격 영역 추출\n",
    "    price_list = info.select('.price_num__2WUXn')\n",
    "    # -> 가격은 하나만 존재하므로 0번째에 직접 접근하여 텍스트 추출\n",
    "    price = price_list[0].text.strip()\n",
    "    # -> 상품 가격에 포함된 콤마를 빈 문자열로 변경\n",
    "    price = price.replace(\",\", \"\")\n",
    "    # -> 정수형으로 변환된 결과를 빈 딕셔너리에 추가\n",
    "    item_dict['가격'] = price\n",
    "    #print(item_dict)\n",
    "        \n",
    "    #------------------------------------------\n",
    "    # 3) 스팩 정보 추출\n",
    "    #------------------------------------------\n",
    "    # -> class 이름으로 접근하여 그 하위의 링크 추출\n",
    "    spec_list = info.select('.basicList_mall_title__3MWFY > a')\n",
    "        \n",
    "    # -> 제품별로 스팩 항목이 여러개 이므로 추출된 결과만큼 반복\n",
    "    for v in spec_list:\n",
    "        v = v.text.strip() # 텍스트 추출\n",
    "        tmp = v.split(\":\") # 콜론으로 분리 (ex: 디스플레이 : 1920x1080 )\n",
    "            \n",
    "        if len(tmp) == 2:  # 길이가 2라면 key와 value로 분리하여 딕셔너리에 추가\n",
    "            key = tmp[0].strip()\n",
    "            value = tmp[1].strip()\n",
    "            item_dict[key] = value\n",
    "                \n",
    "    #------------------------------------------\n",
    "    # 4) 리스트에 추가\n",
    "    #------------------------------------------\n",
    "    data_list.append(item_dict)\n",
    "        \n",
    "data_list"
   ]
  },
  {
   "cell_type": "code",
   "execution_count": 58,
   "metadata": {},
   "outputs": [
    {
     "data": {
      "text/html": [
       "<div>\n",
       "<style scoped>\n",
       "    .dataframe tbody tr th:only-of-type {\n",
       "        vertical-align: middle;\n",
       "    }\n",
       "\n",
       "    .dataframe tbody tr th {\n",
       "        vertical-align: top;\n",
       "    }\n",
       "\n",
       "    .dataframe thead th {\n",
       "        text-align: right;\n",
       "    }\n",
       "</style>\n",
       "<table border=\"1\" class=\"dataframe\">\n",
       "  <thead>\n",
       "    <tr style=\"text-align: right;\">\n",
       "      <th></th>\n",
       "      <th>제품명</th>\n",
       "      <th>가격</th>\n",
       "    </tr>\n",
       "  </thead>\n",
       "  <tbody>\n",
       "    <tr>\n",
       "      <td>0</td>\n",
       "      <td>KF94 황사/미세먼지 마스크 5매 파인텍 대형 성인용 끈조절 마스크</td>\n",
       "      <td>11900원</td>\n",
       "    </tr>\n",
       "    <tr>\n",
       "      <td>1</td>\n",
       "      <td>파인텍 뉴네퓨어 황사 방역 마스크 KF94/미세먼지 마스크 5개입</td>\n",
       "      <td>13000원</td>\n",
       "    </tr>\n",
       "    <tr>\n",
       "      <td>2</td>\n",
       "      <td>성인용 대형 일회용 KF94 네퓨어 미세먼지 황사 마스크 5매/10매/20매 국내생산</td>\n",
       "      <td>11900원</td>\n",
       "    </tr>\n",
       "    <tr>\n",
       "      <td>3</td>\n",
       "      <td>뉴네퓨어 개별포장 KF94 대형 당일발송 황사마스크</td>\n",
       "      <td>14900원</td>\n",
       "    </tr>\n",
       "    <tr>\n",
       "      <td>4</td>\n",
       "      <td>파인텍 네퓨어 KF94 10매 황사 미세먼지 일회용마스크</td>\n",
       "      <td>25900원</td>\n",
       "    </tr>\n",
       "  </tbody>\n",
       "</table>\n",
       "</div>"
      ],
      "text/plain": [
       "                                               제품명      가격\n",
       "0           KF94 황사/미세먼지 마스크 5매 파인텍 대형 성인용 끈조절 마스크  11900원\n",
       "1             파인텍 뉴네퓨어 황사 방역 마스크 KF94/미세먼지 마스크 5개입  13000원\n",
       "2  성인용 대형 일회용 KF94 네퓨어 미세먼지 황사 마스크 5매/10매/20매 국내생산  11900원\n",
       "3                     뉴네퓨어 개별포장 KF94 대형 당일발송 황사마스크  14900원\n",
       "4                  파인텍 네퓨어 KF94 10매 황사 미세먼지 일회용마스크  25900원"
      ]
     },
     "execution_count": 58,
     "metadata": {},
     "output_type": "execute_result"
    }
   ],
   "source": [
    "df = DataFrame(data_list)\n",
    "df"
   ]
  },
  {
   "cell_type": "code",
   "execution_count": 65,
   "metadata": {},
   "outputs": [
    {
     "ename": "TypeError",
     "evalue": "'NoneType' object is not subscriptable",
     "output_type": "error",
     "traceback": [
      "\u001b[1;31m---------------------------------------------------------------------------\u001b[0m",
      "\u001b[1;31mTypeError\u001b[0m                                 Traceback (most recent call last)",
      "\u001b[1;32m<ipython-input-65-36e4c6d27d35>\u001b[0m in \u001b[0;36m<module>\u001b[1;34m\u001b[0m\n\u001b[0;32m     38\u001b[0m     \u001b[1;31m# print(shop.ul['class'][0]=='mall_list')\u001b[0m\u001b[1;33m\u001b[0m\u001b[1;33m\u001b[0m\u001b[1;33m\u001b[0m\u001b[0m\n\u001b[0;32m     39\u001b[0m \u001b[1;33m\u001b[0m\u001b[0m\n\u001b[1;32m---> 40\u001b[1;33m     \u001b[1;32mif\u001b[0m\u001b[1;33m(\u001b[0m\u001b[0mshop\u001b[0m\u001b[1;33m.\u001b[0m\u001b[0mul\u001b[0m\u001b[1;33m[\u001b[0m\u001b[1;34m'class'\u001b[0m\u001b[1;33m]\u001b[0m\u001b[1;33m[\u001b[0m\u001b[1;36m0\u001b[0m\u001b[1;33m]\u001b[0m\u001b[1;33m==\u001b[0m\u001b[1;34m'mall_list'\u001b[0m\u001b[1;33m)\u001b[0m\u001b[1;33m:\u001b[0m\u001b[1;33m\u001b[0m\u001b[1;33m\u001b[0m\u001b[0m\n\u001b[0m\u001b[0;32m     41\u001b[0m         \u001b[0mshop_list\u001b[0m \u001b[1;33m=\u001b[0m \u001b[0mshop\u001b[0m\u001b[1;33m.\u001b[0m\u001b[0mfind_all\u001b[0m\u001b[1;33m(\u001b[0m\u001b[1;34m'li'\u001b[0m\u001b[1;33m)\u001b[0m\u001b[1;33m\u001b[0m\u001b[1;33m\u001b[0m\u001b[0m\n\u001b[0;32m     42\u001b[0m         \u001b[1;31m# print(len(shop_list))\u001b[0m\u001b[1;33m\u001b[0m\u001b[1;33m\u001b[0m\u001b[1;33m\u001b[0m\u001b[0m\n",
      "\u001b[1;31mTypeError\u001b[0m: 'NoneType' object is not subscriptable"
     ]
    }
   ],
   "source": [
    "from urllib.request import urlopen\n",
    "from bs4 import BeautifulSoup\n",
    "import pandas as pd\n",
    "import openpyxl\n",
    "import datetime\n",
    "\n",
    "now = datetime.datetime.now()\n",
    "nowDate = now.strftime('%Y-%m-%d')\n",
    "\n",
    "html = urlopen(\"https://search.shopping.naver.com/search/all?query=%ED%8C%8C%EC%9D%B8%ED%85%8D%2C+%EB%84%A4%ED%93%A8%EC%96%B4+%ED%99%A9%EC%82%AC%EB%B0%A9%EC%97%AD+%EB%A7%88%EC%8A%A4%ED%81%AC+KF94+%EB%8C%80%ED%98%95+-%EA%B3%B5%EA%B8%B0%EC%B2%AD%EC%A0%95%EA%B8%B0&cat_id=&frm=NVSHATC&exagency=true\") \n",
    "\n",
    "wb = openpyxl.Workbook()\n",
    "sheet1 = wb.active\n",
    "sheet1['A1'] = 'date'\n",
    "sheet1['B1'] = 'shop_name'\n",
    "sheet1['C1'] = 'prod_name'\n",
    "sheet1['D1'] = 'price'\n",
    "\n",
    "item_source = BeautifulSoup(html, \"html.parser\")\n",
    "\n",
    "item_view = item_source.find('ul', class_='list_basis')\n",
    "item_list = item_view.find_all('li', 'basicList_item__2XT81')\n",
    "# 상품명\n",
    "t_list = []\n",
    "# 가게명\n",
    "s_list = []\n",
    "# 가격\n",
    "p_list = []\n",
    "\n",
    "for item in item_list:\n",
    "    title = item.find('div', 'tit')\n",
    "    # t_list.append(title.a.text)\n",
    "    \n",
    "    shop = item.find('div', 'info_mall')\n",
    "    \n",
    "    # print(title.a.text)\n",
    "    # print(shop.ul['class'][0])\n",
    "    # print(shop.ul['class'][0]=='mall_list')\n",
    "    \n",
    "    if(shop.ul['class'][0]=='mall_list'):\n",
    "        shop_list = shop.find_all('li')\n",
    "        # print(len(shop_list))\n",
    "        \n",
    "        for shop in shop_list:\n",
    "            t_list.append(title.a.text)\n",
    "            s_list.append(shop.find('span','mall_name').text)\n",
    "            if '최저가' in shop.find('span','price').text:\n",
    "                # print(shop.find('span','price').text[3:])\n",
    "                p_list.append(shop.find('span','price').text[3:])\n",
    "            else:\n",
    "                p_list.append(shop.find('span','price').text)\n",
    "    \n",
    "    else:\n",
    "        #print(title.a.text)\n",
    "        t_list.append(title.a.text)\n",
    "        \n",
    "        #print(shop.find('a','_btn_mall_detail')['data-mall-name'])\n",
    "        #print(shop.find('a', 'mall_img').text)\n",
    "        s_list.append(shop.find('a','_btn_mall_detail')['data-mall-name'])\n",
    "        \n",
    "        #print(item.find('span','num _price_reload').text)\n",
    "        p_list.append(item.find('span','num _price_reload').text)\n",
    "    \n",
    "    \n",
    "pd.DataFrame({'상품명':t_list,'가게명':s_list,'가격':p_list})\n",
    "#, '가격':p_list, '리뷰수':m_list, '구매건수':n_list\n",
    "\n",
    "\n"
   ]
  },
  {
   "cell_type": "code",
   "execution_count": 62,
   "metadata": {},
   "outputs": [
    {
     "data": {
      "text/html": [
       "<div>\n",
       "<style scoped>\n",
       "    .dataframe tbody tr th:only-of-type {\n",
       "        vertical-align: middle;\n",
       "    }\n",
       "\n",
       "    .dataframe tbody tr th {\n",
       "        vertical-align: top;\n",
       "    }\n",
       "\n",
       "    .dataframe thead th {\n",
       "        text-align: right;\n",
       "    }\n",
       "</style>\n",
       "<table border=\"1\" class=\"dataframe\">\n",
       "  <thead>\n",
       "    <tr style=\"text-align: right;\">\n",
       "      <th></th>\n",
       "      <th>상품명</th>\n",
       "      <th>가게명</th>\n",
       "      <th>가격</th>\n",
       "    </tr>\n",
       "  </thead>\n",
       "  <tbody>\n",
       "  </tbody>\n",
       "</table>\n",
       "</div>"
      ],
      "text/plain": [
       "Empty DataFrame\n",
       "Columns: [상품명, 가게명, 가격]\n",
       "Index: []"
      ]
     },
     "execution_count": 62,
     "metadata": {},
     "output_type": "execute_result"
    }
   ],
   "source": [
    "\n"
   ]
  },
  {
   "cell_type": "code",
   "execution_count": 11,
   "metadata": {},
   "outputs": [
    {
     "name": "stdout",
     "output_type": "stream",
     "text": [
      "수집된 상품 수: 5\n"
     ]
    }
   ],
   "source": [
    "import requests                     # -> 웹 페이지 요청 모듈\n",
    "import urllib                       # -> URLEncoding을 위한 모듈\n",
    "from bs4 import BeautifulSoup       # -> 웹 페이지 소스코드 분석 모듈\n",
    "from pandas import DataFrame        # -> 데이터 프레임\n",
    "\n",
    "html = urlopen(\"https://search.shopping.naver.com/search/all?query=%ED%8C%8C%EC%9D%B8%ED%85%8D%2C+%EB%84%A4%ED%93%A8%EC%96%B4+%ED%99%A9%EC%82%AC%EB%B0%A9%EC%97%AD+%EB%A7%88%EC%8A%A4%ED%81%AC+KF94+%EB%8C%80%ED%98%95+-%EA%B3%B5%EA%B8%B0%EC%B2%AD%EC%A0%95%EA%B8%B0&cat_id=&frm=NVSHATC&exagency=true\") \n",
    "bsObject = BeautifulSoup(html,\"html.parser\")\n",
    "\n",
    "info_list = bsObject.select(\".basicList_item__2XT81\")\n",
    "print(\"수집된 상품 수: %d\" % (len(info_list)))"
   ]
  },
  {
   "cell_type": "code",
   "execution_count": null,
   "metadata": {},
   "outputs": [],
   "source": [
    "soup = BeautifulSoup(html, \"html.parser\")\n",
    "\n",
    "item_view = soup.find('ul', class_='list_basis')\n",
    "i_l = item_view.find('li')\n",
    "item_list = item_view.find_all('div', '_itemSection')\n",
    "item_list2 = item_view.find_all('li', '_model_list')\n",
    "\n",
    "print(len(item_list))\n",
    "print(len(item_list2))\n",
    "\n",
    "item_view.li['class']\n",
    "\n",
    "info_list = soup.select(\".basicList_item__2XT81\")\n",
    "print(\"수집된 상품 수: %d\" % (len(info_list)))"
   ]
  },
  {
   "cell_type": "code",
   "execution_count": null,
   "metadata": {},
   "outputs": [],
   "source": [
    "ㅇㄹㄹㄹㄹ"
   ]
  }
 ],
 "metadata": {
  "kernelspec": {
   "display_name": "Python 3",
   "language": "python",
   "name": "python3"
  },
  "language_info": {
   "codemirror_mode": {
    "name": "ipython",
    "version": 3
   },
   "file_extension": ".py",
   "mimetype": "text/x-python",
   "name": "python",
   "nbconvert_exporter": "python",
   "pygments_lexer": "ipython3",
   "version": "3.7.4"
  }
 },
 "nbformat": 4,
 "nbformat_minor": 2
}
